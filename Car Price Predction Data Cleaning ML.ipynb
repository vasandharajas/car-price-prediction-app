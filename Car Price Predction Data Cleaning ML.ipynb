{
 "cells": [
  {
   "cell_type": "code",
   "execution_count": 2,
   "id": "e1a5631b-f254-46fe-9a73-3f361ddb0a10",
   "metadata": {},
   "outputs": [],
   "source": [
    "import pandas as pd"
   ]
  },
  {
   "cell_type": "code",
   "execution_count": 3,
   "id": "2b8e13af-4fb7-49f6-97a8-875af0763399",
   "metadata": {},
   "outputs": [],
   "source": [
    "import numpy as np"
   ]
  },
  {
   "cell_type": "code",
   "execution_count": 4,
   "id": "0f15c487-76e7-4b43-b33b-b28aa82dc805",
   "metadata": {},
   "outputs": [],
   "source": [
    "from sklearn.preprocessing import LabelEncoder"
   ]
  },
  {
   "cell_type": "code",
   "execution_count": 5,
   "id": "a431ef84-bd15-4e98-9182-7d26e17943b7",
   "metadata": {},
   "outputs": [],
   "source": [
    "from sklearn.preprocessing import MinMaxScaler, StandardScaler"
   ]
  },
  {
   "cell_type": "code",
   "execution_count": 6,
   "id": "d5c4a76e-72d3-4513-a310-a97a7ef5d3d3",
   "metadata": {},
   "outputs": [],
   "source": [
    "from scipy import stats"
   ]
  },
  {
   "cell_type": "code",
   "execution_count": 7,
   "id": "dd887650-1947-46ce-a405-065232fce55f",
   "metadata": {},
   "outputs": [],
   "source": [
    "from scipy.stats import zscore"
   ]
  },
  {
   "cell_type": "code",
   "execution_count": 8,
   "id": "2c644616-f639-4d86-96d8-1cb13fa8adab",
   "metadata": {},
   "outputs": [],
   "source": [
    "import ast"
   ]
  },
  {
   "cell_type": "code",
   "execution_count": 9,
   "id": "b3ed8b07-bd6d-4ee9-b297-16d5d587f49c",
   "metadata": {},
   "outputs": [],
   "source": [
    "import re"
   ]
  },
  {
   "cell_type": "code",
   "execution_count": 10,
   "id": "85304871-4044-47f0-9dc4-83dc3004e07e",
   "metadata": {},
   "outputs": [],
   "source": [
    "import matplotlib.pyplot as plt"
   ]
  },
  {
   "cell_type": "code",
   "execution_count": 11,
   "id": "dcdfc396-4123-4962-802c-1b62080043d3",
   "metadata": {},
   "outputs": [],
   "source": [
    "import seaborn as sns"
   ]
  },
  {
   "cell_type": "markdown",
   "id": "ac59dbee-b895-4e3c-a17d-5d4e7daa267b",
   "metadata": {},
   "source": [
    "IMOPRT THE DATASET ONE BY ONE"
   ]
  },
  {
   "cell_type": "code",
   "execution_count": 13,
   "id": "ec167156-5378-4489-a820-a9efe9397425",
   "metadata": {},
   "outputs": [],
   "source": [
    "chennai_df = pd.read_excel(\"C:/Users/anand/Desktop/CarDekho Prediction Project Files/chennai_cars.xlsx\")\n",
    "hyderabad_df = pd.read_excel(\"C:/Users/anand/Desktop/CarDekho Prediction Project Files/hyderabad_cars.xlsx\")\n",
    "jaipur_df = pd.read_excel(\"C:/Users/anand/Desktop/CarDekho Prediction Project Files/jaipur_cars.xlsx\")\n",
    "delhi_df = pd.read_excel(\"C:/Users/anand/Desktop/CarDekho Prediction Project Files/delhi_cars.xlsx\")\n",
    "bangalore_df = pd.read_excel(\"C:/Users/anand/Desktop/CarDekho Prediction Project Files/bangalore_cars.xlsx\")\n",
    "kolkata_df = pd.read_excel(\"C:/Users/anand/Desktop/CarDekho Prediction Project Files/kolkata_cars.xlsx\")"
   ]
  },
  {
   "cell_type": "code",
   "execution_count": 14,
   "id": "951e4e6c-a466-4bdc-ab47-5559923a8af0",
   "metadata": {},
   "outputs": [],
   "source": [
    "chennai_df['city'] = 'Chennai'\n",
    "hyderabad_df['city'] = 'Hyderabad'\n",
    "jaipur_df['city'] = 'Jaipur'\n",
    "delhi_df['city'] = 'Delhi'\n",
    "bangalore_df['city'] = 'Bangalore'\n",
    "kolkata_df['city'] = 'Kolkata'"
   ]
  },
  {
   "cell_type": "markdown",
   "id": "ada332e7-804f-4c9a-8e11-ac6063fb680c",
   "metadata": {},
   "source": [
    "CONCATENATE THE ALL CITY DATASET IN SINGLE DF"
   ]
  },
  {
   "cell_type": "code",
   "execution_count": 16,
   "id": "003fe477-b954-4bbc-804a-a1987f7b6389",
   "metadata": {},
   "outputs": [],
   "source": [
    "all_cities_df = pd.concat([chennai_df, hyderabad_df, jaipur_df, delhi_df, bangalore_df, kolkata_df], ignore_index=True)"
   ]
  },
  {
   "cell_type": "code",
   "execution_count": 17,
   "id": "42c24d57-d9e8-44a3-acb3-91b525cb7cf5",
   "metadata": {},
   "outputs": [
    {
     "data": {
      "text/html": [
       "<div>\n",
       "<style scoped>\n",
       "    .dataframe tbody tr th:only-of-type {\n",
       "        vertical-align: middle;\n",
       "    }\n",
       "\n",
       "    .dataframe tbody tr th {\n",
       "        vertical-align: top;\n",
       "    }\n",
       "\n",
       "    .dataframe thead th {\n",
       "        text-align: right;\n",
       "    }\n",
       "</style>\n",
       "<table border=\"1\" class=\"dataframe\">\n",
       "  <thead>\n",
       "    <tr style=\"text-align: right;\">\n",
       "      <th></th>\n",
       "      <th>new_car_detail</th>\n",
       "      <th>new_car_overview</th>\n",
       "      <th>new_car_feature</th>\n",
       "      <th>new_car_specs</th>\n",
       "      <th>car_links</th>\n",
       "      <th>city</th>\n",
       "    </tr>\n",
       "  </thead>\n",
       "  <tbody>\n",
       "    <tr>\n",
       "      <th>0</th>\n",
       "      <td>{'it': 0, 'ft': 'Petrol', 'bt': 'SUV', 'km': '...</td>\n",
       "      <td>{'heading': 'Car overview', 'top': [{'key': 'R...</td>\n",
       "      <td>{'heading': 'Features', 'top': [{'value': 'Pow...</td>\n",
       "      <td>{'heading': 'Specifications', 'top': [{'key': ...</td>\n",
       "      <td>https://www.cardekho.com/used-car-details/used...</td>\n",
       "      <td>Chennai</td>\n",
       "    </tr>\n",
       "    <tr>\n",
       "      <th>1</th>\n",
       "      <td>{'it': 0, 'ft': 'Petrol', 'bt': 'Minivans', 'k...</td>\n",
       "      <td>{'heading': 'Car overview', 'top': [{'key': 'R...</td>\n",
       "      <td>{'heading': 'Features', 'top': [{'value': 'Low...</td>\n",
       "      <td>{'heading': 'Specifications', 'top': [{'key': ...</td>\n",
       "      <td>https://www.cardekho.com/buy-used-car-details/...</td>\n",
       "      <td>Chennai</td>\n",
       "    </tr>\n",
       "    <tr>\n",
       "      <th>2</th>\n",
       "      <td>{'it': 0, 'ft': 'Petrol', 'bt': 'SUV', 'km': '...</td>\n",
       "      <td>{'heading': 'Car overview', 'top': [{'key': 'R...</td>\n",
       "      <td>{'heading': 'Features', 'top': [{'value': 'Pow...</td>\n",
       "      <td>{'heading': 'Specifications', 'top': [{'key': ...</td>\n",
       "      <td>https://www.cardekho.com/used-car-details/used...</td>\n",
       "      <td>Chennai</td>\n",
       "    </tr>\n",
       "    <tr>\n",
       "      <th>3</th>\n",
       "      <td>{'it': 0, 'ft': 'Petrol', 'bt': 'Hatchback', '...</td>\n",
       "      <td>{'heading': 'Car overview', 'top': [{'key': 'R...</td>\n",
       "      <td>{'heading': 'Features', 'top': [{'value': 'Pow...</td>\n",
       "      <td>{'heading': 'Specifications', 'top': [{'key': ...</td>\n",
       "      <td>https://www.cardekho.com/buy-used-car-details/...</td>\n",
       "      <td>Chennai</td>\n",
       "    </tr>\n",
       "    <tr>\n",
       "      <th>4</th>\n",
       "      <td>{'it': 0, 'ft': 'Petrol', 'bt': 'Hatchback', '...</td>\n",
       "      <td>{'heading': 'Car overview', 'top': [{'key': 'R...</td>\n",
       "      <td>{'heading': 'Features', 'top': [{'value': 'Pow...</td>\n",
       "      <td>{'heading': 'Specifications', 'top': [{'key': ...</td>\n",
       "      <td>https://www.cardekho.com/used-car-details/used...</td>\n",
       "      <td>Chennai</td>\n",
       "    </tr>\n",
       "    <tr>\n",
       "      <th>...</th>\n",
       "      <td>...</td>\n",
       "      <td>...</td>\n",
       "      <td>...</td>\n",
       "      <td>...</td>\n",
       "      <td>...</td>\n",
       "      <td>...</td>\n",
       "    </tr>\n",
       "    <tr>\n",
       "      <th>8364</th>\n",
       "      <td>{'it': 0, 'ft': 'Petrol', 'bt': 'Hatchback', '...</td>\n",
       "      <td>{'heading': 'Car overview', 'top': [{'key': 'R...</td>\n",
       "      <td>{'heading': 'Features', 'top': [{'value': 'Pow...</td>\n",
       "      <td>{'heading': 'Specifications', 'top': [{'key': ...</td>\n",
       "      <td>https://www.cardekho.com/used-car-details/used...</td>\n",
       "      <td>Kolkata</td>\n",
       "    </tr>\n",
       "    <tr>\n",
       "      <th>8365</th>\n",
       "      <td>{'it': 0, 'ft': 'Petrol', 'bt': 'Hatchback', '...</td>\n",
       "      <td>{'heading': 'Car overview', 'top': [{'key': 'R...</td>\n",
       "      <td>{'heading': 'Features', 'top': [{'value': 'Pow...</td>\n",
       "      <td>{'heading': 'Specifications', 'top': [{'key': ...</td>\n",
       "      <td>https://www.cardekho.com/used-car-details/used...</td>\n",
       "      <td>Kolkata</td>\n",
       "    </tr>\n",
       "    <tr>\n",
       "      <th>8366</th>\n",
       "      <td>{'it': 0, 'ft': 'Petrol', 'bt': 'Sedan', 'km':...</td>\n",
       "      <td>{'heading': 'Car overview', 'top': [{'key': 'R...</td>\n",
       "      <td>{'heading': 'Features', 'top': [{'value': 'Pow...</td>\n",
       "      <td>{'heading': 'Specifications', 'top': [{'key': ...</td>\n",
       "      <td>https://www.cardekho.com/used-car-details/used...</td>\n",
       "      <td>Kolkata</td>\n",
       "    </tr>\n",
       "    <tr>\n",
       "      <th>8367</th>\n",
       "      <td>{'it': 0, 'ft': 'Petrol', 'bt': 'Hatchback', '...</td>\n",
       "      <td>{'heading': 'Car overview', 'top': [{'key': 'R...</td>\n",
       "      <td>{'heading': 'Features', 'top': [{'value': 'Pow...</td>\n",
       "      <td>{'heading': 'Specifications', 'top': [{'key': ...</td>\n",
       "      <td>https://www.cardekho.com/used-car-details/used...</td>\n",
       "      <td>Kolkata</td>\n",
       "    </tr>\n",
       "    <tr>\n",
       "      <th>8368</th>\n",
       "      <td>{'it': 0, 'ft': 'Diesel', 'bt': 'SUV', 'km': '...</td>\n",
       "      <td>{'heading': 'Car overview', 'top': [{'key': 'R...</td>\n",
       "      <td>{'heading': 'Features', 'top': [{'value': 'Pow...</td>\n",
       "      <td>{'heading': 'Specifications', 'top': [{'key': ...</td>\n",
       "      <td>https://www.cardekho.com/used-car-details/used...</td>\n",
       "      <td>Kolkata</td>\n",
       "    </tr>\n",
       "  </tbody>\n",
       "</table>\n",
       "<p>8369 rows × 6 columns</p>\n",
       "</div>"
      ],
      "text/plain": [
       "                                         new_car_detail  \\\n",
       "0     {'it': 0, 'ft': 'Petrol', 'bt': 'SUV', 'km': '...   \n",
       "1     {'it': 0, 'ft': 'Petrol', 'bt': 'Minivans', 'k...   \n",
       "2     {'it': 0, 'ft': 'Petrol', 'bt': 'SUV', 'km': '...   \n",
       "3     {'it': 0, 'ft': 'Petrol', 'bt': 'Hatchback', '...   \n",
       "4     {'it': 0, 'ft': 'Petrol', 'bt': 'Hatchback', '...   \n",
       "...                                                 ...   \n",
       "8364  {'it': 0, 'ft': 'Petrol', 'bt': 'Hatchback', '...   \n",
       "8365  {'it': 0, 'ft': 'Petrol', 'bt': 'Hatchback', '...   \n",
       "8366  {'it': 0, 'ft': 'Petrol', 'bt': 'Sedan', 'km':...   \n",
       "8367  {'it': 0, 'ft': 'Petrol', 'bt': 'Hatchback', '...   \n",
       "8368  {'it': 0, 'ft': 'Diesel', 'bt': 'SUV', 'km': '...   \n",
       "\n",
       "                                       new_car_overview  \\\n",
       "0     {'heading': 'Car overview', 'top': [{'key': 'R...   \n",
       "1     {'heading': 'Car overview', 'top': [{'key': 'R...   \n",
       "2     {'heading': 'Car overview', 'top': [{'key': 'R...   \n",
       "3     {'heading': 'Car overview', 'top': [{'key': 'R...   \n",
       "4     {'heading': 'Car overview', 'top': [{'key': 'R...   \n",
       "...                                                 ...   \n",
       "8364  {'heading': 'Car overview', 'top': [{'key': 'R...   \n",
       "8365  {'heading': 'Car overview', 'top': [{'key': 'R...   \n",
       "8366  {'heading': 'Car overview', 'top': [{'key': 'R...   \n",
       "8367  {'heading': 'Car overview', 'top': [{'key': 'R...   \n",
       "8368  {'heading': 'Car overview', 'top': [{'key': 'R...   \n",
       "\n",
       "                                        new_car_feature  \\\n",
       "0     {'heading': 'Features', 'top': [{'value': 'Pow...   \n",
       "1     {'heading': 'Features', 'top': [{'value': 'Low...   \n",
       "2     {'heading': 'Features', 'top': [{'value': 'Pow...   \n",
       "3     {'heading': 'Features', 'top': [{'value': 'Pow...   \n",
       "4     {'heading': 'Features', 'top': [{'value': 'Pow...   \n",
       "...                                                 ...   \n",
       "8364  {'heading': 'Features', 'top': [{'value': 'Pow...   \n",
       "8365  {'heading': 'Features', 'top': [{'value': 'Pow...   \n",
       "8366  {'heading': 'Features', 'top': [{'value': 'Pow...   \n",
       "8367  {'heading': 'Features', 'top': [{'value': 'Pow...   \n",
       "8368  {'heading': 'Features', 'top': [{'value': 'Pow...   \n",
       "\n",
       "                                          new_car_specs  \\\n",
       "0     {'heading': 'Specifications', 'top': [{'key': ...   \n",
       "1     {'heading': 'Specifications', 'top': [{'key': ...   \n",
       "2     {'heading': 'Specifications', 'top': [{'key': ...   \n",
       "3     {'heading': 'Specifications', 'top': [{'key': ...   \n",
       "4     {'heading': 'Specifications', 'top': [{'key': ...   \n",
       "...                                                 ...   \n",
       "8364  {'heading': 'Specifications', 'top': [{'key': ...   \n",
       "8365  {'heading': 'Specifications', 'top': [{'key': ...   \n",
       "8366  {'heading': 'Specifications', 'top': [{'key': ...   \n",
       "8367  {'heading': 'Specifications', 'top': [{'key': ...   \n",
       "8368  {'heading': 'Specifications', 'top': [{'key': ...   \n",
       "\n",
       "                                              car_links     city  \n",
       "0     https://www.cardekho.com/used-car-details/used...  Chennai  \n",
       "1     https://www.cardekho.com/buy-used-car-details/...  Chennai  \n",
       "2     https://www.cardekho.com/used-car-details/used...  Chennai  \n",
       "3     https://www.cardekho.com/buy-used-car-details/...  Chennai  \n",
       "4     https://www.cardekho.com/used-car-details/used...  Chennai  \n",
       "...                                                 ...      ...  \n",
       "8364  https://www.cardekho.com/used-car-details/used...  Kolkata  \n",
       "8365  https://www.cardekho.com/used-car-details/used...  Kolkata  \n",
       "8366  https://www.cardekho.com/used-car-details/used...  Kolkata  \n",
       "8367  https://www.cardekho.com/used-car-details/used...  Kolkata  \n",
       "8368  https://www.cardekho.com/used-car-details/used...  Kolkata  \n",
       "\n",
       "[8369 rows x 6 columns]"
      ]
     },
     "execution_count": 17,
     "metadata": {},
     "output_type": "execute_result"
    }
   ],
   "source": [
    "all_cities_df"
   ]
  },
  {
   "cell_type": "markdown",
   "id": "22e1f048-4079-4ae5-920a-2b2d9c9e9897",
   "metadata": {},
   "source": [
    " TO DROP THE CAR_LINK COLUMNS "
   ]
  },
  {
   "cell_type": "code",
   "execution_count": 19,
   "id": "92fb22ff-c6b0-4ad3-966b-8e43bd59b686",
   "metadata": {},
   "outputs": [],
   "source": [
    "all_cities_df = all_cities_df.drop(['car_links'], axis=1)"
   ]
  },
  {
   "cell_type": "markdown",
   "id": "97e089d7-c444-40a8-8838-eaf5f742305c",
   "metadata": {},
   "source": [
    " CONVERT THE STRING FORMAT DATA INTO DICTIONARY [LIKE 'DETAILS', 'OVERVIEW', 'FEATURE', 'SPECIFICATION']\n",
    "  AND NEW CAR DETAILS TO GET FLATTENED DATAFRAME IN JSON"
   ]
  },
  {
   "cell_type": "code",
   "execution_count": 21,
   "id": "34f7fea5-f70f-4515-8635-6aff39029d07",
   "metadata": {},
   "outputs": [],
   "source": [
    "all_cities_df['new_car_detail'] = all_cities_df['new_car_detail'].apply(ast.literal_eval)\n",
    "all_cities_df['new_car_overview'] = all_cities_df['new_car_overview'].apply(ast.literal_eval)\n",
    "all_cities_df['new_car_feature'] = all_cities_df['new_car_feature'].apply(ast.literal_eval)\n",
    "all_cities_df['new_car_specs'] = all_cities_df['new_car_specs'].apply(ast.literal_eval)"
   ]
  },
  {
   "cell_type": "code",
   "execution_count": 22,
   "id": "e8f0faa7-763a-4dad-a20a-510a5d619379",
   "metadata": {},
   "outputs": [
    {
     "data": {
      "text/html": [
       "<div>\n",
       "<style scoped>\n",
       "    .dataframe tbody tr th:only-of-type {\n",
       "        vertical-align: middle;\n",
       "    }\n",
       "\n",
       "    .dataframe tbody tr th {\n",
       "        vertical-align: top;\n",
       "    }\n",
       "\n",
       "    .dataframe thead th {\n",
       "        text-align: right;\n",
       "    }\n",
       "</style>\n",
       "<table border=\"1\" class=\"dataframe\">\n",
       "  <thead>\n",
       "    <tr style=\"text-align: right;\">\n",
       "      <th></th>\n",
       "      <th>it</th>\n",
       "      <th>ft</th>\n",
       "      <th>bt</th>\n",
       "      <th>km</th>\n",
       "      <th>transmission</th>\n",
       "      <th>ownerNo</th>\n",
       "      <th>owner</th>\n",
       "      <th>oem</th>\n",
       "      <th>model</th>\n",
       "      <th>modelYear</th>\n",
       "      <th>centralVariantId</th>\n",
       "      <th>variantName</th>\n",
       "      <th>price</th>\n",
       "      <th>priceActual</th>\n",
       "      <th>priceSaving</th>\n",
       "      <th>priceFixedText</th>\n",
       "      <th>trendingText.imgUrl</th>\n",
       "      <th>trendingText.heading</th>\n",
       "      <th>trendingText.desc</th>\n",
       "    </tr>\n",
       "  </thead>\n",
       "  <tbody>\n",
       "    <tr>\n",
       "      <th>0</th>\n",
       "      <td>0</td>\n",
       "      <td>Petrol</td>\n",
       "      <td>SUV</td>\n",
       "      <td>20,000</td>\n",
       "      <td>Automatic</td>\n",
       "      <td>1</td>\n",
       "      <td>1st Owner</td>\n",
       "      <td>Kia</td>\n",
       "      <td>Kia Sonet</td>\n",
       "      <td>2022</td>\n",
       "      <td>8654</td>\n",
       "      <td>Turbo DCT Anniversary Edition</td>\n",
       "      <td>₹ 11.50 Lakh</td>\n",
       "      <td></td>\n",
       "      <td></td>\n",
       "      <td>None</td>\n",
       "      <td>https://stimg.cardekho.com/used-cars/common/ic...</td>\n",
       "      <td>Trending Car!</td>\n",
       "      <td>High chances of sale in next 6 days</td>\n",
       "    </tr>\n",
       "  </tbody>\n",
       "</table>\n",
       "</div>"
      ],
      "text/plain": [
       "   it      ft   bt      km transmission  ownerNo      owner  oem      model  \\\n",
       "0   0  Petrol  SUV  20,000    Automatic        1  1st Owner  Kia  Kia Sonet   \n",
       "\n",
       "   modelYear  centralVariantId                    variantName         price  \\\n",
       "0       2022              8654  Turbo DCT Anniversary Edition  ₹ 11.50 Lakh   \n",
       "\n",
       "  priceActual priceSaving priceFixedText  \\\n",
       "0                                   None   \n",
       "\n",
       "                                 trendingText.imgUrl trendingText.heading  \\\n",
       "0  https://stimg.cardekho.com/used-cars/common/ic...        Trending Car!   \n",
       "\n",
       "                     trendingText.desc  \n",
       "0  High chances of sale in next 6 days  "
      ]
     },
     "execution_count": 22,
     "metadata": {},
     "output_type": "execute_result"
    }
   ],
   "source": [
    "details = pd.json_normalize(all_cities_df['new_car_detail'])\n",
    "details.head(1)"
   ]
  },
  {
   "cell_type": "code",
   "execution_count": 23,
   "id": "00c28f18-d6ae-4c8c-9ae5-736b69c53164",
   "metadata": {},
   "outputs": [
    {
     "data": {
      "text/plain": [
       "{'heading': 'Car overview',\n",
       " 'top': [{'key': 'Registration Year',\n",
       "   'value': '2022',\n",
       "   'icon': 'https://images10.gaadi.com/listing/vdp/co/v1/registrationYear.svg'},\n",
       "  {'key': 'Insurance Validity',\n",
       "   'value': 'Third Party insurance',\n",
       "   'icon': 'https://images10.gaadi.com/listing/vdp/co/v1/insuranceValidity.svg'},\n",
       "  {'key': 'Fuel Type',\n",
       "   'value': 'Petrol',\n",
       "   'icon': 'https://images10.gaadi.com/listing/vdp/co/v1/fuel.svg'},\n",
       "  {'key': 'Seats',\n",
       "   'value': '5 Seats',\n",
       "   'icon': 'https://images10.gaadi.com/listing/vdp/co/v1/seats.svg'},\n",
       "  {'key': 'Kms Driven',\n",
       "   'value': '20,000 Kms',\n",
       "   'icon': 'https://images10.gaadi.com/listing/vdp/co/v1/kmsDriven.svg'},\n",
       "  {'key': 'RTO',\n",
       "   'value': 'TN02',\n",
       "   'icon': 'https://images10.gaadi.com/listing/vdp/co/v1/rto.svg'},\n",
       "  {'key': 'Ownership',\n",
       "   'value': 'First Owner',\n",
       "   'icon': 'https://images10.gaadi.com/listing/vdp/co/v1/ownership.svg'},\n",
       "  {'key': 'Engine Displacement',\n",
       "   'value': '998 cc',\n",
       "   'icon': 'https://images10.gaadi.com/listing/vdp/co/v1/engineDisplacement.svg'},\n",
       "  {'key': 'Transmission',\n",
       "   'value': 'Automatic',\n",
       "   'icon': 'https://images10.gaadi.com/listing/vdp/co/v1/transmission.svg'},\n",
       "  {'key': 'Year of Manufacture',\n",
       "   'value': 2022,\n",
       "   'icon': 'https://images10.gaadi.com/listing/vdp/co/v1/yearManufacture.svg'}],\n",
       " 'bottomData': None}"
      ]
     },
     "execution_count": 23,
     "metadata": {},
     "output_type": "execute_result"
    }
   ],
   "source": [
    "all_cities_df['new_car_overview'][0]"
   ]
  },
  {
   "cell_type": "markdown",
   "id": "38f3a756-1a3a-415f-a24a-2f09c995623a",
   "metadata": {},
   "source": [
    " NEW CAR OVERVIEW DATA WHICH IS INSIDE IN \"TOP\"[ \"KEY\", \"VALUE\"]"
   ]
  },
  {
   "cell_type": "code",
   "execution_count": 25,
   "id": "029ebf0f-2da8-4de6-86d6-160529c9bc7c",
   "metadata": {
    "scrolled": true
   },
   "outputs": [
    {
     "data": {
      "text/html": [
       "<div>\n",
       "<style scoped>\n",
       "    .dataframe tbody tr th:only-of-type {\n",
       "        vertical-align: middle;\n",
       "    }\n",
       "\n",
       "    .dataframe tbody tr th {\n",
       "        vertical-align: top;\n",
       "    }\n",
       "\n",
       "    .dataframe thead th {\n",
       "        text-align: right;\n",
       "    }\n",
       "</style>\n",
       "<table border=\"1\" class=\"dataframe\">\n",
       "  <thead>\n",
       "    <tr style=\"text-align: right;\">\n",
       "      <th></th>\n",
       "      <th>Registration Year</th>\n",
       "      <th>Insurance Validity</th>\n",
       "      <th>Fuel Type</th>\n",
       "      <th>Seats</th>\n",
       "      <th>Kms Driven</th>\n",
       "      <th>RTO</th>\n",
       "      <th>Ownership</th>\n",
       "      <th>Engine Displacement</th>\n",
       "      <th>Transmission</th>\n",
       "      <th>Year of Manufacture</th>\n",
       "    </tr>\n",
       "  </thead>\n",
       "  <tbody>\n",
       "    <tr>\n",
       "      <th>0</th>\n",
       "      <td>2022</td>\n",
       "      <td>Third Party insurance</td>\n",
       "      <td>Petrol</td>\n",
       "      <td>5 Seats</td>\n",
       "      <td>20,000 Kms</td>\n",
       "      <td>TN02</td>\n",
       "      <td>First Owner</td>\n",
       "      <td>998 cc</td>\n",
       "      <td>Automatic</td>\n",
       "      <td>2022.0</td>\n",
       "    </tr>\n",
       "    <tr>\n",
       "      <th>1</th>\n",
       "      <td>Feb 2015</td>\n",
       "      <td>Comprehensive</td>\n",
       "      <td>Petrol</td>\n",
       "      <td>7 Seats</td>\n",
       "      <td>20,687 Kms</td>\n",
       "      <td>TN04</td>\n",
       "      <td>First Owner</td>\n",
       "      <td>1196 cc</td>\n",
       "      <td>Manual</td>\n",
       "      <td>2015.0</td>\n",
       "    </tr>\n",
       "    <tr>\n",
       "      <th>2</th>\n",
       "      <td>2021</td>\n",
       "      <td>Third Party insurance</td>\n",
       "      <td>Petrol</td>\n",
       "      <td>5 Seats</td>\n",
       "      <td>30,000 Kms</td>\n",
       "      <td>TN22</td>\n",
       "      <td>First Owner</td>\n",
       "      <td>999 cc</td>\n",
       "      <td>Manual</td>\n",
       "      <td>2021.0</td>\n",
       "    </tr>\n",
       "    <tr>\n",
       "      <th>3</th>\n",
       "      <td>May 2015</td>\n",
       "      <td>Comprehensive</td>\n",
       "      <td>Petrol</td>\n",
       "      <td>5 Seats</td>\n",
       "      <td>59,247 Kms</td>\n",
       "      <td>TN11</td>\n",
       "      <td>First Owner</td>\n",
       "      <td>1086 cc</td>\n",
       "      <td>Manual</td>\n",
       "      <td>2015.0</td>\n",
       "    </tr>\n",
       "    <tr>\n",
       "      <th>4</th>\n",
       "      <td>2015</td>\n",
       "      <td>Third Party insurance</td>\n",
       "      <td>Petrol</td>\n",
       "      <td>5 Seats</td>\n",
       "      <td>50,000 Kms</td>\n",
       "      <td>KA03</td>\n",
       "      <td>First Owner</td>\n",
       "      <td>1199 cc</td>\n",
       "      <td>Manual</td>\n",
       "      <td>2015.0</td>\n",
       "    </tr>\n",
       "    <tr>\n",
       "      <th>...</th>\n",
       "      <td>...</td>\n",
       "      <td>...</td>\n",
       "      <td>...</td>\n",
       "      <td>...</td>\n",
       "      <td>...</td>\n",
       "      <td>...</td>\n",
       "      <td>...</td>\n",
       "      <td>...</td>\n",
       "      <td>...</td>\n",
       "      <td>...</td>\n",
       "    </tr>\n",
       "    <tr>\n",
       "      <th>8364</th>\n",
       "      <td>2022</td>\n",
       "      <td>Third Party insurance</td>\n",
       "      <td>Petrol</td>\n",
       "      <td>5 Seats</td>\n",
       "      <td>10,000 Kms</td>\n",
       "      <td>NaN</td>\n",
       "      <td>First Owner</td>\n",
       "      <td>998 cc</td>\n",
       "      <td>Manual</td>\n",
       "      <td>2022.0</td>\n",
       "    </tr>\n",
       "    <tr>\n",
       "      <th>8365</th>\n",
       "      <td>2014</td>\n",
       "      <td>Third Party insurance</td>\n",
       "      <td>Petrol</td>\n",
       "      <td>5 Seats</td>\n",
       "      <td>1,20,000 Kms</td>\n",
       "      <td>NaN</td>\n",
       "      <td>First Owner</td>\n",
       "      <td>796 cc</td>\n",
       "      <td>Manual</td>\n",
       "      <td>2014.0</td>\n",
       "    </tr>\n",
       "    <tr>\n",
       "      <th>8366</th>\n",
       "      <td>2011</td>\n",
       "      <td>Third Party insurance</td>\n",
       "      <td>Petrol</td>\n",
       "      <td>5 Seats</td>\n",
       "      <td>50,000 Kms</td>\n",
       "      <td>WB06</td>\n",
       "      <td>Third Owner</td>\n",
       "      <td>1796 cc</td>\n",
       "      <td>Automatic</td>\n",
       "      <td>2011.0</td>\n",
       "    </tr>\n",
       "    <tr>\n",
       "      <th>8367</th>\n",
       "      <td>2012</td>\n",
       "      <td>Third Party insurance</td>\n",
       "      <td>Petrol</td>\n",
       "      <td>5 Seats</td>\n",
       "      <td>40,000 Kms</td>\n",
       "      <td>NaN</td>\n",
       "      <td>First Owner</td>\n",
       "      <td>1197 cc</td>\n",
       "      <td>Manual</td>\n",
       "      <td>2012.0</td>\n",
       "    </tr>\n",
       "    <tr>\n",
       "      <th>8368</th>\n",
       "      <td>2017</td>\n",
       "      <td>Third Party insurance</td>\n",
       "      <td>Diesel</td>\n",
       "      <td>5 Seats</td>\n",
       "      <td>1,20,000 Kms</td>\n",
       "      <td>NaN</td>\n",
       "      <td>Second Owner</td>\n",
       "      <td>1461 cc</td>\n",
       "      <td>Manual</td>\n",
       "      <td>2017.0</td>\n",
       "    </tr>\n",
       "  </tbody>\n",
       "</table>\n",
       "<p>8369 rows × 10 columns</p>\n",
       "</div>"
      ],
      "text/plain": [
       "     Registration Year     Insurance Validity Fuel Type    Seats  \\\n",
       "0                 2022  Third Party insurance    Petrol  5 Seats   \n",
       "1             Feb 2015          Comprehensive    Petrol  7 Seats   \n",
       "2                 2021  Third Party insurance    Petrol  5 Seats   \n",
       "3             May 2015          Comprehensive    Petrol  5 Seats   \n",
       "4                 2015  Third Party insurance    Petrol  5 Seats   \n",
       "...                ...                    ...       ...      ...   \n",
       "8364              2022  Third Party insurance    Petrol  5 Seats   \n",
       "8365              2014  Third Party insurance    Petrol  5 Seats   \n",
       "8366              2011  Third Party insurance    Petrol  5 Seats   \n",
       "8367              2012  Third Party insurance    Petrol  5 Seats   \n",
       "8368              2017  Third Party insurance    Diesel  5 Seats   \n",
       "\n",
       "        Kms Driven   RTO     Ownership Engine Displacement Transmission  \\\n",
       "0       20,000 Kms  TN02   First Owner              998 cc    Automatic   \n",
       "1       20,687 Kms  TN04   First Owner             1196 cc       Manual   \n",
       "2       30,000 Kms  TN22   First Owner              999 cc       Manual   \n",
       "3       59,247 Kms  TN11   First Owner             1086 cc       Manual   \n",
       "4       50,000 Kms  KA03   First Owner             1199 cc       Manual   \n",
       "...            ...   ...           ...                 ...          ...   \n",
       "8364    10,000 Kms   NaN   First Owner              998 cc       Manual   \n",
       "8365  1,20,000 Kms   NaN   First Owner              796 cc       Manual   \n",
       "8366    50,000 Kms  WB06   Third Owner             1796 cc    Automatic   \n",
       "8367    40,000 Kms   NaN   First Owner             1197 cc       Manual   \n",
       "8368  1,20,000 Kms   NaN  Second Owner             1461 cc       Manual   \n",
       "\n",
       "      Year of Manufacture  \n",
       "0                  2022.0  \n",
       "1                  2015.0  \n",
       "2                  2021.0  \n",
       "3                  2015.0  \n",
       "4                  2015.0  \n",
       "...                   ...  \n",
       "8364               2022.0  \n",
       "8365               2014.0  \n",
       "8366               2011.0  \n",
       "8367               2012.0  \n",
       "8368               2017.0  \n",
       "\n",
       "[8369 rows x 10 columns]"
      ]
     },
     "execution_count": 25,
     "metadata": {},
     "output_type": "execute_result"
    }
   ],
   "source": [
    "def process_row(row):\n",
    "    row_data = {item['key']: item['value'] for item in row['top']}\n",
    "    return row_data\n",
    "\n",
    "overview_car = all_cities_df['new_car_overview'].apply(lambda row: pd.Series(process_row(row)))\n",
    "overview_car"
   ]
  },
  {
   "cell_type": "code",
   "execution_count": 26,
   "id": "a8228a2a-0981-45b5-929c-9abf290081c3",
   "metadata": {
    "scrolled": true
   },
   "outputs": [
    {
     "data": {
      "text/html": [
       "<div>\n",
       "<style scoped>\n",
       "    .dataframe tbody tr th:only-of-type {\n",
       "        vertical-align: middle;\n",
       "    }\n",
       "\n",
       "    .dataframe tbody tr th {\n",
       "        vertical-align: top;\n",
       "    }\n",
       "\n",
       "    .dataframe thead th {\n",
       "        text-align: right;\n",
       "    }\n",
       "</style>\n",
       "<table border=\"1\" class=\"dataframe\">\n",
       "  <thead>\n",
       "    <tr style=\"text-align: right;\">\n",
       "      <th></th>\n",
       "      <th>Registration Year</th>\n",
       "      <th>Insurance Validity</th>\n",
       "      <th>Fuel Type</th>\n",
       "      <th>Seats</th>\n",
       "      <th>Kms Driven</th>\n",
       "      <th>RTO</th>\n",
       "      <th>Ownership</th>\n",
       "      <th>Engine Displacement</th>\n",
       "      <th>Transmission</th>\n",
       "      <th>Year of Manufacture</th>\n",
       "    </tr>\n",
       "  </thead>\n",
       "  <tbody>\n",
       "    <tr>\n",
       "      <th>0</th>\n",
       "      <td>2022</td>\n",
       "      <td>Third Party insurance</td>\n",
       "      <td>Petrol</td>\n",
       "      <td>5 Seats</td>\n",
       "      <td>20,000 Kms</td>\n",
       "      <td>TN02</td>\n",
       "      <td>First Owner</td>\n",
       "      <td>998 cc</td>\n",
       "      <td>Automatic</td>\n",
       "      <td>2022.0</td>\n",
       "    </tr>\n",
       "  </tbody>\n",
       "</table>\n",
       "</div>"
      ],
      "text/plain": [
       "  Registration Year     Insurance Validity Fuel Type    Seats  Kms Driven  \\\n",
       "0              2022  Third Party insurance    Petrol  5 Seats  20,000 Kms   \n",
       "\n",
       "    RTO    Ownership Engine Displacement Transmission  Year of Manufacture  \n",
       "0  TN02  First Owner              998 cc    Automatic               2022.0  "
      ]
     },
     "execution_count": 26,
     "metadata": {},
     "output_type": "execute_result"
    }
   ],
   "source": [
    "overview_car.head(1)"
   ]
  },
  {
   "cell_type": "code",
   "execution_count": 27,
   "id": "89583f7c-0f47-4ee8-aee2-7b9362acb013",
   "metadata": {},
   "outputs": [
    {
     "data": {
      "text/plain": [
       "{'heading': 'Features',\n",
       " 'top': [{'value': 'Power Steering'},\n",
       "  {'value': 'Power Windows Front'},\n",
       "  {'value': 'Air Conditioner'},\n",
       "  {'value': 'Heater'},\n",
       "  {'value': 'Adjustable Head Lights'},\n",
       "  {'value': 'Fog Lights Front'},\n",
       "  {'value': 'Anti Lock Braking System'},\n",
       "  {'value': 'Brake Assist'},\n",
       "  {'value': 'Radio'}],\n",
       " 'data': [{'heading': 'Comfort & Convenience',\n",
       "   'subHeading': 'Comfort',\n",
       "   'list': [{'value': 'Power Steering'},\n",
       "    {'value': 'Power Windows Front'},\n",
       "    {'value': 'Power Windows Rear'},\n",
       "    {'value': 'Low Fuel Warning Light'},\n",
       "    {'value': 'Accessory Power Outlet'},\n",
       "    {'value': 'Trunk Light'},\n",
       "    {'value': 'Rear Reading Lamp'},\n",
       "    {'value': 'Rear Seat Headrest'},\n",
       "    {'value': 'Rear Seat Centre Arm Rest'},\n",
       "    {'value': 'Cup Holders Rear'},\n",
       "    {'value': 'Multifunction Steering Wheel'},\n",
       "    {'value': 'Cruise Control'},\n",
       "    {'value': 'Rear ACVents'},\n",
       "    {'value': 'Smart Access Card Entry'},\n",
       "    {'value': 'Engine Start Stop Button'},\n",
       "    {'value': 'Steering Wheel Gearshift Paddles'},\n",
       "    {'value': 'Battery Saver'},\n",
       "    {'value': 'Drive Modes'},\n",
       "    {'value': 'Remote Engine Start Stop'},\n",
       "    {'value': 'Adjustable Headrest'}]},\n",
       "  {'heading': 'Interior',\n",
       "   'subHeading': 'Interior',\n",
       "   'list': [{'value': 'Air Conditioner'},\n",
       "    {'value': 'Heater'},\n",
       "    {'value': 'Adjustable Steering'},\n",
       "    {'value': 'Digital Odometer'},\n",
       "    {'value': 'Electronic Multi Tripmeter'},\n",
       "    {'value': 'Leather Seats'},\n",
       "    {'value': 'Fabric Upholstery'},\n",
       "    {'value': 'Leather Steering Wheel'},\n",
       "    {'value': 'Glove Compartment'},\n",
       "    {'value': 'Digital Clock'},\n",
       "    {'value': 'Driving Experience Control Eco'},\n",
       "    {'value': 'Height Adjustable Driver Seat'},\n",
       "    {'value': 'Leather Wrap Gear Shift Selector'}]},\n",
       "  {'heading': 'Exterior',\n",
       "   'subHeading': 'Exterior',\n",
       "   'list': [{'value': 'Adjustable Head Lights'},\n",
       "    {'value': 'Fog Lights Front'},\n",
       "    {'value': 'Power Adjustable Exterior Rear View Mirror'},\n",
       "    {'value': 'Electric Folding Rear View Mirror'},\n",
       "    {'value': 'Rear Window Defogger'},\n",
       "    {'value': 'Alloy Wheels'},\n",
       "    {'value': 'Integrated Antenna'},\n",
       "    {'value': 'Tinted Glass'},\n",
       "    {'value': 'Rear Spoiler'},\n",
       "    {'value': 'Sun Roof'},\n",
       "    {'value': 'Moon Roof'},\n",
       "    {'value': 'Outside Rear View Mirror Turn Indicators'},\n",
       "    {'value': 'Chrome Grille'},\n",
       "    {'value': 'Roof Rail'},\n",
       "    {'value': 'LEDDRLs'},\n",
       "    {'value': 'LEDHeadlights'},\n",
       "    {'value': 'LEDTaillights'}]},\n",
       "  {'heading': 'Safety',\n",
       "   'subHeading': 'Safety',\n",
       "   'list': [{'value': 'Anti Lock Braking System'},\n",
       "    {'value': 'Brake Assist'},\n",
       "    {'value': 'Centeral Locking'},\n",
       "    {'value': 'Power Door Locks'},\n",
       "    {'value': 'Child Safety Locks'},\n",
       "    {'value': 'Driver Air Bag'},\n",
       "    {'value': 'Passenger Air Bag'},\n",
       "    {'value': 'Side Air Bag Front'},\n",
       "    {'value': 'Day Night Rear View Mirror'},\n",
       "    {'value': 'Passenger Side Rear View Mirror'},\n",
       "    {'value': 'Rear Seat Belts'},\n",
       "    {'value': 'Seat Belt Warning'},\n",
       "    {'value': 'Vehicle Stability Control System'},\n",
       "    {'value': 'Traction Control'},\n",
       "    {'value': 'Adjustable Seats'},\n",
       "    {'value': 'Keyless Entry'},\n",
       "    {'value': 'Engine Check Warning'},\n",
       "    {'value': 'Crash Sensor'},\n",
       "    {'value': 'Automatic Head Lamps'},\n",
       "    {'value': 'Ebd'},\n",
       "    {'value': 'Follow Me Home Headlamps'},\n",
       "    {'value': 'Rear Camera'},\n",
       "    {'value': 'Anti Pinch Power Windows'},\n",
       "    {'value': 'Speed Sensing Auto Door Lock'},\n",
       "    {'value': 'Isofix Child Seat Mounts'},\n",
       "    {'value': 'Pretensioners And Force Limiter Seatbelts'},\n",
       "    {'value': 'Hill Assist'},\n",
       "    {'value': 'Impact Sensing Auto Door Lock'},\n",
       "    {'value': 'No Of Airbags'},\n",
       "    {'value': 'Eletronic Stability Control'}]},\n",
       "  {'heading': 'Entertainment & Communication',\n",
       "   'subHeading': 'Entertainment',\n",
       "   'list': [{'value': 'Radio'},\n",
       "    {'value': 'Speakers Front'},\n",
       "    {'value': 'Speakers Rear'},\n",
       "    {'value': 'Integrated2Din Audio'},\n",
       "    {'value': 'Bluetooth'},\n",
       "    {'value': 'Touch Screen'},\n",
       "    {'value': 'Number Of Speaker'},\n",
       "    {'value': 'Apple Car Play'},\n",
       "    {'value': 'Android Auto'}]}],\n",
       " 'commonIcon': 'https://stimg.cardekho.com/pwa/img/vdpN/tickG.svg'}"
      ]
     },
     "execution_count": 27,
     "metadata": {},
     "output_type": "execute_result"
    }
   ],
   "source": [
    "all_cities_df['new_car_feature'][0]"
   ]
  },
  {
   "cell_type": "markdown",
   "id": "29593020-f51b-4099-a9a0-d46198c20891",
   "metadata": {},
   "source": [
    "THE ABOVE DICTIONARY COLUMN OF NEW_CAR_FEATURE TO EXTRACT THE DATA IN \"TOP\" & \"DATA\"\n",
    "TO GET THE NEW_FEATURES DICTIONARY"
   ]
  },
  {
   "cell_type": "code",
   "execution_count": 29,
   "id": "3afb7dd6-efed-4c04-8e9a-8544a2f9ea7e",
   "metadata": {},
   "outputs": [
    {
     "data": {
      "text/html": [
       "<div>\n",
       "<style scoped>\n",
       "    .dataframe tbody tr th:only-of-type {\n",
       "        vertical-align: middle;\n",
       "    }\n",
       "\n",
       "    .dataframe tbody tr th {\n",
       "        vertical-align: top;\n",
       "    }\n",
       "\n",
       "    .dataframe thead th {\n",
       "        text-align: right;\n",
       "    }\n",
       "</style>\n",
       "<table border=\"1\" class=\"dataframe\">\n",
       "  <thead>\n",
       "    <tr style=\"text-align: right;\">\n",
       "      <th></th>\n",
       "      <th>Power Steering</th>\n",
       "      <th>Power Windows Front</th>\n",
       "      <th>Air Conditioner</th>\n",
       "      <th>Heater</th>\n",
       "      <th>Adjustable Head Lights</th>\n",
       "      <th>Fog Lights Front</th>\n",
       "      <th>Anti Lock Braking System</th>\n",
       "      <th>Brake Assist</th>\n",
       "      <th>Radio</th>\n",
       "      <th>Power Windows Rear</th>\n",
       "      <th>...</th>\n",
       "      <th>Dual Tone Body Colour</th>\n",
       "      <th>Active Noise Cancellation</th>\n",
       "      <th>Power Folding3rd Row Seat</th>\n",
       "      <th>Roof Carrier</th>\n",
       "      <th>Compass</th>\n",
       "      <th>Lane Watch Camera</th>\n",
       "      <th>Mirror Link</th>\n",
       "      <th>Removable Convertible Top</th>\n",
       "      <th>Headlamp Washers</th>\n",
       "      <th>Smart Key Band</th>\n",
       "    </tr>\n",
       "  </thead>\n",
       "  <tbody>\n",
       "    <tr>\n",
       "      <th>0</th>\n",
       "      <td>True</td>\n",
       "      <td>True</td>\n",
       "      <td>True</td>\n",
       "      <td>True</td>\n",
       "      <td>True</td>\n",
       "      <td>True</td>\n",
       "      <td>True</td>\n",
       "      <td>True</td>\n",
       "      <td>True</td>\n",
       "      <td>True</td>\n",
       "      <td>...</td>\n",
       "      <td>NaN</td>\n",
       "      <td>NaN</td>\n",
       "      <td>NaN</td>\n",
       "      <td>NaN</td>\n",
       "      <td>NaN</td>\n",
       "      <td>NaN</td>\n",
       "      <td>NaN</td>\n",
       "      <td>NaN</td>\n",
       "      <td>NaN</td>\n",
       "      <td>NaN</td>\n",
       "    </tr>\n",
       "  </tbody>\n",
       "</table>\n",
       "<p>1 rows × 173 columns</p>\n",
       "</div>"
      ],
      "text/plain": [
       "  Power Steering Power Windows Front Air Conditioner Heater  \\\n",
       "0           True                True            True   True   \n",
       "\n",
       "  Adjustable Head Lights Fog Lights Front Anti Lock Braking System  \\\n",
       "0                   True             True                     True   \n",
       "\n",
       "  Brake Assist Radio Power Windows Rear  ... Dual Tone Body Colour  \\\n",
       "0         True  True               True  ...                   NaN   \n",
       "\n",
       "  Active Noise Cancellation Power Folding3rd Row Seat Roof Carrier Compass  \\\n",
       "0                       NaN                       NaN          NaN     NaN   \n",
       "\n",
       "  Lane Watch Camera Mirror Link Removable Convertible Top Headlamp Washers  \\\n",
       "0               NaN         NaN                       NaN              NaN   \n",
       "\n",
       "  Smart Key Band  \n",
       "0            NaN  \n",
       "\n",
       "[1 rows x 173 columns]"
      ]
     },
     "execution_count": 29,
     "metadata": {},
     "output_type": "execute_result"
    }
   ],
   "source": [
    "def process_features(row):\n",
    "    features = {}\n",
    "\n",
    "    for item in row['top']:\n",
    "        features[item['value']] = True\n",
    "\n",
    "    for data_item in row.get('data', []):\n",
    "        for sub_item in data_item.get('list', []):\n",
    "            features[sub_item['value']] = True\n",
    "\n",
    "    return features\n",
    "\n",
    "features_car = all_cities_df['new_car_feature'].apply(lambda row: pd.Series(process_features(row)))\n",
    "features_car.head(1)"
   ]
  },
  {
   "cell_type": "markdown",
   "id": "8923d5b8-afda-4213-bf26-1bafddee3158",
   "metadata": {},
   "source": [
    "TO GET THE NEW_CAR_SPECIFICATION"
   ]
  },
  {
   "cell_type": "code",
   "execution_count": 31,
   "id": "89699d6f-7f95-4cf2-8492-97962936f732",
   "metadata": {},
   "outputs": [
    {
     "data": {
      "text/plain": [
       "{'heading': 'Specifications',\n",
       " 'top': [{'key': 'Engine', 'value': '998 CC'},\n",
       "  {'key': 'Max Power', 'value': '118.36bhp'},\n",
       "  {'key': 'Torque', 'value': '172nm'},\n",
       "  {'key': 'Wheel Size', 'value': '16'},\n",
       "  {'key': 'Seats', 'value': '5'}],\n",
       " 'data': [{'heading': 'Engine and Transmission',\n",
       "   'subHeading': 'Engine',\n",
       "   'list': [{'key': 'Color', 'value': 'Black'},\n",
       "    {'key': 'Engine Type', 'value': 'Smartstream G1.0 T - GDi'},\n",
       "    {'key': 'Displacement', 'value': '998'},\n",
       "    {'key': 'Max Power', 'value': '118.36bhp@6000rpm'},\n",
       "    {'key': 'Max Torque', 'value': '172nm@1500-4000rpm'},\n",
       "    {'key': 'No of Cylinder', 'value': 3},\n",
       "    {'key': 'Values per Cylinder', 'value': 4},\n",
       "    {'key': 'Fuel Suppy System', 'value': 'GDi'},\n",
       "    {'key': 'Turbo Charger', 'value': 'Yes'}]},\n",
       "  {'heading': 'Dimensions & Capacity',\n",
       "   'subHeading': 'Dimensions',\n",
       "   'list': [{'key': 'Length', 'value': '3995mm'},\n",
       "    {'key': 'Width', 'value': '1790'},\n",
       "    {'key': 'Height', 'value': '1642'},\n",
       "    {'key': 'Wheel Base', 'value': '2500'},\n",
       "    {'key': 'Kerb Weight', 'value': '1465'}]},\n",
       "  {'heading': 'Miscellaneous',\n",
       "   'subHeading': 'Miscellaneous',\n",
       "   'list': [{'key': 'Gear Box', 'value': '7-Speed DCT'},\n",
       "    {'key': 'Drive Type', 'value': 'FWD'},\n",
       "    {'key': 'Seating Capacity', 'value': '5'},\n",
       "    {'key': 'Steering Type', 'value': 'Electric'},\n",
       "    {'key': 'Front Brake Type', 'value': 'Disc'},\n",
       "    {'key': 'Rear Brake Type', 'value': 'Drum'},\n",
       "    {'key': 'Tyre Type', 'value': 'Tubeless, Radial'},\n",
       "    {'key': 'Alloy Wheel Size', 'value': '16'},\n",
       "    {'key': 'No Door Numbers', 'value': '5'},\n",
       "    {'key': 'Cargo Volumn', 'value': '392'}]}],\n",
       " 'commonIcon': ''}"
      ]
     },
     "execution_count": 31,
     "metadata": {},
     "output_type": "execute_result"
    }
   ],
   "source": [
    "all_cities_df['new_car_specs'][0]"
   ]
  },
  {
   "cell_type": "code",
   "execution_count": 32,
   "id": "a5fefd0a-42aa-42e2-b391-83595bc3a3a2",
   "metadata": {},
   "outputs": [
    {
     "data": {
      "text/html": [
       "<div>\n",
       "<style scoped>\n",
       "    .dataframe tbody tr th:only-of-type {\n",
       "        vertical-align: middle;\n",
       "    }\n",
       "\n",
       "    .dataframe tbody tr th {\n",
       "        vertical-align: top;\n",
       "    }\n",
       "\n",
       "    .dataframe thead th {\n",
       "        text-align: right;\n",
       "    }\n",
       "</style>\n",
       "<table border=\"1\" class=\"dataframe\">\n",
       "  <thead>\n",
       "    <tr style=\"text-align: right;\">\n",
       "      <th></th>\n",
       "      <th>Engine</th>\n",
       "      <th>Max Power</th>\n",
       "      <th>Torque</th>\n",
       "      <th>Wheel Size</th>\n",
       "      <th>Seats</th>\n",
       "      <th>Color</th>\n",
       "      <th>Engine Type</th>\n",
       "      <th>Displacement</th>\n",
       "      <th>Max Torque</th>\n",
       "      <th>No of Cylinder</th>\n",
       "      <th>...</th>\n",
       "      <th>Compression Ratio</th>\n",
       "      <th>Super Charger</th>\n",
       "      <th>Front Tread</th>\n",
       "      <th>Rear Tread</th>\n",
       "      <th>Gross Weight</th>\n",
       "      <th>Turning Radius</th>\n",
       "      <th>Top Speed</th>\n",
       "      <th>Acceleration</th>\n",
       "      <th>BoreX Stroke</th>\n",
       "      <th>Ground Clearance Unladen</th>\n",
       "    </tr>\n",
       "  </thead>\n",
       "  <tbody>\n",
       "    <tr>\n",
       "      <th>0</th>\n",
       "      <td>[998 CC]</td>\n",
       "      <td>[118.36bhp@6000rpm]</td>\n",
       "      <td>[172nm]</td>\n",
       "      <td>[16]</td>\n",
       "      <td>[5]</td>\n",
       "      <td>[Black]</td>\n",
       "      <td>[Smartstream G1.0 T - GDi]</td>\n",
       "      <td>[998]</td>\n",
       "      <td>[172nm@1500-4000rpm]</td>\n",
       "      <td>[3]</td>\n",
       "      <td>...</td>\n",
       "      <td>NaN</td>\n",
       "      <td>NaN</td>\n",
       "      <td>NaN</td>\n",
       "      <td>NaN</td>\n",
       "      <td>NaN</td>\n",
       "      <td>NaN</td>\n",
       "      <td>NaN</td>\n",
       "      <td>NaN</td>\n",
       "      <td>NaN</td>\n",
       "      <td>NaN</td>\n",
       "    </tr>\n",
       "  </tbody>\n",
       "</table>\n",
       "<p>1 rows × 40 columns</p>\n",
       "</div>"
      ],
      "text/plain": [
       "     Engine            Max Power   Torque Wheel Size Seats    Color  \\\n",
       "0  [998 CC]  [118.36bhp@6000rpm]  [172nm]       [16]   [5]  [Black]   \n",
       "\n",
       "                  Engine Type Displacement            Max Torque  \\\n",
       "0  [Smartstream G1.0 T - GDi]        [998]  [172nm@1500-4000rpm]   \n",
       "\n",
       "  No of Cylinder  ... Compression Ratio Super Charger Front Tread Rear Tread  \\\n",
       "0            [3]  ...               NaN           NaN         NaN        NaN   \n",
       "\n",
       "  Gross Weight Turning Radius Top Speed Acceleration BoreX Stroke  \\\n",
       "0          NaN            NaN       NaN          NaN          NaN   \n",
       "\n",
       "  Ground Clearance Unladen  \n",
       "0                      NaN  \n",
       "\n",
       "[1 rows x 40 columns]"
      ]
     },
     "execution_count": 32,
     "metadata": {},
     "output_type": "execute_result"
    }
   ],
   "source": [
    "def process_specifications(row):\n",
    "    specs = {}\n",
    "\n",
    "    for item in row['top']:\n",
    "        specs[item['key']] = [item['value']]\n",
    "\n",
    "    for data_item in row.get('data', []):\n",
    "        for sub_item in data_item.get('list', []):\n",
    "            specs[sub_item['key']] = [sub_item['value']]\n",
    "\n",
    "    return specs\n",
    "\n",
    "specification_car = all_cities_df['new_car_specs'].apply(lambda row: pd.Series(process_specifications(row)))\n",
    "specification_car.head(1)"
   ]
  },
  {
   "cell_type": "code",
   "execution_count": 33,
   "id": "bccc3dfc-8c53-4200-a674-7a1859d7676e",
   "metadata": {},
   "outputs": [],
   "source": [
    "Combined_cars_df = pd.concat([details, overview_car, features_car, specification_car, all_cities_df['city']], axis=1)"
   ]
  },
  {
   "cell_type": "code",
   "execution_count": 34,
   "id": "46419f0a-be32-4160-bb45-7b01fe238e69",
   "metadata": {},
   "outputs": [],
   "source": [
    "Combined_cars_df.to_excel('Combined_cars_df_full.xlsx', index=False)"
   ]
  },
  {
   "cell_type": "markdown",
   "id": "f5fee2a0-398f-4afd-a371-23023fb5b2b5",
   "metadata": {},
   "source": [
    "Data Processing"
   ]
  },
  {
   "cell_type": "code",
   "execution_count": 36,
   "id": "4f9b893a-ecde-406a-8eed-38277c2f3f8b",
   "metadata": {},
   "outputs": [
    {
     "data": {
      "text/html": [
       "<div>\n",
       "<style scoped>\n",
       "    .dataframe tbody tr th:only-of-type {\n",
       "        vertical-align: middle;\n",
       "    }\n",
       "\n",
       "    .dataframe tbody tr th {\n",
       "        vertical-align: top;\n",
       "    }\n",
       "\n",
       "    .dataframe thead th {\n",
       "        text-align: right;\n",
       "    }\n",
       "</style>\n",
       "<table border=\"1\" class=\"dataframe\">\n",
       "  <thead>\n",
       "    <tr style=\"text-align: right;\">\n",
       "      <th></th>\n",
       "      <th>it</th>\n",
       "      <th>ft</th>\n",
       "      <th>bt</th>\n",
       "      <th>km</th>\n",
       "      <th>transmission</th>\n",
       "      <th>ownerNo</th>\n",
       "      <th>owner</th>\n",
       "      <th>oem</th>\n",
       "      <th>model</th>\n",
       "      <th>modelYear</th>\n",
       "      <th>...</th>\n",
       "      <th>Super Charger</th>\n",
       "      <th>Front Tread</th>\n",
       "      <th>Rear Tread</th>\n",
       "      <th>Gross Weight</th>\n",
       "      <th>Turning Radius</th>\n",
       "      <th>Top Speed</th>\n",
       "      <th>Acceleration</th>\n",
       "      <th>BoreX Stroke</th>\n",
       "      <th>Ground Clearance Unladen</th>\n",
       "      <th>city</th>\n",
       "    </tr>\n",
       "  </thead>\n",
       "  <tbody>\n",
       "    <tr>\n",
       "      <th>0</th>\n",
       "      <td>0</td>\n",
       "      <td>Petrol</td>\n",
       "      <td>SUV</td>\n",
       "      <td>20,000</td>\n",
       "      <td>Automatic</td>\n",
       "      <td>1</td>\n",
       "      <td>1st Owner</td>\n",
       "      <td>Kia</td>\n",
       "      <td>Kia Sonet</td>\n",
       "      <td>2022</td>\n",
       "      <td>...</td>\n",
       "      <td>NaN</td>\n",
       "      <td>NaN</td>\n",
       "      <td>NaN</td>\n",
       "      <td>NaN</td>\n",
       "      <td>NaN</td>\n",
       "      <td>NaN</td>\n",
       "      <td>NaN</td>\n",
       "      <td>NaN</td>\n",
       "      <td>NaN</td>\n",
       "      <td>Chennai</td>\n",
       "    </tr>\n",
       "    <tr>\n",
       "      <th>1</th>\n",
       "      <td>0</td>\n",
       "      <td>Petrol</td>\n",
       "      <td>Minivans</td>\n",
       "      <td>20,687</td>\n",
       "      <td>Manual</td>\n",
       "      <td>1</td>\n",
       "      <td>1st Owner</td>\n",
       "      <td>Maruti</td>\n",
       "      <td>Maruti Eeco</td>\n",
       "      <td>2015</td>\n",
       "      <td>...</td>\n",
       "      <td>['No']</td>\n",
       "      <td>['1280mm']</td>\n",
       "      <td>['1290mm']</td>\n",
       "      <td>['1540kg']</td>\n",
       "      <td>['4.5 metres']</td>\n",
       "      <td>['145 Kmph']</td>\n",
       "      <td>['15.7 Seconds']</td>\n",
       "      <td>NaN</td>\n",
       "      <td>NaN</td>\n",
       "      <td>Chennai</td>\n",
       "    </tr>\n",
       "    <tr>\n",
       "      <th>2</th>\n",
       "      <td>0</td>\n",
       "      <td>Petrol</td>\n",
       "      <td>SUV</td>\n",
       "      <td>30,000</td>\n",
       "      <td>Manual</td>\n",
       "      <td>1</td>\n",
       "      <td>1st Owner</td>\n",
       "      <td>Nissan</td>\n",
       "      <td>Nissan Magnite</td>\n",
       "      <td>2021</td>\n",
       "      <td>...</td>\n",
       "      <td>['No']</td>\n",
       "      <td>NaN</td>\n",
       "      <td>NaN</td>\n",
       "      <td>NaN</td>\n",
       "      <td>['5.0']</td>\n",
       "      <td>NaN</td>\n",
       "      <td>['11.7']</td>\n",
       "      <td>['72.2 x 81.3']</td>\n",
       "      <td>NaN</td>\n",
       "      <td>Chennai</td>\n",
       "    </tr>\n",
       "    <tr>\n",
       "      <th>3</th>\n",
       "      <td>0</td>\n",
       "      <td>Petrol</td>\n",
       "      <td>Hatchback</td>\n",
       "      <td>59,247</td>\n",
       "      <td>Manual</td>\n",
       "      <td>1</td>\n",
       "      <td>1st Owner</td>\n",
       "      <td>Hyundai</td>\n",
       "      <td>Hyundai i10</td>\n",
       "      <td>2015</td>\n",
       "      <td>...</td>\n",
       "      <td>['No']</td>\n",
       "      <td>['1400mm']</td>\n",
       "      <td>['1385mm']</td>\n",
       "      <td>NaN</td>\n",
       "      <td>['4.7 metres']</td>\n",
       "      <td>['165 Kmph']</td>\n",
       "      <td>['14.3 Seconds']</td>\n",
       "      <td>NaN</td>\n",
       "      <td>NaN</td>\n",
       "      <td>Chennai</td>\n",
       "    </tr>\n",
       "    <tr>\n",
       "      <th>4</th>\n",
       "      <td>0</td>\n",
       "      <td>Petrol</td>\n",
       "      <td>Hatchback</td>\n",
       "      <td>50,000</td>\n",
       "      <td>Manual</td>\n",
       "      <td>1</td>\n",
       "      <td>1st Owner</td>\n",
       "      <td>Honda</td>\n",
       "      <td>Honda Jazz</td>\n",
       "      <td>2015</td>\n",
       "      <td>...</td>\n",
       "      <td>['No']</td>\n",
       "      <td>NaN</td>\n",
       "      <td>NaN</td>\n",
       "      <td>NaN</td>\n",
       "      <td>['5.1 meters']</td>\n",
       "      <td>['172 Kmph']</td>\n",
       "      <td>['13.7 Seconds']</td>\n",
       "      <td>NaN</td>\n",
       "      <td>NaN</td>\n",
       "      <td>Chennai</td>\n",
       "    </tr>\n",
       "  </tbody>\n",
       "</table>\n",
       "<p>5 rows × 243 columns</p>\n",
       "</div>"
      ],
      "text/plain": [
       "   it      ft         bt      km transmission  ownerNo      owner      oem  \\\n",
       "0   0  Petrol        SUV  20,000    Automatic        1  1st Owner      Kia   \n",
       "1   0  Petrol   Minivans  20,687       Manual        1  1st Owner   Maruti   \n",
       "2   0  Petrol        SUV  30,000       Manual        1  1st Owner   Nissan   \n",
       "3   0  Petrol  Hatchback  59,247       Manual        1  1st Owner  Hyundai   \n",
       "4   0  Petrol  Hatchback  50,000       Manual        1  1st Owner    Honda   \n",
       "\n",
       "            model  modelYear  ...  Super Charger Front Tread  Rear Tread  \\\n",
       "0       Kia Sonet       2022  ...            NaN         NaN         NaN   \n",
       "1     Maruti Eeco       2015  ...         ['No']  ['1280mm']  ['1290mm']   \n",
       "2  Nissan Magnite       2021  ...         ['No']         NaN         NaN   \n",
       "3     Hyundai i10       2015  ...         ['No']  ['1400mm']  ['1385mm']   \n",
       "4      Honda Jazz       2015  ...         ['No']         NaN         NaN   \n",
       "\n",
       "  Gross Weight  Turning Radius     Top Speed      Acceleration  \\\n",
       "0          NaN             NaN           NaN               NaN   \n",
       "1   ['1540kg']  ['4.5 metres']  ['145 Kmph']  ['15.7 Seconds']   \n",
       "2          NaN         ['5.0']           NaN          ['11.7']   \n",
       "3          NaN  ['4.7 metres']  ['165 Kmph']  ['14.3 Seconds']   \n",
       "4          NaN  ['5.1 meters']  ['172 Kmph']  ['13.7 Seconds']   \n",
       "\n",
       "      BoreX Stroke Ground Clearance Unladen     city  \n",
       "0              NaN                      NaN  Chennai  \n",
       "1              NaN                      NaN  Chennai  \n",
       "2  ['72.2 x 81.3']                      NaN  Chennai  \n",
       "3              NaN                      NaN  Chennai  \n",
       "4              NaN                      NaN  Chennai  \n",
       "\n",
       "[5 rows x 243 columns]"
      ]
     },
     "execution_count": 36,
     "metadata": {},
     "output_type": "execute_result"
    }
   ],
   "source": [
    "df = pd.read_excel('Combined_cars_df_full.xlsx')\n",
    "df.head(5)"
   ]
  },
  {
   "cell_type": "code",
   "execution_count": 37,
   "id": "bb45d8aa-ace9-4fa3-8554-502163d222a4",
   "metadata": {},
   "outputs": [
    {
     "name": "stdout",
     "output_type": "stream",
     "text": [
      "it                   1\n",
      "ft                   5\n",
      "bt                  10\n",
      "km                4090\n",
      "transmission         2\n",
      "                  ... \n",
      "Rear Tread         200\n",
      "Turning Radius     196\n",
      "Top Speed          305\n",
      "Acceleration       332\n",
      "city                 6\n",
      "Length: 122, dtype: int64\n",
      "85\n",
      "0\n"
     ]
    }
   ],
   "source": [
    "threshold = len(df) * 0.5\n",
    "df.dropna(axis=1, thresh=threshold,inplace=True)\n",
    "\n",
    "print(df.nunique())\n",
    "df = df.loc[:, df.nunique() > 1]\n",
    "\n",
    "print(df.duplicated().sum())\n",
    "df.drop_duplicates(keep='first',inplace=True)   \n",
    "print(df.duplicated().sum())"
   ]
  },
  {
   "cell_type": "code",
   "execution_count": 38,
   "id": "f1208a39-6e71-4536-a7cb-35c845defcde",
   "metadata": {},
   "outputs": [],
   "source": [
    "columns_to_drop = ['priceActual', 'Front Tread', 'Seats', 'Kms Driven', 'Registration Year', 'centralVariantId', 'Kerb Weight', 'Max Power', 'Engine', 'Wheel Size', 'Seats.1', 'Length', 'Width', 'Max Torque', 'Height', 'Wheel Base', 'Values per Cylinder', 'Alloy Wheel Size', 'Cargo Volumn', 'Value Configuration', 'Rear Tread', 'Top Speed', 'Turning Radius', 'Acceleration', 'priceSaving', 'priceFixedText', 'trendingText.imgUrl', 'trendingText.heading', 'trendingText.desc', 'Power Steering', 'Power Windows Front', 'Heater', 'Adjustable Head Lights', 'Fog Lights Front', 'Anti Lock Braking System', 'Brake Assist', 'Radio', 'Power Windows Rear', 'Low Fuel Warning Light', 'Accessory Power Outlet', 'Trunk Light', 'Rear Reading Lamp', 'Rear Seat Headrest', 'Rear Seat Centre Arm Rest', 'Cup Holders Rear', 'Multifunction Steering Wheel', 'Cruise Control', 'Rear ACVents', 'Smart Access Card Entry', 'Engine Start Stop Button', 'Steering Wheel Gearshift Paddles', 'Battery Saver', 'Drive Modes', 'Remote Engine Start Stop', 'Adjustable Headrest', 'Adjustable Steering', 'Digital Odometer', 'Electronic Multi Tripmeter', 'Leather Seats', 'Fabric Upholstery', 'Leather Steering Wheel', 'Glove Compartment', 'Digital Clock', 'Driving Experience Control Eco', 'Height Adjustable Driver Seat', 'Leather Wrap Gear Shift Selector', 'Power Adjustable Exterior Rear View Mirror', 'Electric Folding Rear View Mirror', 'Rear Window Defogger', 'Integrated Antenna', 'Tinted Glass', 'Rear Spoiler', 'Sun Roof', 'Moon Roof', 'Outside Rear View Mirror Turn Indicators', 'Chrome Grille', 'Roof Rail', 'LEDDRLs', 'LEDHeadlights', 'LEDTaillights', 'Centeral Locking', 'Power Door Locks', 'Child Safety Locks', 'Driver Air Bag' 'Passenger Air Bag', 'Side Air Bag Front', 'Day Night Rear View Mirror', 'Passenger Side Rear View Mirror', 'Rear Seat Belts', 'Seat Belt Warning', 'Vehicle Stability Control System', 'Traction Control', 'Adjustable Seats', 'Keyless Entry', 'Engine Check Warning', 'Crash Sensor', 'Automatic Head Lamps', 'Ebd', 'Follow Me Home Headlamps', 'Rear Camera', 'Anti Pinch Power Windows', 'Speed Sensing Auto Door Lock', 'Isofix Child Seat Mounts', 'Pretensioners And Force Limiter Seatbelts', 'Hill Assist', 'Impact Sensing Auto Door Lock', 'No Of Airbags', 'Eletronic Stability Control', 'Speakers Front', 'Speakers Rear', 'Integrated2Din Audio', 'Bluetooth', 'Touch Screen', 'Number Of Speaker', 'Apple Car Play', 'Android Auto', 'Manually Adjustable Exterior Rear View Mirror', 'Wheel Covers', 'Halogen Headlamps', 'Side Impact Beams', 'Front Impact Beams', 'Centrally Mounted Fuel Tank', 'Engine Immobilizer', 'Height Adjustable Front Seat Belts', 'Cup Holders Front', 'Seat Lumbar Support', 'Voice Control', 'Gear Shift Indicator', 'Luggage Hook And Net', 'Tachometer', 'Outside Temperature Display', 'Dual Tone Dashboard', 'Rear Window Wiper', 'Automatic Driving Lights', 'LEDFog Lamps', 'Projector Headlamps', 'Anti Theft Alarm', 'Door Ajar Warning', 'Tyre Pressure Monitor', 'Anti Theft Device', 'View360Camera', 'Touch Screen Size', 'Wifi Connectivity', 'Cd Player', 'Remote Fuel Lid Opener', 'Vanity Mirror', 'Power Antenna', 'Usb Auxiliary Input', 'Air Quality Control', 'Navigation System', 'Lane Change Indicator', 'Rear Window Washer', 'Chrome Garnish', 'Dvd Player', 'Remote Trunk Opener', 'Cigarette Lighter', 'Rain Sensing Wiper', 'Smoke Headlamps', 'Xenon Headlamps', 'Cd Changer', 'Glove Box Cooling', 'Tailgate Ajar', 'Blind Spot Monitor', 'Hill Descent Control', 'Internal Storage', 'Wireless Phone Charging', 'Remote Climate Control', 'Find My Car Location', 'Cornering Headlamps', 'Clutch Lock', 'Sos Emergency Assistance', 'Speed Alert', 'Geo Fence Alert', 'Audio System Remote Control', 'Real Time Vehicle Tracking', 'Power Boot', 'Hands Free Tailgate', 'Ventilated Seats', 'Fog Lights Rear', 'Side Stepper', 'Heated Wing Mirror', 'Knee Airbags', 'Side Air Bag Rear', 'Steering Mounted Tripmeter', 'Rear Folding Table', 'Cornering Foglamps', 'Remote Horn Light Control', 'Cassette Player', 'Heads Up Display', 'Rear Entertainment System', 'Dual Tone Body Colour', 'Active Noise Cancellation', 'Power Folding3rd Row Seat', 'Roof Carrier', 'Compass', 'Lane Watch Camera', 'Mirror Link', 'Removable Convertible Top', 'Headlamp Washers', 'Smart Key Band', 'Max Torque', 'Length', 'Width', 'Height',  'Value Configuration', 'Compression Ratio', 'Gross Weight', 'Turning Radius', 'BoreX Stroke', 'Ground Clearance Unladen', 'Alloy Wheel Size']\n",
    "df.drop(columns=columns_to_drop, axis=1, inplace=True, errors='ignore')"
   ]
  },
  {
   "cell_type": "code",
   "execution_count": 39,
   "id": "1505f445-a7f6-4c8b-8301-15574798f315",
   "metadata": {},
   "outputs": [
    {
     "name": "stdout",
     "output_type": "stream",
     "text": [
      "['ft', 'bt', 'km', 'transmission', 'ownerNo', 'owner', 'oem', 'model', 'modelYear', 'variantName', 'price', 'Insurance Validity', 'Fuel Type', 'RTO', 'Ownership', 'Engine Displacement', 'Transmission', 'Year of Manufacture', 'Torque', 'Color', 'Engine Type', 'Displacement', 'No of Cylinder', 'Fuel Suppy System', 'Turbo Charger', 'Gear Box', 'Drive Type', 'Seating Capacity', 'Steering Type', 'Front Brake Type', 'Rear Brake Type', 'Tyre Type', 'No Door Numbers', 'Mileage', 'Super Charger', 'city']\n"
     ]
    }
   ],
   "source": [
    "print(df.columns.tolist())"
   ]
  },
  {
   "cell_type": "code",
   "execution_count": 40,
   "id": "c2d7819e-eef3-4f59-9d98-fef2c4161ea2",
   "metadata": {},
   "outputs": [
    {
     "data": {
      "text/html": [
       "<div>\n",
       "<style scoped>\n",
       "    .dataframe tbody tr th:only-of-type {\n",
       "        vertical-align: middle;\n",
       "    }\n",
       "\n",
       "    .dataframe tbody tr th {\n",
       "        vertical-align: top;\n",
       "    }\n",
       "\n",
       "    .dataframe thead th {\n",
       "        text-align: right;\n",
       "    }\n",
       "</style>\n",
       "<table border=\"1\" class=\"dataframe\">\n",
       "  <thead>\n",
       "    <tr style=\"text-align: right;\">\n",
       "      <th></th>\n",
       "      <th>ft</th>\n",
       "      <th>bt</th>\n",
       "      <th>km</th>\n",
       "      <th>transmission</th>\n",
       "      <th>ownerNo</th>\n",
       "      <th>owner</th>\n",
       "      <th>oem</th>\n",
       "      <th>model</th>\n",
       "      <th>modelYear</th>\n",
       "      <th>variantName</th>\n",
       "      <th>...</th>\n",
       "      <th>Drive Type</th>\n",
       "      <th>Seating Capacity</th>\n",
       "      <th>Steering Type</th>\n",
       "      <th>Front Brake Type</th>\n",
       "      <th>Rear Brake Type</th>\n",
       "      <th>Tyre Type</th>\n",
       "      <th>No Door Numbers</th>\n",
       "      <th>Mileage</th>\n",
       "      <th>Super Charger</th>\n",
       "      <th>city</th>\n",
       "    </tr>\n",
       "  </thead>\n",
       "  <tbody>\n",
       "    <tr>\n",
       "      <th>0</th>\n",
       "      <td>Petrol</td>\n",
       "      <td>SUV</td>\n",
       "      <td>20,000</td>\n",
       "      <td>Automatic</td>\n",
       "      <td>1</td>\n",
       "      <td>1st Owner</td>\n",
       "      <td>Kia</td>\n",
       "      <td>Kia Sonet</td>\n",
       "      <td>2022</td>\n",
       "      <td>Turbo DCT Anniversary Edition</td>\n",
       "      <td>...</td>\n",
       "      <td>['FWD']</td>\n",
       "      <td>['5']</td>\n",
       "      <td>['Electric']</td>\n",
       "      <td>['Disc']</td>\n",
       "      <td>['Drum']</td>\n",
       "      <td>['Tubeless, Radial']</td>\n",
       "      <td>['5']</td>\n",
       "      <td>NaN</td>\n",
       "      <td>NaN</td>\n",
       "      <td>Chennai</td>\n",
       "    </tr>\n",
       "    <tr>\n",
       "      <th>1</th>\n",
       "      <td>Petrol</td>\n",
       "      <td>Minivans</td>\n",
       "      <td>20,687</td>\n",
       "      <td>Manual</td>\n",
       "      <td>1</td>\n",
       "      <td>1st Owner</td>\n",
       "      <td>Maruti</td>\n",
       "      <td>Maruti Eeco</td>\n",
       "      <td>2015</td>\n",
       "      <td>7 Seater Standard BSIV</td>\n",
       "      <td>...</td>\n",
       "      <td>['RWD']</td>\n",
       "      <td>['7']</td>\n",
       "      <td>['Manual']</td>\n",
       "      <td>['Ventilated Disc']</td>\n",
       "      <td>['Drum']</td>\n",
       "      <td>['Tubeless Tyres']</td>\n",
       "      <td>['5']</td>\n",
       "      <td>['15.37 kmpl']</td>\n",
       "      <td>['No']</td>\n",
       "      <td>Chennai</td>\n",
       "    </tr>\n",
       "  </tbody>\n",
       "</table>\n",
       "<p>2 rows × 36 columns</p>\n",
       "</div>"
      ],
      "text/plain": [
       "       ft        bt      km transmission  ownerNo      owner     oem  \\\n",
       "0  Petrol       SUV  20,000    Automatic        1  1st Owner     Kia   \n",
       "1  Petrol  Minivans  20,687       Manual        1  1st Owner  Maruti   \n",
       "\n",
       "         model  modelYear                    variantName  ... Drive Type  \\\n",
       "0    Kia Sonet       2022  Turbo DCT Anniversary Edition  ...    ['FWD']   \n",
       "1  Maruti Eeco       2015         7 Seater Standard BSIV  ...    ['RWD']   \n",
       "\n",
       "  Seating Capacity Steering Type     Front Brake Type Rear Brake Type  \\\n",
       "0            ['5']  ['Electric']             ['Disc']        ['Drum']   \n",
       "1            ['7']    ['Manual']  ['Ventilated Disc']        ['Drum']   \n",
       "\n",
       "              Tyre Type No Door Numbers         Mileage Super Charger     city  \n",
       "0  ['Tubeless, Radial']           ['5']             NaN           NaN  Chennai  \n",
       "1    ['Tubeless Tyres']           ['5']  ['15.37 kmpl']        ['No']  Chennai  \n",
       "\n",
       "[2 rows x 36 columns]"
      ]
     },
     "execution_count": 40,
     "metadata": {},
     "output_type": "execute_result"
    }
   ],
   "source": [
    "df.head(2)"
   ]
  },
  {
   "cell_type": "code",
   "execution_count": 41,
   "id": "01ff1360-ad5a-49fe-85c1-b351679d09ab",
   "metadata": {},
   "outputs": [
    {
     "data": {
      "text/plain": [
       "ft                      object\n",
       "bt                      object\n",
       "km                      object\n",
       "transmission            object\n",
       "ownerNo                  int64\n",
       "owner                   object\n",
       "oem                     object\n",
       "model                   object\n",
       "modelYear                int64\n",
       "variantName             object\n",
       "price                   object\n",
       "Insurance Validity      object\n",
       "Fuel Type               object\n",
       "RTO                     object\n",
       "Ownership               object\n",
       "Engine Displacement     object\n",
       "Transmission            object\n",
       "Year of Manufacture    float64\n",
       "Torque                  object\n",
       "Color                   object\n",
       "Engine Type             object\n",
       "Displacement            object\n",
       "No of Cylinder          object\n",
       "Fuel Suppy System       object\n",
       "Turbo Charger           object\n",
       "Gear Box                object\n",
       "Drive Type              object\n",
       "Seating Capacity        object\n",
       "Steering Type           object\n",
       "Front Brake Type        object\n",
       "Rear Brake Type         object\n",
       "Tyre Type               object\n",
       "No Door Numbers         object\n",
       "Mileage                 object\n",
       "Super Charger           object\n",
       "city                    object\n",
       "dtype: object"
      ]
     },
     "execution_count": 41,
     "metadata": {},
     "output_type": "execute_result"
    }
   ],
   "source": [
    "df.dtypes"
   ]
  },
  {
   "cell_type": "markdown",
   "id": "efaa1ac8-7b61-457f-b7ba-0a84cc38abd1",
   "metadata": {},
   "source": [
    "PRICE"
   ]
  },
  {
   "cell_type": "code",
   "execution_count": 43,
   "id": "1ad75f63-c6ac-4288-b4f9-8adf0caeec9c",
   "metadata": {},
   "outputs": [],
   "source": [
    "def convert_price(price_str):\n",
    "    price_str = str(price_str)\n",
    "    price_str = re.sub(r'[₹,]', '',price_str).strip()\n",
    "\n",
    "    if 'Crore' in price_str:\n",
    "        price_str = price_str.replace('Crore', '').strip()\n",
    "        return float(price_str) * 10000000\n",
    "    \n",
    "    elif 'Lakh' in price_str:\n",
    "       price_str = price_str.replace('Lakh', '').strip()\n",
    "       return float(price_str) * 100000\n",
    "\n",
    "    elif 'Thousand' in price_str:\n",
    "       price_str = price_str.replace('Thousand', '').strip()\n",
    "       return float(price_str) * 1000\n",
    "\n",
    "    else:\n",
    "       return float(price_str)\n",
    "\n",
    "df['price'] = df['price'].apply(convert_price)"
   ]
  },
  {
   "cell_type": "code",
   "execution_count": 44,
   "id": "25605623-0bcd-463a-8322-51a91cbd237f",
   "metadata": {},
   "outputs": [
    {
     "data": {
      "text/plain": [
       "0       1150000.0\n",
       "1        415000.0\n",
       "2        750000.0\n",
       "3        398000.0\n",
       "4        550000.0\n",
       "          ...    \n",
       "8364     510000.0\n",
       "8365     180000.0\n",
       "8366     550000.0\n",
       "8367     140000.0\n",
       "8368     500000.0\n",
       "Name: price, Length: 8284, dtype: float64"
      ]
     },
     "execution_count": 44,
     "metadata": {},
     "output_type": "execute_result"
    }
   ],
   "source": [
    "df['price']"
   ]
  },
  {
   "cell_type": "markdown",
   "id": "0545e524-a6e4-4066-9efe-0e7ce248550a",
   "metadata": {},
   "source": [
    "KMS"
   ]
  },
  {
   "cell_type": "code",
   "execution_count": 46,
   "id": "2c59f975-71df-476b-8571-452dc96435c6",
   "metadata": {},
   "outputs": [],
   "source": [
    "def convert_km(km_str):\n",
    "    if km_str is None or isinstance(km_str, float) and np.isnan(km_str):\n",
    "        return np.nan\n",
    "    \n",
    "    km_str = str(km_str)\n",
    "    km_str = re.sub(r',', '',km_str).strip()\n",
    "    return float(km_str)\n",
    "\n",
    "df['km'] = df['km'].apply(convert_km)"
   ]
  },
  {
   "cell_type": "code",
   "execution_count": 47,
   "id": "96c864c0-e86e-41c2-8faf-c862723598e7",
   "metadata": {},
   "outputs": [
    {
     "data": {
      "text/plain": [
       "0        20000.0\n",
       "1        20687.0\n",
       "2        30000.0\n",
       "3        59247.0\n",
       "4        50000.0\n",
       "          ...   \n",
       "8364     10000.0\n",
       "8365    120000.0\n",
       "8366     50000.0\n",
       "8367     40000.0\n",
       "8368    120000.0\n",
       "Name: km, Length: 8284, dtype: float64"
      ]
     },
     "execution_count": 47,
     "metadata": {},
     "output_type": "execute_result"
    }
   ],
   "source": [
    "df['km']"
   ]
  },
  {
   "cell_type": "markdown",
   "id": "cfd93ea2-5c14-40c1-b60c-4fda67e69242",
   "metadata": {},
   "source": [
    "MILEAGE"
   ]
  },
  {
   "cell_type": "code",
   "execution_count": 49,
   "id": "4d080e0b-5c10-4c9f-beb0-5b6a09b572f8",
   "metadata": {},
   "outputs": [],
   "source": [
    "def clean_mileage(value):\n",
    "    if pd.isna(value):\n",
    "        return np.nan\n",
    "\n",
    "    value = str(value).strip().lower()\n",
    "\n",
    "    if 'km/kg' in value:\n",
    "        numeric_value = re.sub(r'[^\\d.]', '',value)\n",
    "        if numeric_value and numeric_value!= '.':\n",
    "           value_float = float(numeric_value) * 0.74\n",
    "           return value_float\n",
    "        else:\n",
    "            return np.nan\n",
    "\n",
    "    else:\n",
    "        numeric_value = re.sub(r'[^\\d.]', '',value)\n",
    "        if numeric_value and numeric_value!= '.':\n",
    "           return float(numeric_value)\n",
    "        else:\n",
    "            return np.nan\n",
    "\n",
    "df['Mileage'] = df['Mileage'].apply(clean_mileage)"
   ]
  },
  {
   "cell_type": "code",
   "execution_count": 50,
   "id": "c44015ee-b02f-4453-a0f0-06ae75faa719",
   "metadata": {},
   "outputs": [
    {
     "data": {
      "text/plain": [
       "0         NaN\n",
       "1       15.37\n",
       "2       20.00\n",
       "3       19.81\n",
       "4       18.70\n",
       "        ...  \n",
       "8364    25.24\n",
       "8365    22.74\n",
       "8366    11.74\n",
       "8367    18.50\n",
       "8368    19.72\n",
       "Name: Mileage, Length: 8284, dtype: float64"
      ]
     },
     "execution_count": 50,
     "metadata": {},
     "output_type": "execute_result"
    }
   ],
   "source": [
    "df['Mileage']"
   ]
  },
  {
   "cell_type": "code",
   "execution_count": 51,
   "id": "29a45e3a-7cc0-4fbd-b502-8121031964bf",
   "metadata": {},
   "outputs": [
    {
     "data": {
      "text/html": [
       "<div>\n",
       "<style scoped>\n",
       "    .dataframe tbody tr th:only-of-type {\n",
       "        vertical-align: middle;\n",
       "    }\n",
       "\n",
       "    .dataframe tbody tr th {\n",
       "        vertical-align: top;\n",
       "    }\n",
       "\n",
       "    .dataframe thead th {\n",
       "        text-align: right;\n",
       "    }\n",
       "</style>\n",
       "<table border=\"1\" class=\"dataframe\">\n",
       "  <thead>\n",
       "    <tr style=\"text-align: right;\">\n",
       "      <th></th>\n",
       "      <th>ft</th>\n",
       "      <th>bt</th>\n",
       "      <th>km</th>\n",
       "      <th>transmission</th>\n",
       "      <th>ownerNo</th>\n",
       "      <th>owner</th>\n",
       "      <th>oem</th>\n",
       "      <th>model</th>\n",
       "      <th>modelYear</th>\n",
       "      <th>variantName</th>\n",
       "      <th>...</th>\n",
       "      <th>Drive Type</th>\n",
       "      <th>Seating Capacity</th>\n",
       "      <th>Steering Type</th>\n",
       "      <th>Front Brake Type</th>\n",
       "      <th>Rear Brake Type</th>\n",
       "      <th>Tyre Type</th>\n",
       "      <th>No Door Numbers</th>\n",
       "      <th>Mileage</th>\n",
       "      <th>Super Charger</th>\n",
       "      <th>city</th>\n",
       "    </tr>\n",
       "  </thead>\n",
       "  <tbody>\n",
       "    <tr>\n",
       "      <th>0</th>\n",
       "      <td>Petrol</td>\n",
       "      <td>SUV</td>\n",
       "      <td>20000.0</td>\n",
       "      <td>Automatic</td>\n",
       "      <td>1</td>\n",
       "      <td>1st Owner</td>\n",
       "      <td>Kia</td>\n",
       "      <td>Kia Sonet</td>\n",
       "      <td>2022</td>\n",
       "      <td>Turbo DCT Anniversary Edition</td>\n",
       "      <td>...</td>\n",
       "      <td>['FWD']</td>\n",
       "      <td>['5']</td>\n",
       "      <td>['Electric']</td>\n",
       "      <td>['Disc']</td>\n",
       "      <td>['Drum']</td>\n",
       "      <td>['Tubeless, Radial']</td>\n",
       "      <td>['5']</td>\n",
       "      <td>NaN</td>\n",
       "      <td>NaN</td>\n",
       "      <td>Chennai</td>\n",
       "    </tr>\n",
       "    <tr>\n",
       "      <th>1</th>\n",
       "      <td>Petrol</td>\n",
       "      <td>Minivans</td>\n",
       "      <td>20687.0</td>\n",
       "      <td>Manual</td>\n",
       "      <td>1</td>\n",
       "      <td>1st Owner</td>\n",
       "      <td>Maruti</td>\n",
       "      <td>Maruti Eeco</td>\n",
       "      <td>2015</td>\n",
       "      <td>7 Seater Standard BSIV</td>\n",
       "      <td>...</td>\n",
       "      <td>['RWD']</td>\n",
       "      <td>['7']</td>\n",
       "      <td>['Manual']</td>\n",
       "      <td>['Ventilated Disc']</td>\n",
       "      <td>['Drum']</td>\n",
       "      <td>['Tubeless Tyres']</td>\n",
       "      <td>['5']</td>\n",
       "      <td>15.37</td>\n",
       "      <td>['No']</td>\n",
       "      <td>Chennai</td>\n",
       "    </tr>\n",
       "  </tbody>\n",
       "</table>\n",
       "<p>2 rows × 36 columns</p>\n",
       "</div>"
      ],
      "text/plain": [
       "       ft        bt       km transmission  ownerNo      owner     oem  \\\n",
       "0  Petrol       SUV  20000.0    Automatic        1  1st Owner     Kia   \n",
       "1  Petrol  Minivans  20687.0       Manual        1  1st Owner  Maruti   \n",
       "\n",
       "         model  modelYear                    variantName  ...  Drive Type  \\\n",
       "0    Kia Sonet       2022  Turbo DCT Anniversary Edition  ...     ['FWD']   \n",
       "1  Maruti Eeco       2015         7 Seater Standard BSIV  ...     ['RWD']   \n",
       "\n",
       "  Seating Capacity Steering Type     Front Brake Type Rear Brake Type  \\\n",
       "0            ['5']  ['Electric']             ['Disc']        ['Drum']   \n",
       "1            ['7']    ['Manual']  ['Ventilated Disc']        ['Drum']   \n",
       "\n",
       "              Tyre Type No Door Numbers  Mileage Super Charger     city  \n",
       "0  ['Tubeless, Radial']           ['5']      NaN           NaN  Chennai  \n",
       "1    ['Tubeless Tyres']           ['5']    15.37        ['No']  Chennai  \n",
       "\n",
       "[2 rows x 36 columns]"
      ]
     },
     "execution_count": 51,
     "metadata": {},
     "output_type": "execute_result"
    }
   ],
   "source": [
    "df.head(2)"
   ]
  },
  {
   "cell_type": "code",
   "execution_count": 52,
   "id": "e0da2a81-cfa6-405c-b89c-dd5a84eabffc",
   "metadata": {},
   "outputs": [],
   "source": [
    "# Calculate the mean and round it using Python's built-in round() function\n",
    "mean_mileage = round(df['Mileage'].mean(), 2)\n",
    "\n",
    "# Fill NaN values with the rounded mean\n",
    "df['Mileage'] = df['Mileage'].fillna(mean_mileage)\n",
    "\n",
    "# Clean and fill 'Displacement' values\n",
    "df['Displacement'] = df['Displacement'].apply(lambda x: float(str(x).strip(\"[]'\")) if pd.notna(x) else np.nan)\n",
    "median_displacement = df['Displacement'].median()\n",
    "df['Displacement'] = df['Displacement'].fillna(median_displacement)\n",
    "\n",
    "# Clean and fill 'No of Cylinder' values\n",
    "df['No of Cylinder'] = df['No of Cylinder'].apply(lambda x: float(str(x).strip(\"[]'\")) if pd.notna(x) else np.nan)\n",
    "median_cylinders = df['No of Cylinder'].median()\n",
    "df['No of Cylinder'] = df['No of Cylinder'].fillna(median_cylinders)\n",
    "\n",
    "# Fill NaN values with the mode for 'Seating Capacity'\n",
    "seating_capacity_mode = df['Seating Capacity'].mode()\n",
    "if not seating_capacity_mode.empty:\n",
    "    df['Seating Capacity'] = df['Seating Capacity'].fillna(seating_capacity_mode[0])\n",
    "else:\n",
    "    df['Seating Capacity'] = df['Seating Capacity'].fillna(df['Seating Capacity'].mean())\n",
    "\n",
    "# Check for the existence of 'No Door Numbers' and fill NaN values\n",
    "if 'No Door Numbers' in df.columns:\n",
    "    no_door_mode = df['No Door Numbers'].mode()\n",
    "    if not no_door_mode.empty:\n",
    "        df['No Door Numbers'] = df['No Door Numbers'].fillna(no_door_mode[0])\n",
    "    else:\n",
    "        df['No Door Numbers'] = df['No Door Numbers'].fillna(df['No Door Numbers'].mode()[0])\n",
    "else:\n",
    "    print(\"Column 'No Door Numbers' does not exist in the DataFrame.\")"
   ]
  },
  {
   "cell_type": "code",
   "execution_count": 53,
   "id": "f45ddeff-6fb5-42dd-8490-1dc3fe6e1c31",
   "metadata": {},
   "outputs": [
    {
     "data": {
      "text/plain": [
       "(8284, 36)"
      ]
     },
     "execution_count": 53,
     "metadata": {},
     "output_type": "execute_result"
    }
   ],
   "source": [
    "df.shape"
   ]
  },
  {
   "cell_type": "code",
   "execution_count": 54,
   "id": "ebc9774b-5809-4a02-b627-e5057d67ec6d",
   "metadata": {},
   "outputs": [
    {
     "data": {
      "text/plain": [
       "ft                        0\n",
       "bt                        4\n",
       "km                        0\n",
       "transmission              0\n",
       "ownerNo                   0\n",
       "owner                     0\n",
       "oem                       0\n",
       "model                     0\n",
       "modelYear                 0\n",
       "variantName               0\n",
       "price                     0\n",
       "Insurance Validity        4\n",
       "Fuel Type                 0\n",
       "RTO                     874\n",
       "Ownership                32\n",
       "Engine Displacement       4\n",
       "Transmission              0\n",
       "Year of Manufacture      20\n",
       "Torque                   60\n",
       "Color                     3\n",
       "Engine Type             290\n",
       "Displacement              0\n",
       "No of Cylinder            0\n",
       "Fuel Suppy System      1708\n",
       "Turbo Charger          1029\n",
       "Gear Box                106\n",
       "Drive Type             1540\n",
       "Seating Capacity          0\n",
       "Steering Type           254\n",
       "Front Brake Type         96\n",
       "Rear Brake Type          96\n",
       "Tyre Type                77\n",
       "No Door Numbers           0\n",
       "Mileage                   0\n",
       "Super Charger          1938\n",
       "city                      0\n",
       "dtype: int64"
      ]
     },
     "execution_count": 54,
     "metadata": {},
     "output_type": "execute_result"
    }
   ],
   "source": [
    "df.isna().sum()"
   ]
  },
  {
   "cell_type": "code",
   "execution_count": 55,
   "id": "26c5099f-3fb4-4f1f-b599-c9a8f2635b7a",
   "metadata": {},
   "outputs": [
    {
     "data": {
      "text/plain": [
       "ft                      object\n",
       "bt                      object\n",
       "km                     float64\n",
       "transmission            object\n",
       "ownerNo                  int64\n",
       "owner                   object\n",
       "oem                     object\n",
       "model                   object\n",
       "modelYear                int64\n",
       "variantName             object\n",
       "price                  float64\n",
       "Insurance Validity      object\n",
       "Fuel Type               object\n",
       "RTO                     object\n",
       "Ownership               object\n",
       "Engine Displacement     object\n",
       "Transmission            object\n",
       "Year of Manufacture    float64\n",
       "Torque                  object\n",
       "Color                   object\n",
       "Engine Type             object\n",
       "Displacement           float64\n",
       "No of Cylinder         float64\n",
       "Fuel Suppy System       object\n",
       "Turbo Charger           object\n",
       "Gear Box                object\n",
       "Drive Type              object\n",
       "Seating Capacity        object\n",
       "Steering Type           object\n",
       "Front Brake Type        object\n",
       "Rear Brake Type         object\n",
       "Tyre Type               object\n",
       "No Door Numbers         object\n",
       "Mileage                float64\n",
       "Super Charger           object\n",
       "city                    object\n",
       "dtype: object"
      ]
     },
     "execution_count": 55,
     "metadata": {},
     "output_type": "execute_result"
    }
   ],
   "source": [
    "df.dtypes"
   ]
  },
  {
   "cell_type": "code",
   "execution_count": 56,
   "id": "bf733ed2-7908-4c76-a56a-d14d15d3f707",
   "metadata": {},
   "outputs": [
    {
     "data": {
      "text/html": [
       "<div>\n",
       "<style scoped>\n",
       "    .dataframe tbody tr th:only-of-type {\n",
       "        vertical-align: middle;\n",
       "    }\n",
       "\n",
       "    .dataframe tbody tr th {\n",
       "        vertical-align: top;\n",
       "    }\n",
       "\n",
       "    .dataframe thead th {\n",
       "        text-align: right;\n",
       "    }\n",
       "</style>\n",
       "<table border=\"1\" class=\"dataframe\">\n",
       "  <thead>\n",
       "    <tr style=\"text-align: right;\">\n",
       "      <th></th>\n",
       "      <th>ft</th>\n",
       "      <th>bt</th>\n",
       "      <th>km</th>\n",
       "      <th>transmission</th>\n",
       "      <th>ownerNo</th>\n",
       "      <th>owner</th>\n",
       "      <th>oem</th>\n",
       "      <th>model</th>\n",
       "      <th>modelYear</th>\n",
       "      <th>variantName</th>\n",
       "      <th>...</th>\n",
       "      <th>Drive Type</th>\n",
       "      <th>Seating Capacity</th>\n",
       "      <th>Steering Type</th>\n",
       "      <th>Front Brake Type</th>\n",
       "      <th>Rear Brake Type</th>\n",
       "      <th>Tyre Type</th>\n",
       "      <th>No Door Numbers</th>\n",
       "      <th>Mileage</th>\n",
       "      <th>Super Charger</th>\n",
       "      <th>city</th>\n",
       "    </tr>\n",
       "  </thead>\n",
       "  <tbody>\n",
       "    <tr>\n",
       "      <th>0</th>\n",
       "      <td>Petrol</td>\n",
       "      <td>SUV</td>\n",
       "      <td>20000.0</td>\n",
       "      <td>Automatic</td>\n",
       "      <td>1</td>\n",
       "      <td>1st Owner</td>\n",
       "      <td>Kia</td>\n",
       "      <td>Kia Sonet</td>\n",
       "      <td>2022</td>\n",
       "      <td>Turbo DCT Anniversary Edition</td>\n",
       "      <td>...</td>\n",
       "      <td>['FWD']</td>\n",
       "      <td>['5']</td>\n",
       "      <td>['Electric']</td>\n",
       "      <td>['Disc']</td>\n",
       "      <td>['Drum']</td>\n",
       "      <td>['Tubeless, Radial']</td>\n",
       "      <td>['5']</td>\n",
       "      <td>19.23</td>\n",
       "      <td>NaN</td>\n",
       "      <td>Chennai</td>\n",
       "    </tr>\n",
       "    <tr>\n",
       "      <th>1</th>\n",
       "      <td>Petrol</td>\n",
       "      <td>Minivans</td>\n",
       "      <td>20687.0</td>\n",
       "      <td>Manual</td>\n",
       "      <td>1</td>\n",
       "      <td>1st Owner</td>\n",
       "      <td>Maruti</td>\n",
       "      <td>Maruti Eeco</td>\n",
       "      <td>2015</td>\n",
       "      <td>7 Seater Standard BSIV</td>\n",
       "      <td>...</td>\n",
       "      <td>['RWD']</td>\n",
       "      <td>['7']</td>\n",
       "      <td>['Manual']</td>\n",
       "      <td>['Ventilated Disc']</td>\n",
       "      <td>['Drum']</td>\n",
       "      <td>['Tubeless Tyres']</td>\n",
       "      <td>['5']</td>\n",
       "      <td>15.37</td>\n",
       "      <td>['No']</td>\n",
       "      <td>Chennai</td>\n",
       "    </tr>\n",
       "    <tr>\n",
       "      <th>2</th>\n",
       "      <td>Petrol</td>\n",
       "      <td>SUV</td>\n",
       "      <td>30000.0</td>\n",
       "      <td>Manual</td>\n",
       "      <td>1</td>\n",
       "      <td>1st Owner</td>\n",
       "      <td>Nissan</td>\n",
       "      <td>Nissan Magnite</td>\n",
       "      <td>2021</td>\n",
       "      <td>Turbo XV Premium BSVI</td>\n",
       "      <td>...</td>\n",
       "      <td>NaN</td>\n",
       "      <td>['5']</td>\n",
       "      <td>['Electronic']</td>\n",
       "      <td>['Disc']</td>\n",
       "      <td>['Drum']</td>\n",
       "      <td>['Tubeless,Radial']</td>\n",
       "      <td>['5']</td>\n",
       "      <td>20.00</td>\n",
       "      <td>['No']</td>\n",
       "      <td>Chennai</td>\n",
       "    </tr>\n",
       "    <tr>\n",
       "      <th>3</th>\n",
       "      <td>Petrol</td>\n",
       "      <td>Hatchback</td>\n",
       "      <td>59247.0</td>\n",
       "      <td>Manual</td>\n",
       "      <td>1</td>\n",
       "      <td>1st Owner</td>\n",
       "      <td>Hyundai</td>\n",
       "      <td>Hyundai i10</td>\n",
       "      <td>2015</td>\n",
       "      <td>Sportz 1.1L</td>\n",
       "      <td>...</td>\n",
       "      <td>['FWD']</td>\n",
       "      <td>['5']</td>\n",
       "      <td>['Power']</td>\n",
       "      <td>['Ventilated Disc']</td>\n",
       "      <td>['Drum']</td>\n",
       "      <td>['Tubeless']</td>\n",
       "      <td>['5']</td>\n",
       "      <td>19.81</td>\n",
       "      <td>['No']</td>\n",
       "      <td>Chennai</td>\n",
       "    </tr>\n",
       "    <tr>\n",
       "      <th>4</th>\n",
       "      <td>Petrol</td>\n",
       "      <td>Hatchback</td>\n",
       "      <td>50000.0</td>\n",
       "      <td>Manual</td>\n",
       "      <td>1</td>\n",
       "      <td>1st Owner</td>\n",
       "      <td>Honda</td>\n",
       "      <td>Honda Jazz</td>\n",
       "      <td>2015</td>\n",
       "      <td>1.2 VX i VTEC</td>\n",
       "      <td>...</td>\n",
       "      <td>['FWD']</td>\n",
       "      <td>['5']</td>\n",
       "      <td>['Power']</td>\n",
       "      <td>['Disc']</td>\n",
       "      <td>['Drum']</td>\n",
       "      <td>['Tubeless,Radial']</td>\n",
       "      <td>['5']</td>\n",
       "      <td>18.70</td>\n",
       "      <td>['No']</td>\n",
       "      <td>Chennai</td>\n",
       "    </tr>\n",
       "    <tr>\n",
       "      <th>...</th>\n",
       "      <td>...</td>\n",
       "      <td>...</td>\n",
       "      <td>...</td>\n",
       "      <td>...</td>\n",
       "      <td>...</td>\n",
       "      <td>...</td>\n",
       "      <td>...</td>\n",
       "      <td>...</td>\n",
       "      <td>...</td>\n",
       "      <td>...</td>\n",
       "      <td>...</td>\n",
       "      <td>...</td>\n",
       "      <td>...</td>\n",
       "      <td>...</td>\n",
       "      <td>...</td>\n",
       "      <td>...</td>\n",
       "      <td>...</td>\n",
       "      <td>...</td>\n",
       "      <td>...</td>\n",
       "      <td>...</td>\n",
       "      <td>...</td>\n",
       "    </tr>\n",
       "    <tr>\n",
       "      <th>8364</th>\n",
       "      <td>Petrol</td>\n",
       "      <td>Hatchback</td>\n",
       "      <td>10000.0</td>\n",
       "      <td>Manual</td>\n",
       "      <td>1</td>\n",
       "      <td>1st Owner</td>\n",
       "      <td>Maruti</td>\n",
       "      <td>Maruti Celerio</td>\n",
       "      <td>2022</td>\n",
       "      <td>ZXI BSVI</td>\n",
       "      <td>...</td>\n",
       "      <td>NaN</td>\n",
       "      <td>['5']</td>\n",
       "      <td>['Electric']</td>\n",
       "      <td>['Ventilated Disc']</td>\n",
       "      <td>['Drum']</td>\n",
       "      <td>['Tubeless, Radial']</td>\n",
       "      <td>['5']</td>\n",
       "      <td>25.24</td>\n",
       "      <td>NaN</td>\n",
       "      <td>Kolkata</td>\n",
       "    </tr>\n",
       "    <tr>\n",
       "      <th>8365</th>\n",
       "      <td>Petrol</td>\n",
       "      <td>Hatchback</td>\n",
       "      <td>120000.0</td>\n",
       "      <td>Manual</td>\n",
       "      <td>1</td>\n",
       "      <td>1st Owner</td>\n",
       "      <td>Maruti</td>\n",
       "      <td>Maruti Alto 800</td>\n",
       "      <td>2014</td>\n",
       "      <td>LXI</td>\n",
       "      <td>...</td>\n",
       "      <td>['FWD']</td>\n",
       "      <td>['5']</td>\n",
       "      <td>['Power']</td>\n",
       "      <td>['Solid Disc']</td>\n",
       "      <td>['Drum']</td>\n",
       "      <td>['Tubeless Tyres']</td>\n",
       "      <td>['5']</td>\n",
       "      <td>22.74</td>\n",
       "      <td>['No']</td>\n",
       "      <td>Kolkata</td>\n",
       "    </tr>\n",
       "    <tr>\n",
       "      <th>8366</th>\n",
       "      <td>Petrol</td>\n",
       "      <td>Sedan</td>\n",
       "      <td>50000.0</td>\n",
       "      <td>Automatic</td>\n",
       "      <td>3</td>\n",
       "      <td>3rd Owner</td>\n",
       "      <td>Mercedes-Benz</td>\n",
       "      <td>Mercedes-Benz C-Class</td>\n",
       "      <td>2011</td>\n",
       "      <td>C 200 CGI Elegance</td>\n",
       "      <td>...</td>\n",
       "      <td>['RWD']</td>\n",
       "      <td>['5']</td>\n",
       "      <td>['Power']</td>\n",
       "      <td>['Ventilated Disc']</td>\n",
       "      <td>['Solid Disc']</td>\n",
       "      <td>['Tubeless,Radial']</td>\n",
       "      <td>['4']</td>\n",
       "      <td>11.74</td>\n",
       "      <td>['No']</td>\n",
       "      <td>Kolkata</td>\n",
       "    </tr>\n",
       "    <tr>\n",
       "      <th>8367</th>\n",
       "      <td>Petrol</td>\n",
       "      <td>Hatchback</td>\n",
       "      <td>40000.0</td>\n",
       "      <td>Manual</td>\n",
       "      <td>1</td>\n",
       "      <td>1st Owner</td>\n",
       "      <td>Maruti</td>\n",
       "      <td>Maruti Ritz</td>\n",
       "      <td>2012</td>\n",
       "      <td>ZXi</td>\n",
       "      <td>...</td>\n",
       "      <td>['FWD']</td>\n",
       "      <td>['5']</td>\n",
       "      <td>['Power']</td>\n",
       "      <td>['Ventilated Disc']</td>\n",
       "      <td>['Drum']</td>\n",
       "      <td>['Tubeless,Radial']</td>\n",
       "      <td>['5']</td>\n",
       "      <td>18.50</td>\n",
       "      <td>['No']</td>\n",
       "      <td>Kolkata</td>\n",
       "    </tr>\n",
       "    <tr>\n",
       "      <th>8368</th>\n",
       "      <td>Diesel</td>\n",
       "      <td>SUV</td>\n",
       "      <td>120000.0</td>\n",
       "      <td>Manual</td>\n",
       "      <td>2</td>\n",
       "      <td>2nd Owner</td>\n",
       "      <td>Renault</td>\n",
       "      <td>Renault Duster</td>\n",
       "      <td>2017</td>\n",
       "      <td>110PS Diesel RxZ AWD</td>\n",
       "      <td>...</td>\n",
       "      <td>['AWD']</td>\n",
       "      <td>['5']</td>\n",
       "      <td>['Power']</td>\n",
       "      <td>['Disc']</td>\n",
       "      <td>['Drum']</td>\n",
       "      <td>['Tubeless,Radial']</td>\n",
       "      <td>['5']</td>\n",
       "      <td>19.72</td>\n",
       "      <td>['No']</td>\n",
       "      <td>Kolkata</td>\n",
       "    </tr>\n",
       "  </tbody>\n",
       "</table>\n",
       "<p>7776 rows × 36 columns</p>\n",
       "</div>"
      ],
      "text/plain": [
       "          ft         bt        km transmission  ownerNo      owner  \\\n",
       "0     Petrol        SUV   20000.0    Automatic        1  1st Owner   \n",
       "1     Petrol   Minivans   20687.0       Manual        1  1st Owner   \n",
       "2     Petrol        SUV   30000.0       Manual        1  1st Owner   \n",
       "3     Petrol  Hatchback   59247.0       Manual        1  1st Owner   \n",
       "4     Petrol  Hatchback   50000.0       Manual        1  1st Owner   \n",
       "...      ...        ...       ...          ...      ...        ...   \n",
       "8364  Petrol  Hatchback   10000.0       Manual        1  1st Owner   \n",
       "8365  Petrol  Hatchback  120000.0       Manual        1  1st Owner   \n",
       "8366  Petrol      Sedan   50000.0    Automatic        3  3rd Owner   \n",
       "8367  Petrol  Hatchback   40000.0       Manual        1  1st Owner   \n",
       "8368  Diesel        SUV  120000.0       Manual        2  2nd Owner   \n",
       "\n",
       "                oem                  model  modelYear  \\\n",
       "0               Kia              Kia Sonet       2022   \n",
       "1            Maruti            Maruti Eeco       2015   \n",
       "2            Nissan         Nissan Magnite       2021   \n",
       "3           Hyundai            Hyundai i10       2015   \n",
       "4             Honda             Honda Jazz       2015   \n",
       "...             ...                    ...        ...   \n",
       "8364         Maruti         Maruti Celerio       2022   \n",
       "8365         Maruti        Maruti Alto 800       2014   \n",
       "8366  Mercedes-Benz  Mercedes-Benz C-Class       2011   \n",
       "8367         Maruti            Maruti Ritz       2012   \n",
       "8368        Renault         Renault Duster       2017   \n",
       "\n",
       "                        variantName  ...  Drive Type Seating Capacity  \\\n",
       "0     Turbo DCT Anniversary Edition  ...     ['FWD']            ['5']   \n",
       "1            7 Seater Standard BSIV  ...     ['RWD']            ['7']   \n",
       "2             Turbo XV Premium BSVI  ...         NaN            ['5']   \n",
       "3                       Sportz 1.1L  ...     ['FWD']            ['5']   \n",
       "4                     1.2 VX i VTEC  ...     ['FWD']            ['5']   \n",
       "...                             ...  ...         ...              ...   \n",
       "8364                       ZXI BSVI  ...         NaN            ['5']   \n",
       "8365                            LXI  ...     ['FWD']            ['5']   \n",
       "8366             C 200 CGI Elegance  ...     ['RWD']            ['5']   \n",
       "8367                            ZXi  ...     ['FWD']            ['5']   \n",
       "8368           110PS Diesel RxZ AWD  ...     ['AWD']            ['5']   \n",
       "\n",
       "       Steering Type     Front Brake Type Rear Brake Type  \\\n",
       "0       ['Electric']             ['Disc']        ['Drum']   \n",
       "1         ['Manual']  ['Ventilated Disc']        ['Drum']   \n",
       "2     ['Electronic']             ['Disc']        ['Drum']   \n",
       "3          ['Power']  ['Ventilated Disc']        ['Drum']   \n",
       "4          ['Power']             ['Disc']        ['Drum']   \n",
       "...              ...                  ...             ...   \n",
       "8364    ['Electric']  ['Ventilated Disc']        ['Drum']   \n",
       "8365       ['Power']       ['Solid Disc']        ['Drum']   \n",
       "8366       ['Power']  ['Ventilated Disc']  ['Solid Disc']   \n",
       "8367       ['Power']  ['Ventilated Disc']        ['Drum']   \n",
       "8368       ['Power']             ['Disc']        ['Drum']   \n",
       "\n",
       "                 Tyre Type No Door Numbers  Mileage Super Charger     city  \n",
       "0     ['Tubeless, Radial']           ['5']    19.23           NaN  Chennai  \n",
       "1       ['Tubeless Tyres']           ['5']    15.37        ['No']  Chennai  \n",
       "2      ['Tubeless,Radial']           ['5']    20.00        ['No']  Chennai  \n",
       "3             ['Tubeless']           ['5']    19.81        ['No']  Chennai  \n",
       "4      ['Tubeless,Radial']           ['5']    18.70        ['No']  Chennai  \n",
       "...                    ...             ...      ...           ...      ...  \n",
       "8364  ['Tubeless, Radial']           ['5']    25.24           NaN  Kolkata  \n",
       "8365    ['Tubeless Tyres']           ['5']    22.74        ['No']  Kolkata  \n",
       "8366   ['Tubeless,Radial']           ['4']    11.74        ['No']  Kolkata  \n",
       "8367   ['Tubeless,Radial']           ['5']    18.50        ['No']  Kolkata  \n",
       "8368   ['Tubeless,Radial']           ['5']    19.72        ['No']  Kolkata  \n",
       "\n",
       "[7776 rows x 36 columns]"
      ]
     },
     "execution_count": 56,
     "metadata": {},
     "output_type": "execute_result"
    }
   ],
   "source": [
    "def remove_outliers(df, columns, z_thresh=3):\n",
    "    for column in columns:\n",
    "        z_scores = stats.zscore(df[column])\n",
    "\n",
    "        df = df[abs(z_scores) < (z_thresh)]\n",
    "\n",
    "    return df\n",
    "\n",
    "columns_to_check = ['km', 'modelYear', 'Displacement', 'Mileage', 'price']\n",
    "df_outliers_removed = remove_outliers(df, columns_to_check)\n",
    "df_outliers_removed        "
   ]
  },
  {
   "cell_type": "code",
   "execution_count": 57,
   "id": "404d3cfa-0151-4d67-9c49-874febd5b081",
   "metadata": {},
   "outputs": [
    {
     "data": {
      "text/plain": [
       "(7776, 36)"
      ]
     },
     "execution_count": 57,
     "metadata": {},
     "output_type": "execute_result"
    }
   ],
   "source": [
    "df_outliers_removed.shape"
   ]
  },
  {
   "cell_type": "code",
   "execution_count": 58,
   "id": "1c330504-3051-428e-88b7-3f6f3e09c39d",
   "metadata": {},
   "outputs": [
    {
     "data": {
      "image/png": "[encoded data removed]",
      "text/plain": [
       "<Figure size 1500x1000 with 2 Axes>"
      ]
     },
     "metadata": {},
     "output_type": "display_data"
    },
    {
     "name": "stdout",
     "output_type": "stream",
     "text": [
      "'Price' Value in Correlations:\n",
      "km                    -0.243118\n",
      "ownerNo               -0.186916\n",
      "modelYear              0.456043\n",
      "price                  1.000000\n",
      "Year of Manufacture    0.456043\n",
      "Displacement           0.557017\n",
      "No of Cylinder         0.252360\n",
      "Mileage               -0.349549\n",
      "Name: price, dtype: float64\n"
     ]
    }
   ],
   "source": [
    "numeric_cols_df = df_outliers_removed.select_dtypes(include=['float64', 'int64'])\n",
    "\n",
    "corr_matrix = numeric_cols_df.corr()\n",
    "\n",
    "plt.figure(figsize=(15,10))\n",
    "sns.heatmap(corr_matrix, annot=True, cmap='viridis', vmin=-1, vmax=1, linecolor='white', linewidths=1)\n",
    "plt.title('Correlations of HeatMap in Numeric Features', fontsize=18)\n",
    "plt.show()\n",
    "\n",
    "price_corr = corr_matrix['price']\n",
    "\n",
    "\n",
    "print(\"'Price' Value in Correlations:\")\n",
    "print(price_corr)"
   ]
  },
  {
   "cell_type": "code",
   "execution_count": 59,
   "id": "c2a2ac2c-01b1-4444-b07c-9123c2532b5b",
   "metadata": {},
   "outputs": [
    {
     "name": "stderr",
     "output_type": "stream",
     "text": [
      "C:\\Users\\anand\\AppData\\Local\\Temp\\ipykernel_19784\\1785840111.py:2: FutureWarning: \n",
      "\n",
      "Passing `palette` without assigning `hue` is deprecated and will be removed in v0.14.0. Assign the `x` variable to `hue` and set `legend=False` for the same effect.\n",
      "\n",
      "  sns.barplot(x=price_corr.index, y=price_corr.values, palette='PiYG')\n"
     ]
    },
    {
     "data": {
      "image/png": "[encoded data removed]",
      "text/plain": [
       "<Figure size 1500x1000 with 1 Axes>"
      ]
     },
     "metadata": {},
     "output_type": "display_data"
    }
   ],
   "source": [
    "plt.figure(figsize=(15,10))\n",
    "sns.barplot(x=price_corr.index, y=price_corr.values, palette='PiYG')\n",
    "plt.title('Price Barplot between Numerical and Corr.Coefficient', fontsize=18)\n",
    "plt.xlabel('Numerical Features', fontsize=15)\n",
    "plt.ylabel('Correlation Coefficient', fontsize=15)\n",
    "plt.xticks(rotation=50, ha='right')\n",
    "plt.tight_layout()\n",
    "plt.show()"
   ]
  },
  {
   "cell_type": "code",
   "execution_count": 60,
   "id": "10fed509-79b8-4915-b2a6-c0a896ed93dc",
   "metadata": {},
   "outputs": [],
   "source": [
    "columns_to_drop = ['Seating Capacity', 'No Door Numbers', 'No of Cylinder']\n",
    "columns_existing = [col for col in columns_to_drop if col in df_outliers_removed.columns]\n",
    "\n",
    "if columns_existing:\n",
    "    df_outliers_removed.drop(columns_existing, axis=1, inplace=True)\n",
    "else:\n",
    "    print(\"Columns not found:\", [col for col in columns_to_drop if col not in df_outliers_removed.columns])"
   ]
  },
  {
   "cell_type": "code",
   "execution_count": 61,
   "id": "f88cf819-ae58-4da2-aa2e-13d4312b1541",
   "metadata": {},
   "outputs": [
    {
     "data": {
      "text/html": [
       "<div>\n",
       "<style scoped>\n",
       "    .dataframe tbody tr th:only-of-type {\n",
       "        vertical-align: middle;\n",
       "    }\n",
       "\n",
       "    .dataframe tbody tr th {\n",
       "        vertical-align: top;\n",
       "    }\n",
       "\n",
       "    .dataframe thead th {\n",
       "        text-align: right;\n",
       "    }\n",
       "</style>\n",
       "<table border=\"1\" class=\"dataframe\">\n",
       "  <thead>\n",
       "    <tr style=\"text-align: right;\">\n",
       "      <th></th>\n",
       "      <th>ft</th>\n",
       "      <th>bt</th>\n",
       "      <th>km</th>\n",
       "      <th>transmission</th>\n",
       "      <th>ownerNo</th>\n",
       "      <th>owner</th>\n",
       "      <th>oem</th>\n",
       "      <th>model</th>\n",
       "      <th>modelYear</th>\n",
       "      <th>variantName</th>\n",
       "      <th>...</th>\n",
       "      <th>Turbo Charger</th>\n",
       "      <th>Gear Box</th>\n",
       "      <th>Drive Type</th>\n",
       "      <th>Steering Type</th>\n",
       "      <th>Front Brake Type</th>\n",
       "      <th>Rear Brake Type</th>\n",
       "      <th>Tyre Type</th>\n",
       "      <th>Mileage</th>\n",
       "      <th>Super Charger</th>\n",
       "      <th>city</th>\n",
       "    </tr>\n",
       "  </thead>\n",
       "  <tbody>\n",
       "    <tr>\n",
       "      <th>0</th>\n",
       "      <td>Petrol</td>\n",
       "      <td>SUV</td>\n",
       "      <td>20000.0</td>\n",
       "      <td>Automatic</td>\n",
       "      <td>1</td>\n",
       "      <td>1st Owner</td>\n",
       "      <td>Kia</td>\n",
       "      <td>Kia Sonet</td>\n",
       "      <td>2022</td>\n",
       "      <td>Turbo DCT Anniversary Edition</td>\n",
       "      <td>...</td>\n",
       "      <td>['Yes']</td>\n",
       "      <td>['7-Speed DCT']</td>\n",
       "      <td>['FWD']</td>\n",
       "      <td>['Electric']</td>\n",
       "      <td>['Disc']</td>\n",
       "      <td>['Drum']</td>\n",
       "      <td>['Tubeless, Radial']</td>\n",
       "      <td>19.23</td>\n",
       "      <td>NaN</td>\n",
       "      <td>Chennai</td>\n",
       "    </tr>\n",
       "    <tr>\n",
       "      <th>1</th>\n",
       "      <td>Petrol</td>\n",
       "      <td>Minivans</td>\n",
       "      <td>20687.0</td>\n",
       "      <td>Manual</td>\n",
       "      <td>1</td>\n",
       "      <td>1st Owner</td>\n",
       "      <td>Maruti</td>\n",
       "      <td>Maruti Eeco</td>\n",
       "      <td>2015</td>\n",
       "      <td>7 Seater Standard BSIV</td>\n",
       "      <td>...</td>\n",
       "      <td>['No']</td>\n",
       "      <td>['5 Speed']</td>\n",
       "      <td>['RWD']</td>\n",
       "      <td>['Manual']</td>\n",
       "      <td>['Ventilated Disc']</td>\n",
       "      <td>['Drum']</td>\n",
       "      <td>['Tubeless Tyres']</td>\n",
       "      <td>15.37</td>\n",
       "      <td>['No']</td>\n",
       "      <td>Chennai</td>\n",
       "    </tr>\n",
       "    <tr>\n",
       "      <th>2</th>\n",
       "      <td>Petrol</td>\n",
       "      <td>SUV</td>\n",
       "      <td>30000.0</td>\n",
       "      <td>Manual</td>\n",
       "      <td>1</td>\n",
       "      <td>1st Owner</td>\n",
       "      <td>Nissan</td>\n",
       "      <td>Nissan Magnite</td>\n",
       "      <td>2021</td>\n",
       "      <td>Turbo XV Premium BSVI</td>\n",
       "      <td>...</td>\n",
       "      <td>['Yes']</td>\n",
       "      <td>['5 Speed']</td>\n",
       "      <td>NaN</td>\n",
       "      <td>['Electronic']</td>\n",
       "      <td>['Disc']</td>\n",
       "      <td>['Drum']</td>\n",
       "      <td>['Tubeless,Radial']</td>\n",
       "      <td>20.00</td>\n",
       "      <td>['No']</td>\n",
       "      <td>Chennai</td>\n",
       "    </tr>\n",
       "    <tr>\n",
       "      <th>3</th>\n",
       "      <td>Petrol</td>\n",
       "      <td>Hatchback</td>\n",
       "      <td>59247.0</td>\n",
       "      <td>Manual</td>\n",
       "      <td>1</td>\n",
       "      <td>1st Owner</td>\n",
       "      <td>Hyundai</td>\n",
       "      <td>Hyundai i10</td>\n",
       "      <td>2015</td>\n",
       "      <td>Sportz 1.1L</td>\n",
       "      <td>...</td>\n",
       "      <td>['No']</td>\n",
       "      <td>['5 Speed']</td>\n",
       "      <td>['FWD']</td>\n",
       "      <td>['Power']</td>\n",
       "      <td>['Ventilated Disc']</td>\n",
       "      <td>['Drum']</td>\n",
       "      <td>['Tubeless']</td>\n",
       "      <td>19.81</td>\n",
       "      <td>['No']</td>\n",
       "      <td>Chennai</td>\n",
       "    </tr>\n",
       "    <tr>\n",
       "      <th>4</th>\n",
       "      <td>Petrol</td>\n",
       "      <td>Hatchback</td>\n",
       "      <td>50000.0</td>\n",
       "      <td>Manual</td>\n",
       "      <td>1</td>\n",
       "      <td>1st Owner</td>\n",
       "      <td>Honda</td>\n",
       "      <td>Honda Jazz</td>\n",
       "      <td>2015</td>\n",
       "      <td>1.2 VX i VTEC</td>\n",
       "      <td>...</td>\n",
       "      <td>['No']</td>\n",
       "      <td>['5 Speed']</td>\n",
       "      <td>['FWD']</td>\n",
       "      <td>['Power']</td>\n",
       "      <td>['Disc']</td>\n",
       "      <td>['Drum']</td>\n",
       "      <td>['Tubeless,Radial']</td>\n",
       "      <td>18.70</td>\n",
       "      <td>['No']</td>\n",
       "      <td>Chennai</td>\n",
       "    </tr>\n",
       "    <tr>\n",
       "      <th>...</th>\n",
       "      <td>...</td>\n",
       "      <td>...</td>\n",
       "      <td>...</td>\n",
       "      <td>...</td>\n",
       "      <td>...</td>\n",
       "      <td>...</td>\n",
       "      <td>...</td>\n",
       "      <td>...</td>\n",
       "      <td>...</td>\n",
       "      <td>...</td>\n",
       "      <td>...</td>\n",
       "      <td>...</td>\n",
       "      <td>...</td>\n",
       "      <td>...</td>\n",
       "      <td>...</td>\n",
       "      <td>...</td>\n",
       "      <td>...</td>\n",
       "      <td>...</td>\n",
       "      <td>...</td>\n",
       "      <td>...</td>\n",
       "      <td>...</td>\n",
       "    </tr>\n",
       "    <tr>\n",
       "      <th>8364</th>\n",
       "      <td>Petrol</td>\n",
       "      <td>Hatchback</td>\n",
       "      <td>10000.0</td>\n",
       "      <td>Manual</td>\n",
       "      <td>1</td>\n",
       "      <td>1st Owner</td>\n",
       "      <td>Maruti</td>\n",
       "      <td>Maruti Celerio</td>\n",
       "      <td>2022</td>\n",
       "      <td>ZXI BSVI</td>\n",
       "      <td>...</td>\n",
       "      <td>NaN</td>\n",
       "      <td>['5-Speed']</td>\n",
       "      <td>NaN</td>\n",
       "      <td>['Electric']</td>\n",
       "      <td>['Ventilated Disc']</td>\n",
       "      <td>['Drum']</td>\n",
       "      <td>['Tubeless, Radial']</td>\n",
       "      <td>25.24</td>\n",
       "      <td>NaN</td>\n",
       "      <td>Kolkata</td>\n",
       "    </tr>\n",
       "    <tr>\n",
       "      <th>8365</th>\n",
       "      <td>Petrol</td>\n",
       "      <td>Hatchback</td>\n",
       "      <td>120000.0</td>\n",
       "      <td>Manual</td>\n",
       "      <td>1</td>\n",
       "      <td>1st Owner</td>\n",
       "      <td>Maruti</td>\n",
       "      <td>Maruti Alto 800</td>\n",
       "      <td>2014</td>\n",
       "      <td>LXI</td>\n",
       "      <td>...</td>\n",
       "      <td>['No']</td>\n",
       "      <td>['5 Speed']</td>\n",
       "      <td>['FWD']</td>\n",
       "      <td>['Power']</td>\n",
       "      <td>['Solid Disc']</td>\n",
       "      <td>['Drum']</td>\n",
       "      <td>['Tubeless Tyres']</td>\n",
       "      <td>22.74</td>\n",
       "      <td>['No']</td>\n",
       "      <td>Kolkata</td>\n",
       "    </tr>\n",
       "    <tr>\n",
       "      <th>8366</th>\n",
       "      <td>Petrol</td>\n",
       "      <td>Sedan</td>\n",
       "      <td>50000.0</td>\n",
       "      <td>Automatic</td>\n",
       "      <td>3</td>\n",
       "      <td>3rd Owner</td>\n",
       "      <td>Mercedes-Benz</td>\n",
       "      <td>Mercedes-Benz C-Class</td>\n",
       "      <td>2011</td>\n",
       "      <td>C 200 CGI Elegance</td>\n",
       "      <td>...</td>\n",
       "      <td>['No']</td>\n",
       "      <td>['7 Speed']</td>\n",
       "      <td>['RWD']</td>\n",
       "      <td>['Power']</td>\n",
       "      <td>['Ventilated Disc']</td>\n",
       "      <td>['Solid Disc']</td>\n",
       "      <td>['Tubeless,Radial']</td>\n",
       "      <td>11.74</td>\n",
       "      <td>['No']</td>\n",
       "      <td>Kolkata</td>\n",
       "    </tr>\n",
       "    <tr>\n",
       "      <th>8367</th>\n",
       "      <td>Petrol</td>\n",
       "      <td>Hatchback</td>\n",
       "      <td>40000.0</td>\n",
       "      <td>Manual</td>\n",
       "      <td>1</td>\n",
       "      <td>1st Owner</td>\n",
       "      <td>Maruti</td>\n",
       "      <td>Maruti Ritz</td>\n",
       "      <td>2012</td>\n",
       "      <td>ZXi</td>\n",
       "      <td>...</td>\n",
       "      <td>['No']</td>\n",
       "      <td>['5 Speed']</td>\n",
       "      <td>['FWD']</td>\n",
       "      <td>['Power']</td>\n",
       "      <td>['Ventilated Disc']</td>\n",
       "      <td>['Drum']</td>\n",
       "      <td>['Tubeless,Radial']</td>\n",
       "      <td>18.50</td>\n",
       "      <td>['No']</td>\n",
       "      <td>Kolkata</td>\n",
       "    </tr>\n",
       "    <tr>\n",
       "      <th>8368</th>\n",
       "      <td>Diesel</td>\n",
       "      <td>SUV</td>\n",
       "      <td>120000.0</td>\n",
       "      <td>Manual</td>\n",
       "      <td>2</td>\n",
       "      <td>2nd Owner</td>\n",
       "      <td>Renault</td>\n",
       "      <td>Renault Duster</td>\n",
       "      <td>2017</td>\n",
       "      <td>110PS Diesel RxZ AWD</td>\n",
       "      <td>...</td>\n",
       "      <td>['Yes']</td>\n",
       "      <td>['6 Speed']</td>\n",
       "      <td>['AWD']</td>\n",
       "      <td>['Power']</td>\n",
       "      <td>['Disc']</td>\n",
       "      <td>['Drum']</td>\n",
       "      <td>['Tubeless,Radial']</td>\n",
       "      <td>19.72</td>\n",
       "      <td>['No']</td>\n",
       "      <td>Kolkata</td>\n",
       "    </tr>\n",
       "  </tbody>\n",
       "</table>\n",
       "<p>7776 rows × 33 columns</p>\n",
       "</div>"
      ],
      "text/plain": [
       "          ft         bt        km transmission  ownerNo      owner  \\\n",
       "0     Petrol        SUV   20000.0    Automatic        1  1st Owner   \n",
       "1     Petrol   Minivans   20687.0       Manual        1  1st Owner   \n",
       "2     Petrol        SUV   30000.0       Manual        1  1st Owner   \n",
       "3     Petrol  Hatchback   59247.0       Manual        1  1st Owner   \n",
       "4     Petrol  Hatchback   50000.0       Manual        1  1st Owner   \n",
       "...      ...        ...       ...          ...      ...        ...   \n",
       "8364  Petrol  Hatchback   10000.0       Manual        1  1st Owner   \n",
       "8365  Petrol  Hatchback  120000.0       Manual        1  1st Owner   \n",
       "8366  Petrol      Sedan   50000.0    Automatic        3  3rd Owner   \n",
       "8367  Petrol  Hatchback   40000.0       Manual        1  1st Owner   \n",
       "8368  Diesel        SUV  120000.0       Manual        2  2nd Owner   \n",
       "\n",
       "                oem                  model  modelYear  \\\n",
       "0               Kia              Kia Sonet       2022   \n",
       "1            Maruti            Maruti Eeco       2015   \n",
       "2            Nissan         Nissan Magnite       2021   \n",
       "3           Hyundai            Hyundai i10       2015   \n",
       "4             Honda             Honda Jazz       2015   \n",
       "...             ...                    ...        ...   \n",
       "8364         Maruti         Maruti Celerio       2022   \n",
       "8365         Maruti        Maruti Alto 800       2014   \n",
       "8366  Mercedes-Benz  Mercedes-Benz C-Class       2011   \n",
       "8367         Maruti            Maruti Ritz       2012   \n",
       "8368        Renault         Renault Duster       2017   \n",
       "\n",
       "                        variantName  ...  Turbo Charger         Gear Box  \\\n",
       "0     Turbo DCT Anniversary Edition  ...        ['Yes']  ['7-Speed DCT']   \n",
       "1            7 Seater Standard BSIV  ...         ['No']      ['5 Speed']   \n",
       "2             Turbo XV Premium BSVI  ...        ['Yes']      ['5 Speed']   \n",
       "3                       Sportz 1.1L  ...         ['No']      ['5 Speed']   \n",
       "4                     1.2 VX i VTEC  ...         ['No']      ['5 Speed']   \n",
       "...                             ...  ...            ...              ...   \n",
       "8364                       ZXI BSVI  ...            NaN      ['5-Speed']   \n",
       "8365                            LXI  ...         ['No']      ['5 Speed']   \n",
       "8366             C 200 CGI Elegance  ...         ['No']      ['7 Speed']   \n",
       "8367                            ZXi  ...         ['No']      ['5 Speed']   \n",
       "8368           110PS Diesel RxZ AWD  ...        ['Yes']      ['6 Speed']   \n",
       "\n",
       "     Drive Type   Steering Type     Front Brake Type Rear Brake Type  \\\n",
       "0       ['FWD']    ['Electric']             ['Disc']        ['Drum']   \n",
       "1       ['RWD']      ['Manual']  ['Ventilated Disc']        ['Drum']   \n",
       "2           NaN  ['Electronic']             ['Disc']        ['Drum']   \n",
       "3       ['FWD']       ['Power']  ['Ventilated Disc']        ['Drum']   \n",
       "4       ['FWD']       ['Power']             ['Disc']        ['Drum']   \n",
       "...         ...             ...                  ...             ...   \n",
       "8364        NaN    ['Electric']  ['Ventilated Disc']        ['Drum']   \n",
       "8365    ['FWD']       ['Power']       ['Solid Disc']        ['Drum']   \n",
       "8366    ['RWD']       ['Power']  ['Ventilated Disc']  ['Solid Disc']   \n",
       "8367    ['FWD']       ['Power']  ['Ventilated Disc']        ['Drum']   \n",
       "8368    ['AWD']       ['Power']             ['Disc']        ['Drum']   \n",
       "\n",
       "                 Tyre Type  Mileage Super Charger     city  \n",
       "0     ['Tubeless, Radial']    19.23           NaN  Chennai  \n",
       "1       ['Tubeless Tyres']    15.37        ['No']  Chennai  \n",
       "2      ['Tubeless,Radial']    20.00        ['No']  Chennai  \n",
       "3             ['Tubeless']    19.81        ['No']  Chennai  \n",
       "4      ['Tubeless,Radial']    18.70        ['No']  Chennai  \n",
       "...                    ...      ...           ...      ...  \n",
       "8364  ['Tubeless, Radial']    25.24           NaN  Kolkata  \n",
       "8365    ['Tubeless Tyres']    22.74        ['No']  Kolkata  \n",
       "8366   ['Tubeless,Radial']    11.74        ['No']  Kolkata  \n",
       "8367   ['Tubeless,Radial']    18.50        ['No']  Kolkata  \n",
       "8368   ['Tubeless,Radial']    19.72        ['No']  Kolkata  \n",
       "\n",
       "[7776 rows x 33 columns]"
      ]
     },
     "execution_count": 61,
     "metadata": {},
     "output_type": "execute_result"
    }
   ],
   "source": [
    "df_outliers_removed"
   ]
  },
  {
   "cell_type": "markdown",
   "id": "25f6b79a-ea99-4270-ac3b-36d3f0e8fd28",
   "metadata": {},
   "source": [
    "Fuel System - FT"
   ]
  },
  {
   "cell_type": "code",
   "execution_count": 63,
   "id": "813ab356-365d-4741-b34e-bcc2b6dd5c6e",
   "metadata": {},
   "outputs": [
    {
     "data": {
      "text/plain": [
       "ft\n",
       "Petrol      5311\n",
       "Diesel      2357\n",
       "Cng           68\n",
       "Electric      24\n",
       "Lpg           16\n",
       "Name: count, dtype: int64"
      ]
     },
     "execution_count": 63,
     "metadata": {},
     "output_type": "execute_result"
    }
   ],
   "source": [
    "df_outliers_removed['ft'].value_counts()"
   ]
  },
  {
   "cell_type": "code",
   "execution_count": 64,
   "id": "8ba7d8f4-b28c-408e-80c1-d320f869a1ee",
   "metadata": {},
   "outputs": [
    {
     "data": {
      "image/png": "[encoded data removed]",
      "text/plain": [
       "<Figure size 1500x1000 with 1 Axes>"
      ]
     },
     "metadata": {},
     "output_type": "display_data"
    }
   ],
   "source": [
    "#Replace this with your DataFrame and relevant columns\n",
    "average_prices = df_outliers_removed.groupby('ft')['price'].mean().sort_values()\n",
    "\n",
    "# Create the plot\n",
    "plt.figure(figsize=(15,10))\n",
    "\n",
    "# Plot the bar chart with a single color\n",
    "plt.bar(average_prices.index, average_prices.values, color='pink')  \n",
    "\n",
    "# Set titles and labels\n",
    "plt.title('Average Car Price By FuelSystem', fontsize=18)\n",
    "plt.xlabel('Fuel System', fontsize=15)\n",
    "plt.ylabel('Average Price', fontsize=15)\n",
    "plt.xticks(rotation=90)\n",
    "plt.show()"
   ]
  },
  {
   "cell_type": "markdown",
   "id": "0e99cd8b-aa91-4a9a-a4c1-4dd0905d1afa",
   "metadata": {},
   "source": [
    "Body Type - BT"
   ]
  },
  {
   "cell_type": "code",
   "execution_count": 66,
   "id": "f53b5f52-3268-4266-b98a-b014001f9a10",
   "metadata": {},
   "outputs": [
    {
     "data": {
      "text/plain": [
       "bt\n",
       "Hatchback        3478\n",
       "Sedan            1993\n",
       "SUV              1933\n",
       "MUV               341\n",
       "Minivans           19\n",
       "Pickup Trucks       5\n",
       "Coupe               2\n",
       "Wagon               1\n",
       "Convertibles        1\n",
       "Name: count, dtype: int64"
      ]
     },
     "execution_count": 66,
     "metadata": {},
     "output_type": "execute_result"
    }
   ],
   "source": [
    "df_outliers_removed['bt'].value_counts()"
   ]
  },
  {
   "cell_type": "code",
   "execution_count": 67,
   "id": "322c3c32-8ef8-498c-ac96-7a187c12b0e2",
   "metadata": {},
   "outputs": [
    {
     "name": "stdout",
     "output_type": "stream",
     "text": [
      "bt\n",
      "Hatchback    3478\n",
      "Sedan        1993\n",
      "SUV          1933\n",
      "MUV           341\n",
      "Minivans       19\n",
      "Other           9\n",
      "Name: count, dtype: int64\n"
     ]
    }
   ],
   "source": [
    "# we can either combine the last 4 categories into one 'others' category or just drop those rows \n",
    "df_outliers_removed['bt']= df_outliers_removed['bt'].replace('Pickup Trucks','Other')\n",
    "df_outliers_removed['bt']= df_outliers_removed['bt'].replace('Coupe','Other')\n",
    "df_outliers_removed['bt']= df_outliers_removed['bt'].replace('Convertibles','Other')\n",
    "df_outliers_removed['bt']= df_outliers_removed['bt'].replace('Wagon','Other')\n",
    "# here we combined the Pickup Trucks, Coupe, Convertibles, Wagon categories into 'Other'\n",
    "\n",
    "print(df_outliers_removed['bt'].value_counts())"
   ]
  },
  {
   "cell_type": "code",
   "execution_count": 68,
   "id": "c5a6d883-c4ce-40b7-8b8d-b1ac6444e9e9",
   "metadata": {},
   "outputs": [
    {
     "name": "stdout",
     "output_type": "stream",
     "text": [
      "3\n",
      "0\n"
     ]
    }
   ],
   "source": [
    "print(df_outliers_removed['bt'].isna().sum())\n",
    "df_outliers_removed = df_outliers_removed.dropna(subset='bt')\n",
    "print(df_outliers_removed['bt'].isna().sum())"
   ]
  },
  {
   "cell_type": "code",
   "execution_count": 69,
   "id": "eefb5db7-08b9-404f-a6a9-9258206f7e15",
   "metadata": {},
   "outputs": [
    {
     "name": "stderr",
     "output_type": "stream",
     "text": [
      "C:\\Users\\anand\\AppData\\Local\\Temp\\ipykernel_19784\\1244917173.py:6: FutureWarning: \n",
      "\n",
      "Passing `palette` without assigning `hue` is deprecated and will be removed in v0.14.0. Assign the `x` variable to `hue` and set `legend=False` for the same effect.\n",
      "\n",
      "  sns.barplot(x='bt', y='price', data=average_prices, palette='deep')\n"
     ]
    },
    {
     "data": {
      "image/png": "[encoded data removed]",
      "text/plain": [
       "<Figure size 1500x1000 with 1 Axes>"
      ]
     },
     "metadata": {},
     "output_type": "display_data"
    }
   ],
   "source": [
    "# Calculate average prices \n",
    "average_prices = df_outliers_removed.groupby('bt')['price'].mean().reset_index()\n",
    "\n",
    "# Create the bar plot\n",
    "plt.figure(figsize=(15, 10))\n",
    "sns.barplot(x='bt', y='price', data=average_prices, palette='deep')\n",
    "plt.xticks(rotation=90)\n",
    "plt.title('Average Car Price by Body Type')\n",
    "plt.xlabel('Body Type')\n",
    "plt.ylabel('Average Price')\n",
    "plt.show()"
   ]
  },
  {
   "cell_type": "markdown",
   "id": "b7b064b8-f689-42bf-b867-07d42c4b5425",
   "metadata": {},
   "source": [
    "Transmission"
   ]
  },
  {
   "cell_type": "code",
   "execution_count": 71,
   "id": "09ebff2a-122b-43ed-b198-30b37d52d982",
   "metadata": {},
   "outputs": [
    {
     "name": "stdout",
     "output_type": "stream",
     "text": [
      "0    Automatic\n",
      "1       Manual\n",
      "2       Manual\n",
      "3       Manual\n",
      "4       Manual\n",
      "Name: transmission, dtype: object\n"
     ]
    }
   ],
   "source": [
    "print(df_outliers_removed['transmission'].head())"
   ]
  },
  {
   "cell_type": "code",
   "execution_count": 72,
   "id": "ea1ee6a2-804e-481a-9e04-6085d780b7f2",
   "metadata": {},
   "outputs": [
    {
     "name": "stdout",
     "output_type": "stream",
     "text": [
      "transmission\n",
      "Manual       5865\n",
      "Automatic    1908\n",
      "Name: count, dtype: int64\n"
     ]
    }
   ],
   "source": [
    "# Ensure you are working with a copy to avoid the SettingWithCopyWarning\n",
    "df_outliers_removed = df_outliers_removed.copy()\n",
    "\n",
    "# Drop the duplicate 'transmission' column, keeping the first one\n",
    "df_outliers_removed = df_outliers_removed.loc[:, ~df_outliers_removed.columns.duplicated()]\n",
    "\n",
    "# Now, get the value counts for the 'transmission' column\n",
    "transmission_counts = df_outliers_removed['transmission'].value_counts()\n",
    "\n",
    "# Print the value counts\n",
    "print(transmission_counts)"
   ]
  },
  {
   "cell_type": "markdown",
   "id": "167ee37c-932c-464a-8730-c4b49e005de0",
   "metadata": {},
   "source": [
    "Oem"
   ]
  },
  {
   "cell_type": "code",
   "execution_count": 74,
   "id": "37163425-30ce-4881-ac29-6152a2f5ff77",
   "metadata": {},
   "outputs": [
    {
     "data": {
      "text/plain": [
       "oem\n",
       "Maruti                False\n",
       "Hyundai               False\n",
       "Honda                 False\n",
       "Tata                  False\n",
       "Mahindra              False\n",
       "Renault               False\n",
       "Volkswagen            False\n",
       "Ford                  False\n",
       "Toyota                False\n",
       "Skoda                 False\n",
       "Kia                   False\n",
       "Audi                  False\n",
       "Mercedes-Benz         False\n",
       "Jeep                  False\n",
       "BMW                   False\n",
       "MG                    False\n",
       "Nissan                False\n",
       "Chevrolet             False\n",
       "Datsun                False\n",
       "Fiat                  False\n",
       "Volvo                 False\n",
       "Jaguar                False\n",
       "Land Rover            False\n",
       "Mitsubishi            False\n",
       "Mini                  False\n",
       "Citroen               False\n",
       "Mahindra Renault       True\n",
       "Mahindra Ssangyong     True\n",
       "Isuzu                  True\n",
       "Hindustan Motors       True\n",
       "Name: count, dtype: bool"
      ]
     },
     "execution_count": 74,
     "metadata": {},
     "output_type": "execute_result"
    }
   ],
   "source": [
    "df_outliers_removed['oem'].value_counts() <= 5"
   ]
  },
  {
   "cell_type": "code",
   "execution_count": 75,
   "id": "fde6916e-246b-461e-a76c-496b184734c1",
   "metadata": {},
   "outputs": [
    {
     "name": "stdout",
     "output_type": "stream",
     "text": [
      "oem\n",
      "Maruti           2169\n",
      "Hyundai          1627\n",
      "Honda             852\n",
      "Tata              424\n",
      "Mahindra          367\n",
      "Renault           309\n",
      "Volkswagen        286\n",
      "Ford              281\n",
      "Toyota            269\n",
      "Skoda             156\n",
      "Kia               155\n",
      "Audi              121\n",
      "Mercedes-Benz     120\n",
      "Jeep              106\n",
      "BMW                97\n",
      "MG                 83\n",
      "Nissan             78\n",
      "Chevrolet          76\n",
      "Datsun             74\n",
      "Fiat               30\n",
      "Volvo              20\n",
      "Jaguar             19\n",
      "Land Rover         14\n",
      "Mitsubishi         10\n",
      "Mini                9\n",
      "Citroen             8\n",
      "Name: count, dtype: int64\n"
     ]
    }
   ],
   "source": [
    "# Calculate the count of each brand\n",
    "oem_counts = df_outliers_removed['oem'].value_counts()\n",
    "\n",
    "# Filter rows where the brand count is greater than 5\n",
    "df_filtered = df_outliers_removed[df_outliers_removed['oem'].map(oem_counts) > 5]\n",
    "\n",
    "# Print the counts of the remaining brands\n",
    "print(df_filtered['oem'].value_counts())"
   ]
  },
  {
   "cell_type": "code",
   "execution_count": 76,
   "id": "66763f83-0866-4fc4-bfa1-142be5835da9",
   "metadata": {},
   "outputs": [
    {
     "data": {
      "image/png": "[encoded data removed]",
      "text/plain": [
       "<Figure size 1200x800 with 1 Axes>"
      ]
     },
     "metadata": {},
     "output_type": "display_data"
    }
   ],
   "source": [
    "# Rename the column\n",
    "df_outliers_removed.rename(columns={'oem': 'company'}, inplace=True)\n",
    "\n",
    "# Calculate and sort average prices\n",
    "df_avg_prices = df_outliers_removed.groupby('company')['price'].mean().reset_index()\n",
    "df_avg_prices = df_avg_prices.sort_values(by='price')\n",
    "\n",
    "# Plot using Seaborn\n",
    "plt.figure(figsize=(12, 8))\n",
    "sns.barplot(x='company', y='price', data=df_avg_prices)\n",
    "plt.xticks(rotation=90)\n",
    "plt.title('Average car price by company')\n",
    "plt.xlabel('Company')\n",
    "plt.ylabel('Average Price')\n",
    "plt.show()"
   ]
  },
  {
   "cell_type": "markdown",
   "id": "6ba3dff3-1673-4451-bc0f-91e75f995b49",
   "metadata": {},
   "source": [
    "MODEL"
   ]
  },
  {
   "cell_type": "code",
   "execution_count": 78,
   "id": "f372a141-327e-47b6-8d40-da0b8d993f08",
   "metadata": {},
   "outputs": [
    {
     "data": {
      "text/plain": [
       "model\n",
       "Honda City                  False\n",
       "Maruti Swift                False\n",
       "Hyundai i20                 False\n",
       "Maruti Baleno               False\n",
       "Hyundai Grand i10           False\n",
       "                            ...  \n",
       "Maruti Zen                   True\n",
       "Volkswagen CrossPolo         True\n",
       "Land Rover Discovery         True\n",
       "Mercedes-Benz CLS-Class      True\n",
       "Toyota Fortuner Legender     True\n",
       "Name: count, Length: 260, dtype: bool"
      ]
     },
     "execution_count": 78,
     "metadata": {},
     "output_type": "execute_result"
    }
   ],
   "source": [
    "df_outliers_removed['model'].value_counts() <= 10"
   ]
  },
  {
   "cell_type": "code",
   "execution_count": 79,
   "id": "e2e80917-ae4c-42c6-a7fb-4239add40389",
   "metadata": {},
   "outputs": [
    {
     "name": "stdout",
     "output_type": "stream",
     "text": [
      "                        model  count\n",
      "127        Tata Safari Storme      9\n",
      "128                 Volvo S60      9\n",
      "129           BMW 3 Series GT      9\n",
      "130                Maruti SX4      9\n",
      "131                Honda BR-V      9\n",
      "..                        ...    ...\n",
      "255                Maruti Zen      1\n",
      "256      Volkswagen CrossPolo      1\n",
      "257      Land Rover Discovery      1\n",
      "258   Mercedes-Benz CLS-Class      1\n",
      "259  Toyota Fortuner Legender      1\n",
      "\n",
      "[133 rows x 2 columns]\n"
     ]
    }
   ],
   "source": [
    "# Assuming df_outliers_removed is your DataFrame\n",
    "value_counts = df_outliers_removed['model'].value_counts().reset_index()\n",
    "value_counts.columns = ['model', 'count']\n",
    "\n",
    "# Filter using query\n",
    "filtered_value_counts_df = value_counts.query('count < 10')\n",
    "print(filtered_value_counts_df)"
   ]
  },
  {
   "cell_type": "code",
   "execution_count": 80,
   "id": "e096b188-2059-4a12-bc94-9251a55d6d2b",
   "metadata": {},
   "outputs": [
    {
     "data": {
      "text/plain": [
       "466"
      ]
     },
     "execution_count": 80,
     "metadata": {},
     "output_type": "execute_result"
    }
   ],
   "source": [
    "filtered_value_counts_df['count'].sum()"
   ]
  },
  {
   "cell_type": "code",
   "execution_count": 81,
   "id": "f0410920-2925-4f39-abcb-731e5925a2d2",
   "metadata": {},
   "outputs": [
    {
     "name": "stdout",
     "output_type": "stream",
     "text": [
      "(7307, 33)\n"
     ]
    }
   ],
   "source": [
    "# Define the threshold\n",
    "threshold = 10\n",
    "\n",
    "# Create a DataFrame of model counts\n",
    "model_counts = df_outliers_removed['model'].value_counts().reset_index()\n",
    "model_counts.columns = ['model', 'count']\n",
    "\n",
    "# Filter using query\n",
    "filtered_models = model_counts.query('count >= @threshold')['model']\n",
    "\n",
    "# Filter the original DataFrame\n",
    "df_filtered = df_outliers_removed[df_outliers_removed['model'].isin(filtered_models)]\n",
    "\n",
    "# Display the shape of the filtered DataFrame\n",
    "print(df_filtered.shape)"
   ]
  },
  {
   "cell_type": "code",
   "execution_count": 82,
   "id": "b1032107-423c-4f31-ac21-9bea0e26cd76",
   "metadata": {},
   "outputs": [
    {
     "data": {
      "text/plain": [
       "model\n",
       "Honda City                  363\n",
       "Maruti Swift                348\n",
       "Hyundai i20                 328\n",
       "Maruti Baleno               292\n",
       "Hyundai Grand i10           259\n",
       "                           ... \n",
       "Maruti Zen                    1\n",
       "Volkswagen CrossPolo          1\n",
       "Land Rover Discovery          1\n",
       "Mercedes-Benz CLS-Class       1\n",
       "Toyota Fortuner Legender      1\n",
       "Name: count, Length: 260, dtype: int64"
      ]
     },
     "execution_count": 82,
     "metadata": {},
     "output_type": "execute_result"
    }
   ],
   "source": [
    "df_outliers_removed['model'].value_counts()"
   ]
  },
  {
   "cell_type": "markdown",
   "id": "314616d3-4781-468e-b9e0-bfe6e0c0cd05",
   "metadata": {},
   "source": [
    "VARIANT NAME"
   ]
  },
  {
   "cell_type": "code",
   "execution_count": 84,
   "id": "0a1de568-dfac-47d1-beae-a2740d3aacb4",
   "metadata": {},
   "outputs": [],
   "source": [
    "# there are more than 250 models and many classes in Variant name,so we drop these.\n",
    "df_outliers_removed.drop('variantName',axis=1,inplace=True)"
   ]
  },
  {
   "cell_type": "markdown",
   "id": "56b5d1fd-6ff9-42a4-8b31-5780961bda3c",
   "metadata": {},
   "source": [
    "INSURANCE VALIDITY"
   ]
  },
  {
   "cell_type": "code",
   "execution_count": 86,
   "id": "af5e3d2e-6cbd-4734-a677-b941e2371ddd",
   "metadata": {},
   "outputs": [
    {
     "data": {
      "text/plain": [
       "Insurance Validity\n",
       "Third Party insurance    3779\n",
       "Comprehensive            2849\n",
       "Third Party               622\n",
       "Zero Dep                  298\n",
       "Not Available             217\n",
       "1                           3\n",
       "2                           1\n",
       "Name: count, dtype: int64"
      ]
     },
     "execution_count": 86,
     "metadata": {},
     "output_type": "execute_result"
    }
   ],
   "source": [
    "df_outliers_removed['Insurance Validity'].value_counts()"
   ]
  },
  {
   "cell_type": "code",
   "execution_count": 87,
   "id": "e41a5e90-bfb7-4f64-ba4c-0cc578bbdd2a",
   "metadata": {},
   "outputs": [
    {
     "name": "stdout",
     "output_type": "stream",
     "text": [
      "0\n"
     ]
    }
   ],
   "source": [
    "# Drop rows with null values in 'Insurance Validity'\n",
    "df_outliers_removed.dropna(subset=['Insurance Validity'], inplace=True)\n",
    "print(df_outliers_removed['Insurance Validity'].isna().sum())"
   ]
  },
  {
   "cell_type": "code",
   "execution_count": 88,
   "id": "047e014b-5514-4ab8-8495-1a42dfa28345",
   "metadata": {},
   "outputs": [
    {
     "name": "stderr",
     "output_type": "stream",
     "text": [
      "C:\\Users\\anand\\AppData\\Local\\Temp\\ipykernel_19784\\2520027725.py:2: FutureWarning: A value is trying to be set on a copy of a DataFrame or Series through chained assignment using an inplace method.\n",
      "The behavior will change in pandas 3.0. This inplace method will never work because the intermediate object on which we are setting values always behaves as a copy.\n",
      "\n",
      "For example, when doing 'df[col].method(value, inplace=True)', try using 'df.method({col: value}, inplace=True)' or df[col] = df[col].method(value) instead, to perform the operation inplace on the original object.\n",
      "\n",
      "\n",
      "  df_outliers_removed['Insurance Validity'].replace({'1': 'Not Available', '2': 'Not Available', 'Third Party': 'Third Party insurance'}, inplace=True)\n"
     ]
    }
   ],
   "source": [
    "# Replace specific values in 'Insurance Validity'\n",
    "df_outliers_removed['Insurance Validity'].replace({'1': 'Not Available', '2': 'Not Available', 'Third Party': 'Third Party insurance'}, inplace=True)"
   ]
  },
  {
   "cell_type": "code",
   "execution_count": 89,
   "id": "4d9a0002-6e5c-40d7-897b-f8d3674102a6",
   "metadata": {},
   "outputs": [
    {
     "data": {
      "image/png": "[encoded data removed]",
      "text/plain": [
       "<Figure size 1200x800 with 1 Axes>"
      ]
     },
     "metadata": {},
     "output_type": "display_data"
    }
   ],
   "source": [
    "# Plotting average car price by Insurance Validity using Seaborn\n",
    "plt.figure(figsize=(12, 8))\n",
    "df_avg_prices = df_outliers_removed.groupby('Insurance Validity')['price'].mean().reset_index()\n",
    "df_avg_prices = df_avg_prices.sort_values(by='price')\n",
    "\n",
    "sns.barplot(x='Insurance Validity', y='price', data=df_avg_prices)\n",
    "plt.xticks(rotation=90)\n",
    "plt.title('Average car price by Insurance Validity')\n",
    "plt.xlabel('Insurance Validity')\n",
    "plt.ylabel('Average Price')\n",
    "plt.show()"
   ]
  },
  {
   "cell_type": "markdown",
   "id": "3b2a05ed-9f24-45cd-81e5-fed38a38b582",
   "metadata": {},
   "source": [
    "RTO"
   ]
  },
  {
   "cell_type": "code",
   "execution_count": 91,
   "id": "b6ad44cd-cb33-4648-b358-69443b8aa370",
   "metadata": {},
   "outputs": [
    {
     "data": {
      "text/plain": [
       "0       TN02\n",
       "1       TN04\n",
       "2       TN22\n",
       "3       TN11\n",
       "4       KA03\n",
       "        ... \n",
       "8364     NaN\n",
       "8365     NaN\n",
       "8366    WB06\n",
       "8367     NaN\n",
       "8368     NaN\n",
       "Name: RTO, Length: 7769, dtype: object"
      ]
     },
     "execution_count": 91,
     "metadata": {},
     "output_type": "execute_result"
    }
   ],
   "source": [
    "df_outliers_removed['RTO']"
   ]
  },
  {
   "cell_type": "code",
   "execution_count": 92,
   "id": "457e85ce-8f13-421e-99b9-53ae5f25ccad",
   "metadata": {},
   "outputs": [
    {
     "name": "stdout",
     "output_type": "stream",
     "text": [
      "0       TN02\n",
      "1       TN04\n",
      "2       TN22\n",
      "3       TN11\n",
      "4       KA03\n",
      "        ... \n",
      "8348    WB02\n",
      "8349    WB24\n",
      "8356    WB20\n",
      "8359    PB10\n",
      "8366    WB06\n",
      "Name: RTO, Length: 6951, dtype: object\n"
     ]
    }
   ],
   "source": [
    "# To Drop a Null Values\n",
    "df_cleaned_rto = df_outliers_removed['RTO'].dropna()\n",
    "print(df_cleaned_rto)"
   ]
  },
  {
   "cell_type": "code",
   "execution_count": 93,
   "id": "1a2484d4-8c04-4dbb-9faf-679de46bc4dc",
   "metadata": {},
   "outputs": [
    {
     "name": "stdout",
     "output_type": "stream",
     "text": [
      "Number of NaN values: 818\n",
      "Number of unique RTO values: 442\n"
     ]
    }
   ],
   "source": [
    "# Count of NaN values\n",
    "nan_count = df_outliers_removed['RTO'].isna().sum()\n",
    "\n",
    "# Count of unique values\n",
    "unique_rtos = df_outliers_removed['RTO'].nunique()\n",
    "\n",
    "print(f\"Number of NaN values: {nan_count}\")\n",
    "print(f\"Number of unique RTO values: {unique_rtos}\")"
   ]
  },
  {
   "cell_type": "code",
   "execution_count": 94,
   "id": "645319fe-770e-4a94-8c72-44ee8bfd87f0",
   "metadata": {},
   "outputs": [
    {
     "name": "stdout",
     "output_type": "stream",
     "text": [
      "RTO\n",
      "WB02    432\n",
      "RJ14    350\n",
      "TS07    272\n",
      "TS08    235\n",
      "KA03    226\n",
      "       ... \n",
      "Hr22      1\n",
      "DD4L      1\n",
      "UP37      1\n",
      "HR89      1\n",
      "WB72      1\n",
      "Name: count, Length: 442, dtype: int64\n",
      "818\n"
     ]
    }
   ],
   "source": [
    "print(df_outliers_removed['RTO'].value_counts())\n",
    "print(df_outliers_removed['RTO'].isna().sum())"
   ]
  },
  {
   "cell_type": "code",
   "execution_count": 95,
   "id": "71f0fda2-6849-4698-92c4-7dbf2a1f079d",
   "metadata": {},
   "outputs": [
    {
     "name": "stdout",
     "output_type": "stream",
     "text": [
      "0\n"
     ]
    }
   ],
   "source": [
    "# Mapping dictionary for RTO regions\n",
    "rto_region_mapping = {\n",
    "    'KA': 'Karnataka',\n",
    "    'HR': 'Haryana',\n",
    "    'WB': 'West Bengal',\n",
    "    'TN': 'Tamil Nadu',\n",
    "    'UP': 'Uttar Pradesh',\n",
    "    'DL': 'Delhi',\n",
    "    'MH': 'Maharashtra',\n",
    "    'RJ': 'Rajasthan',\n",
    "    'AP': 'Andhra Pradesh',\n",
    "    'GJ': 'Gujarat',\n",
    "    'OR': 'Odisha',\n",
    "    'PY': 'Puducherry',\n",
    "    'Unknown': 'Unknown'\n",
    "}\n",
    "\n",
    "# Function to map RTO codes to states\n",
    "def rto_to_region(rto_value):\n",
    "    if pd.isna(rto_value):\n",
    "        return 'Unknown'\n",
    "    rto_value_str = str(rto_value)  # Ensure value is string\n",
    "    for prefix in rto_region_mapping:\n",
    "        if rto_value_str.startswith(prefix):\n",
    "            return rto_region_mapping[prefix]\n",
    "    return 'Unknown'\n",
    "\n",
    "# Handle missing RTO values by setting them to 'Unknown'\n",
    "df_outliers_removed['RTO'] = df_outliers_removed['RTO'].fillna('Unknown')\n",
    "\n",
    "# Apply the RTO mapping function and create a new column for regions\n",
    "df_outliers_removed['RTO_region'] = df_outliers_removed['RTO'].apply(rto_to_region)\n",
    "\n",
    "# Drop the original 'RTO' column\n",
    "df_outliers_removed.drop('RTO', axis=1, inplace=True)\n",
    "\n",
    "# Display the modified DataFrame\n",
    "df_outliers_removed.head(1)\n",
    "print(df_outliers_removed['RTO_region'].isna().sum())"
   ]
  },
  {
   "cell_type": "code",
   "execution_count": 96,
   "id": "10994843-7aa0-43b5-a68c-1d611e53ce91",
   "metadata": {},
   "outputs": [
    {
     "data": {
      "image/png": "[encoded data removed]",
      "text/plain": [
       "<Figure size 1500x1000 with 1 Axes>"
      ]
     },
     "metadata": {},
     "output_type": "display_data"
    }
   ],
   "source": [
    "# plotting\n",
    "plt.figure(figsize=(15, 10))\n",
    "average_prices = df_outliers_removed.groupby('RTO_region')['price'].mean().sort_values()\n",
    "average_prices.plot(kind='bar')\n",
    "plt.xticks(rotation=90)\n",
    "plt.title('Average Price by RTO region')\n",
    "plt.xlabel('RTO region')\n",
    "plt.ylabel('Average Price')\n",
    "plt.show()"
   ]
  },
  {
   "cell_type": "markdown",
   "id": "b99ec356-fce1-479e-94ca-81af65eebe07",
   "metadata": {},
   "source": [
    "COLOR"
   ]
  },
  {
   "cell_type": "code",
   "execution_count": 98,
   "id": "d8922634-52c5-4b86-9866-4713e9d98bdc",
   "metadata": {},
   "outputs": [
    {
     "data": {
      "text/plain": [
       "0        ['Black']\n",
       "1         ['Grey']\n",
       "2       ['Others']\n",
       "3       ['Silver']\n",
       "4       ['Others']\n",
       "           ...    \n",
       "8364    ['Others']\n",
       "8365    ['Others']\n",
       "8366    ['Others']\n",
       "8367    ['Others']\n",
       "8368    ['Others']\n",
       "Name: Color, Length: 7769, dtype: object"
      ]
     },
     "execution_count": 98,
     "metadata": {},
     "output_type": "execute_result"
    }
   ],
   "source": [
    "df_outliers_removed['Color']"
   ]
  },
  {
   "cell_type": "code",
   "execution_count": 99,
   "id": "5f3cb951-1fbf-4b5c-9d90-4d0c5ee21c2b",
   "metadata": {},
   "outputs": [
    {
     "name": "stdout",
     "output_type": "stream",
     "text": [
      "Color\n",
      "['Others']             2039\n",
      "['White']              1477\n",
      "['Silver']             1221\n",
      "['Red']                 778\n",
      "['Blue']                548\n",
      "                       ... \n",
      "['beige']                 1\n",
      "['g brown']               1\n",
      "['urban titanim']         1\n",
      "['b red']                 1\n",
      "['Out Back Bronze']       1\n",
      "Name: count, Length: 150, dtype: int64\n",
      "0\n"
     ]
    }
   ],
   "source": [
    "print(df_outliers_removed['Color'].value_counts())\n",
    "print(df_outliers_removed['Color'].isna().sum())"
   ]
  },
  {
   "cell_type": "code",
   "execution_count": 100,
   "id": "5c5e254a-f6e3-4b08-97d6-3280f7573528",
   "metadata": {},
   "outputs": [],
   "source": [
    "def determine_color(Color):\n",
    "    color_lower = Color.lower()\n",
    "\n",
    "    if 'white' in color_lower:\n",
    "        return 'White'\n",
    "    elif 'red' in color_lower or 'wine' in color_lower or 'cherry' in color_lower:\n",
    "        return 'Red'\n",
    "    elif 'blue' in color_lower:\n",
    "        return 'Blue'\n",
    "    elif 'brown' in color_lower:\n",
    "        return 'Brown'\n",
    "    elif 'gold' in color_lower:\n",
    "        return 'Gold'\n",
    "    elif 'green' in color_lower:\n",
    "        return 'Green'\n",
    "    elif 'black' in color_lower:\n",
    "        return 'Black'\n",
    "    elif 'orange' in color_lower:\n",
    "        return 'Orange'\n",
    "    elif 'yellow' in color_lower:\n",
    "        return 'Yellow'\n",
    "    elif 'bronze' in color_lower:\n",
    "        return 'Bronze'\n",
    "    elif 'purple' in color_lower:\n",
    "        return 'Purple'\n",
    "    elif 'gray' in color_lower:\n",
    "        return 'Gray'\n",
    "    elif 'silver' in color_lower or 'metal' in color_lower or 'steel' in color_lower:\n",
    "        return 'Silver'\n",
    "    else:\n",
    "        return 'Other'"
   ]
  },
  {
   "cell_type": "code",
   "execution_count": 101,
   "id": "23edd668-d5df-42a0-9683-2a84b0c5e1a8",
   "metadata": {},
   "outputs": [
    {
     "data": {
      "text/plain": [
       "Color\n",
       "Other     2638\n",
       "White     1527\n",
       "Silver    1264\n",
       "Red        800\n",
       "Blue       560\n",
       "Black      363\n",
       "Brown      277\n",
       "Gray       108\n",
       "Orange      99\n",
       "Gold        57\n",
       "Green       42\n",
       "Yellow      19\n",
       "Purple      10\n",
       "Bronze       5\n",
       "Name: count, dtype: int64"
      ]
     },
     "execution_count": 101,
     "metadata": {},
     "output_type": "execute_result"
    }
   ],
   "source": [
    "# Apply the function to the DataFrame column\n",
    "df_outliers_removed['Color'] = df_outliers_removed['Color'].apply(determine_color)\n",
    "df_outliers_removed['Color'].value_counts()"
   ]
  },
  {
   "cell_type": "code",
   "execution_count": 102,
   "id": "8f8a2a0c-16f4-4432-91cc-ca92e7fbb8d9",
   "metadata": {},
   "outputs": [
    {
     "data": {
      "image/png": "[encoded data removed]",
      "text/plain": [
       "<Figure size 1500x1000 with 1 Axes>"
      ]
     },
     "metadata": {},
     "output_type": "display_data"
    }
   ],
   "source": [
    "#plotting\n",
    "plt.figure(figsize=(15, 10))\n",
    "average_prices = df_outliers_removed.groupby('Color')['price'].mean().sort_values()\n",
    "average_prices.plot(kind='bar')\n",
    "plt.xticks(rotation=90)\n",
    "plt.title('Average Price by Color')\n",
    "plt.xlabel('Color')\n",
    "plt.ylabel('Average Price')\n",
    "plt.show()"
   ]
  },
  {
   "cell_type": "markdown",
   "id": "eda362f1-02c6-457a-b1d3-bc5484ac02a0",
   "metadata": {},
   "source": [
    "ENGINE TYPE"
   ]
  },
  {
   "cell_type": "code",
   "execution_count": 104,
   "id": "7d887d44-2a09-4e38-a513-26aa1192fc34",
   "metadata": {},
   "outputs": [
    {
     "data": {
      "text/plain": [
       "0       ['Smartstream G1.0 T - GDi']\n",
       "1                 ['In-Line Engine']\n",
       "2          ['HRA0 1.0 TURBO PETROL']\n",
       "3                   ['IRDE2 Engine']\n",
       "4           ['i-VTEC Petrol Engine']\n",
       "                    ...             \n",
       "8364                        ['K10C']\n",
       "8365           ['F8D Petrol Engine']\n",
       "8366      ['Blue Efficiency Engine']\n",
       "8367      ['K Series Petrol Engine']\n",
       "8368       ['dCi THP Diesel Engine']\n",
       "Name: Engine Type, Length: 7769, dtype: object"
      ]
     },
     "execution_count": 104,
     "metadata": {},
     "output_type": "execute_result"
    }
   ],
   "source": [
    "df_outliers_removed['Engine Type']"
   ]
  },
  {
   "cell_type": "code",
   "execution_count": 105,
   "id": "3b0921f8-ebc7-4e9d-913f-076a3fead1fe",
   "metadata": {},
   "outputs": [
    {
     "data": {
      "text/plain": [
       "Engine Type\n",
       "['In-Line Engine']                    434\n",
       "['Kappa VTVT Petrol Engine']          424\n",
       "['Petrol Engine']                     307\n",
       "['i-VTEC Petrol Engine']              265\n",
       "['i VTEC Engine']                     199\n",
       "                                     ... \n",
       "['Dicor Diesel Engine']                 1\n",
       "['water cooled inline 4 cylinder']      1\n",
       "['All Aluminium light weigh']           1\n",
       "['In Line TwinTurbo Engine']            1\n",
       "['2AR-FE Petrol Engine']                1\n",
       "Name: count, Length: 427, dtype: int64"
      ]
     },
     "execution_count": 105,
     "metadata": {},
     "output_type": "execute_result"
    }
   ],
   "source": [
    "df_outliers_removed['Engine Type'].value_counts()"
   ]
  },
  {
   "cell_type": "code",
   "execution_count": 106,
   "id": "414f4ad7-6b81-4c7a-9f9b-e28473b5c838",
   "metadata": {},
   "outputs": [],
   "source": [
    "# Drop the 'Engine Type' column in place\n",
    "df_outliers_removed.drop(columns=['Engine Type'], inplace=True)"
   ]
  },
  {
   "cell_type": "code",
   "execution_count": 107,
   "id": "06fd981e-0ce3-49be-aaca-a666c677fe1c",
   "metadata": {},
   "outputs": [
    {
     "data": {
      "text/plain": [
       "Index(['ft', 'bt', 'km', 'transmission', 'ownerNo', 'owner', 'company',\n",
       "       'model', 'modelYear', 'price', 'Insurance Validity', 'Fuel Type',\n",
       "       'Ownership', 'Engine Displacement', 'Transmission',\n",
       "       'Year of Manufacture', 'Torque', 'Color', 'Displacement',\n",
       "       'Fuel Suppy System', 'Turbo Charger', 'Gear Box', 'Drive Type',\n",
       "       'Steering Type', 'Front Brake Type', 'Rear Brake Type', 'Tyre Type',\n",
       "       'Mileage', 'Super Charger', 'city', 'RTO_region'],\n",
       "      dtype='object')"
      ]
     },
     "execution_count": 107,
     "metadata": {},
     "output_type": "execute_result"
    }
   ],
   "source": [
    "df_outliers_removed.columns"
   ]
  },
  {
   "cell_type": "markdown",
   "id": "baf87b51-1228-45b8-bc55-ea6637c2c7a2",
   "metadata": {},
   "source": [
    "FUEL SUPPLY SYSTEM"
   ]
  },
  {
   "cell_type": "code",
   "execution_count": 109,
   "id": "ad6f491b-ee52-4f6a-81a3-c7554339fd4f",
   "metadata": {},
   "outputs": [
    {
     "data": {
      "text/plain": [
       "0            ['GDi']\n",
       "1           ['MPFi']\n",
       "2           ['MPFi']\n",
       "3           ['MPFI']\n",
       "4       ['PGM - Fi']\n",
       "            ...     \n",
       "8364             NaN\n",
       "8365        ['MPFi']\n",
       "8366        ['Mpfi']\n",
       "8367        ['MPFI']\n",
       "8368        ['CRDi']\n",
       "Name: Fuel Suppy System, Length: 7769, dtype: object"
      ]
     },
     "execution_count": 109,
     "metadata": {},
     "output_type": "execute_result"
    }
   ],
   "source": [
    "df_outliers_removed['Fuel Suppy System']"
   ]
  },
  {
   "cell_type": "code",
   "execution_count": 110,
   "id": "6a60b1d3-e2e0-4463-9077-ebb98f1756f4",
   "metadata": {},
   "outputs": [
    {
     "name": "stdout",
     "output_type": "stream",
     "text": [
      "Fuel Suppy System\n",
      "['mpfi']                                  2822\n",
      "['crdi']                                  1535\n",
      "['direct injection']                       662\n",
      "['pgm-fi']                                 212\n",
      "['pgm - fi']                               155\n",
      "['gdi']                                    117\n",
      "['mpi']                                     85\n",
      "['common rail']                             76\n",
      "['efi(electronic fuel injection)']          61\n",
      "['efi']                                     61\n",
      "['tsi']                                     58\n",
      "['sefi']                                    38\n",
      "['pgm-fi (programmed fuel injection)']      37\n",
      "['mpfi ']                                   34\n",
      "['direct injection ']                       29\n",
      "['efi (electronic fuel injection)']         27\n",
      "['electronic injection system']             15\n",
      "['electronic fuel injection']               13\n",
      "['tdci']                                    11\n",
      "['multi-point injection']                   11\n",
      "['cdi']                                     11\n",
      "['common rail direct injection']            10\n",
      "['multi point fuel injection']              10\n",
      "['multipoint injection']                     9\n",
      "['mpfi+lpg']                                 9\n",
      "['ddis']                                     7\n",
      "['direct injection common rail ']            6\n",
      "['common rail ']                             5\n",
      "['gasoline direct injection']                5\n",
      "['common rail direct injection (dci)']       4\n",
      "['pfi']                                      4\n",
      "['electronic fuel injection(efi)']           4\n",
      "['egis']                                     4\n",
      "['efic']                                     4\n",
      "['indirect injection']                       4\n",
      "['dpfi']                                     4\n",
      "['pgm-fi (programmed fuel inje']             4\n",
      "['tgdi']                                     3\n",
      "['advanced common rail']                     3\n",
      "['electric']                                 2\n",
      "['mpfi+cng']                                 2\n",
      "['common rail diesel']                       2\n",
      "['common rail injection']                    2\n",
      "['smpi']                                     2\n",
      "['dedst']                                    2\n",
      "['cng']                                      2\n",
      "['pgm-fi (programmed fuel inject']           1\n",
      "['common rail system']                       1\n",
      "['dual vvt-i']                               1\n",
      "['tdi']                                      1\n",
      "['dohc']                                     1\n",
      "['direct injectio']                          1\n",
      "['intelligent-gas port injection']           1\n",
      "['idi']                                      1\n",
      "['ti-vct']                                   1\n",
      "['efi (electronic fuel injection']           1\n",
      "Name: count, dtype: int64\n"
     ]
    }
   ],
   "source": [
    "# Standardize the values to lowercase to count consistently\n",
    "df_outliers_removed['Fuel Suppy System'] = df_outliers_removed['Fuel Suppy System'].str.lower()\n",
    "\n",
    "# Get the value counts after standardizing\n",
    "fuel_supply_counts = df_outliers_removed['Fuel Suppy System'].value_counts()\n",
    "\n",
    "# Print the full counts\n",
    "print(fuel_supply_counts)"
   ]
  },
  {
   "cell_type": "code",
   "execution_count": 111,
   "id": "395f8299-61a9-4f00-958b-8e19c1379999",
   "metadata": {},
   "outputs": [],
   "source": [
    "df_outliers_removed.drop(['Fuel Suppy System'],axis=1,inplace=True)"
   ]
  },
  {
   "cell_type": "markdown",
   "id": "59c8f91d-c357-4867-b987-eb2c46b366c2",
   "metadata": {},
   "source": [
    "TURBO CHARGER AND SUPER CHARGER"
   ]
  },
  {
   "cell_type": "code",
   "execution_count": 113,
   "id": "668f232e-42b1-4263-b720-e09089b48158",
   "metadata": {},
   "outputs": [
    {
     "name": "stdout",
     "output_type": "stream",
     "text": [
      "Turbo Charger\n",
      "['No']       4094\n",
      "['Yes']      2655\n",
      "['NO']         20\n",
      "['YES']        15\n",
      "['Twin']       10\n",
      "['no']          9\n",
      "['Turbo']       1\n",
      "['yes']         1\n",
      "Name: count, dtype: int64\n",
      "964\n",
      "\n",
      " Super Charger\n",
      "['No']     5962\n",
      "['Yes']       9\n",
      "['NO']        2\n",
      "['yes']       1\n",
      "['no']        1\n",
      "Name: count, dtype: int64\n",
      "1794\n"
     ]
    }
   ],
   "source": [
    "print(df_outliers_removed['Turbo Charger'].value_counts())\n",
    "print(df_outliers_removed['Turbo Charger'].isna().sum())\n",
    "print('\\n',df_outliers_removed['Super Charger'].value_counts())\n",
    "print(df_outliers_removed['Super Charger'].isna().sum())"
   ]
  },
  {
   "cell_type": "code",
   "execution_count": 114,
   "id": "be9fec9d-ebd5-4252-89ca-2a98e7d993bd",
   "metadata": {},
   "outputs": [],
   "source": [
    "# in super charger more than 90% values are No and there are many null values so we drop it and use Turbo charger column instead\n",
    "df_outliers_removed.drop('Super Charger',axis=1,inplace=True)"
   ]
  },
  {
   "cell_type": "code",
   "execution_count": 115,
   "id": "1c8febe9-c99f-4e90-98a6-5c022dd17f2e",
   "metadata": {},
   "outputs": [
    {
     "name": "stdout",
     "output_type": "stream",
     "text": [
      "Turbo Charger\n",
      "False    5087\n",
      "True     2682\n",
      "Name: count, dtype: int64\n",
      "0\n"
     ]
    },
    {
     "name": "stderr",
     "output_type": "stream",
     "text": [
      "C:\\Users\\anand\\AppData\\Local\\Temp\\ipykernel_19784\\297294024.py:15: FutureWarning: Downcasting object dtype arrays on .fillna, .ffill, .bfill is deprecated and will change in a future version. Call result.infer_objects(copy=False) instead. To opt-in to the future behavior, set `pd.set_option('future.no_silent_downcasting', True)`\n",
      "  df_outliers_removed['Turbo Charger'] = df_outliers_removed['Turbo Charger'].map(turbo_mapping).fillna(False)\n"
     ]
    }
   ],
   "source": [
    "# Mapping dictionary to standardize 'Turbo Charger' values \n",
    "# We are Filling the False in Missing Values(NULL)\n",
    "\n",
    "turbo_mapping = { \n",
    "    \"['No']\": False, \n",
    "    \"['no']\": False, \n",
    "    \"['NO']\": False, \n",
    "    \"['Yes']\": True, \n",
    "    \"['yes']\": True, \n",
    "    \"['YES']\": True, \n",
    "    \"['Twin']\": True,  \n",
    "    \"['Turbo']\": True \n",
    "} \n",
    "# Apply the mapping \n",
    "df_outliers_removed['Turbo Charger'] = df_outliers_removed['Turbo Charger'].map(turbo_mapping).fillna(False)\n",
    "\n",
    "# Print the value counts to verify the transformation\n",
    "print(df_outliers_removed['Turbo Charger'].value_counts())\n",
    "\n",
    "# Print the count of missing (NaN) values after applying the mapping\n",
    "print(df_outliers_removed['Turbo Charger'].isna().sum())"
   ]
  },
  {
   "cell_type": "code",
   "execution_count": 116,
   "id": "93d71db3-072b-4efd-9eee-cb9d17d9524e",
   "metadata": {},
   "outputs": [
    {
     "data": {
      "image/png": "[encoded data removed]",
      "text/plain": [
       "<Figure size 1500x1000 with 1 Axes>"
      ]
     },
     "metadata": {},
     "output_type": "display_data"
    }
   ],
   "source": [
    "#plotting\n",
    "plt.figure(figsize=(15, 10))\n",
    "average_prices = df_outliers_removed.groupby('Turbo Charger')['price'].mean().sort_values()\n",
    "average_prices.plot(kind='bar')\n",
    "plt.xticks(rotation=90)\n",
    "plt.title('Average Price by Turbo Charger Types')\n",
    "plt.xlabel('Turbo Charger')\n",
    "plt.ylabel('Average Price')\n",
    "plt.show()"
   ]
  },
  {
   "cell_type": "markdown",
   "id": "237b8867-9e71-4cff-b557-32d46d33e5bf",
   "metadata": {},
   "source": [
    "GEAR BOX"
   ]
  },
  {
   "cell_type": "code",
   "execution_count": 118,
   "id": "a49033ea-caf2-476e-aa92-43dac9ccb4e5",
   "metadata": {},
   "outputs": [
    {
     "data": {
      "text/plain": [
       "0       ['7-Speed DCT']\n",
       "1           ['5 Speed']\n",
       "2           ['5 Speed']\n",
       "3           ['5 Speed']\n",
       "4           ['5 Speed']\n",
       "             ...       \n",
       "8364        ['5-Speed']\n",
       "8365        ['5 Speed']\n",
       "8366        ['7 Speed']\n",
       "8367        ['5 Speed']\n",
       "8368        ['6 Speed']\n",
       "Name: Gear Box, Length: 7769, dtype: object"
      ]
     },
     "execution_count": 118,
     "metadata": {},
     "output_type": "execute_result"
    }
   ],
   "source": [
    "df_outliers_removed['Gear Box']"
   ]
  },
  {
   "cell_type": "code",
   "execution_count": 119,
   "id": "ee67ffc8-d622-4af2-a657-bda866991df8",
   "metadata": {},
   "outputs": [
    {
     "name": "stdout",
     "output_type": "stream",
     "text": [
      "Gear Box\n",
      "['5 Speed']                                     4327\n",
      "['6 Speed']                                     1017\n",
      "['5-Speed']                                      531\n",
      "['6-Speed']                                      230\n",
      "['7 Speed']                                      223\n",
      "                                                ... \n",
      "['Six Speed Geartronic, Six Speed Automati']       1\n",
      "['7 speed']                                        1\n",
      "['6-speed iMT']                                    1\n",
      "['7-speed']                                        1\n",
      "['6 Speed with Sequential Shift']                  1\n",
      "Name: count, Length: 89, dtype: int64\n",
      "77\n"
     ]
    }
   ],
   "source": [
    "print(df_outliers_removed['Gear Box'].value_counts())\n",
    "print(df_outliers_removed['Gear Box'].isna().sum())"
   ]
  },
  {
   "cell_type": "code",
   "execution_count": 120,
   "id": "20583fe5-4b66-4bd3-9d96-e205f2b363bc",
   "metadata": {},
   "outputs": [],
   "source": [
    "# The 'Gear Box' column has numerous unique values so good idea to drop it\n",
    "# Dropping the 'Gear Box' column \n",
    "df_outliers_removed.drop('Gear Box', axis=1, inplace=True)"
   ]
  },
  {
   "cell_type": "markdown",
   "id": "b1c79626-9081-429c-ba51-eccfd72cbe19",
   "metadata": {},
   "source": [
    "DRIVE TYPE"
   ]
  },
  {
   "cell_type": "code",
   "execution_count": 122,
   "id": "bc28b9be-bfb6-47e4-8ad3-901e34ac5888",
   "metadata": {},
   "outputs": [
    {
     "data": {
      "text/plain": [
       "0       ['FWD']\n",
       "1       ['RWD']\n",
       "2           NaN\n",
       "3       ['FWD']\n",
       "4       ['FWD']\n",
       "         ...   \n",
       "8364        NaN\n",
       "8365    ['FWD']\n",
       "8366    ['RWD']\n",
       "8367    ['FWD']\n",
       "8368    ['AWD']\n",
       "Name: Drive Type, Length: 7769, dtype: object"
      ]
     },
     "execution_count": 122,
     "metadata": {},
     "output_type": "execute_result"
    }
   ],
   "source": [
    "df_outliers_removed['Drive Type']"
   ]
  },
  {
   "cell_type": "code",
   "execution_count": 123,
   "id": "6591c2d3-3561-4296-b183-05e4da3ff5b2",
   "metadata": {},
   "outputs": [
    {
     "name": "stdout",
     "output_type": "stream",
     "text": [
      "Drive Type\n",
      "['FWD']                                  5348\n",
      "['RWD']                                   317\n",
      "['2WD']                                   148\n",
      "['AWD']                                   137\n",
      "['4X2']                                    68\n",
      "['4WD']                                    63\n",
      "['2 WD']                                   46\n",
      "['4X4']                                    41\n",
      "['Front Wheel Drive']                      40\n",
      "['FWD ']                                   34\n",
      "['4x2']                                    15\n",
      "['Two Wheel Drive']                        15\n",
      "['All Wheel Drive']                         7\n",
      "['4x4']                                     7\n",
      "['Rear Wheel Drive with ESP']               6\n",
      "['RWD(with MTT)']                           5\n",
      "['Permanent all-wheel drive quattro']       2\n",
      "['4 WD']                                    1\n",
      "['2WD ']                                    1\n",
      "Name: count, dtype: int64\n",
      "1468\n"
     ]
    }
   ],
   "source": [
    "print(df_outliers_removed['Drive Type'].value_counts())\n",
    "print(df_outliers_removed['Drive Type'].isna().sum())"
   ]
  },
  {
   "cell_type": "code",
   "execution_count": 124,
   "id": "3751efa4-7b6c-49df-ac5c-d5dfa32178e3",
   "metadata": {},
   "outputs": [
    {
     "name": "stdout",
     "output_type": "stream",
     "text": [
      "Drive_Type_Classified\n",
      "2WD        5586\n",
      "Unknown    1607\n",
      "AWD/4WD     576\n",
      "Name: count, dtype: int64\n"
     ]
    }
   ],
   "source": [
    "# Define a function to classify Drive Type into three categories\n",
    "def classify_drive_type(drive):\n",
    "    if isinstance(drive, str):  # Check if 'drive' is a string\n",
    "        drive = drive.lower()  # Convert to lowercase for consistency\n",
    "        if 'fwd' in drive or 'front' in drive or 'two wheel' in drive or '2wd' in drive:\n",
    "            return '2WD'\n",
    "        elif 'awd' in drive or '4wd' in drive or '4x4' in drive or 'rwd' in drive or 'rear' in drive:\n",
    "            return 'AWD/4WD'\n",
    "    # Handle missing or unclassified values by returning 'Unknown'\n",
    "    return 'Unknown'\n",
    "\n",
    "# Apply the classification function to the 'Drive Type' column\n",
    "df_outliers_removed['Drive_Type_Classified'] = df_outliers_removed['Drive Type'].apply(classify_drive_type)\n",
    "\n",
    "# Verify the result\n",
    "print(df_outliers_removed['Drive_Type_Classified'].value_counts())"
   ]
  },
  {
   "cell_type": "code",
   "execution_count": 125,
   "id": "0100e953-ccba-4b95-97f2-0f44a8fb973b",
   "metadata": {},
   "outputs": [
    {
     "data": {
      "image/png": "[encoded data removed]",
      "text/plain": [
       "<Figure size 1500x1000 with 1 Axes>"
      ]
     },
     "metadata": {},
     "output_type": "display_data"
    }
   ],
   "source": [
    "#plotting\n",
    "plt.figure(figsize=(15, 10))\n",
    "average_prices = df_outliers_removed.groupby('Drive_Type_Classified')['price'].mean().sort_values()\n",
    "average_prices.plot(kind='bar')\n",
    "plt.xticks(rotation=90)\n",
    "plt.title('Average Price by Drive Type Classified')\n",
    "plt.xlabel('Drive Type Classified')\n",
    "plt.ylabel('Average Price')\n",
    "plt.show()"
   ]
  },
  {
   "cell_type": "code",
   "execution_count": 126,
   "id": "9a8e43c6-8a2d-45ce-bd0c-f8f815ea1058",
   "metadata": {},
   "outputs": [],
   "source": [
    "# drop the old column\n",
    "df_outliers_removed.drop(['Drive Type'],axis=1,inplace=True)"
   ]
  },
  {
   "cell_type": "markdown",
   "id": "f3cd39d7-0e9f-40d8-a03d-dc138cc04fe3",
   "metadata": {},
   "source": [
    "STEERING TYPE"
   ]
  },
  {
   "cell_type": "code",
   "execution_count": 128,
   "id": "ce13cf83-090d-4156-9520-9ba7b1817008",
   "metadata": {},
   "outputs": [
    {
     "data": {
      "text/plain": [
       "0         ['Electric']\n",
       "1           ['Manual']\n",
       "2       ['Electronic']\n",
       "3            ['Power']\n",
       "4            ['Power']\n",
       "             ...      \n",
       "8364      ['Electric']\n",
       "8365         ['Power']\n",
       "8366         ['Power']\n",
       "8367         ['Power']\n",
       "8368         ['Power']\n",
       "Name: Steering Type, Length: 7769, dtype: object"
      ]
     },
     "execution_count": 128,
     "metadata": {},
     "output_type": "execute_result"
    }
   ],
   "source": [
    "df_outliers_removed['Steering Type']"
   ]
  },
  {
   "cell_type": "code",
   "execution_count": 129,
   "id": "98aa3ccf-caee-41fc-bdd9-5c9d51a5a5d1",
   "metadata": {},
   "outputs": [
    {
     "name": "stdout",
     "output_type": "stream",
     "text": [
      "Steering Type\n",
      "['Power']         5925\n",
      "['Electric']      1369\n",
      "['Electronic']     102\n",
      "['Manual']          66\n",
      "['Electrical']      39\n",
      "['power']           29\n",
      "['EPAS']             9\n",
      "['Hydraulic']        2\n",
      "['electric']         1\n",
      "Name: count, dtype: int64\n",
      "227\n"
     ]
    }
   ],
   "source": [
    "print(df_outliers_removed['Steering Type'].value_counts())\n",
    "print(df_outliers_removed['Steering Type'].isna().sum())"
   ]
  },
  {
   "cell_type": "code",
   "execution_count": 130,
   "id": "81ad477b-e5db-489d-87b5-5f229ea35b46",
   "metadata": {},
   "outputs": [
    {
     "name": "stdout",
     "output_type": "stream",
     "text": [
      "Steering_Type_Classified\n",
      "Power       6183\n",
      "Electric    1520\n",
      "Manual        66\n",
      "Name: count, dtype: int64\n"
     ]
    }
   ],
   "source": [
    "# Define a function to classify Steering Type into three categories\n",
    "def classify_steering_type(steering):\n",
    "    if isinstance(steering, str):\n",
    "        steering = steering.lower()  # Convert to lowercase for consistency\n",
    "        if 'power' in steering or 'hydraulic' in steering:\n",
    "            return 'Power'\n",
    "        elif 'electric' in steering or 'electronic' in steering or 'epas' in steering:\n",
    "            return 'Electric'\n",
    "        elif 'manual' in steering:\n",
    "            return 'Manual'\n",
    "\n",
    "    # Handle missing or unclassified values by returning 'Power'\n",
    "    return 'Power'\n",
    "\n",
    "# Apply the classification function to the 'Steering Type' column\n",
    "df_outliers_removed['Steering_Type_Classified'] = df_outliers_removed['Steering Type'].apply(classify_steering_type)\n",
    "\n",
    "# Verify the result\n",
    "print(df_outliers_removed['Steering_Type_Classified'].value_counts())"
   ]
  },
  {
   "cell_type": "code",
   "execution_count": 131,
   "id": "ff308cfc-c2e3-40e6-b476-5c70ec778804",
   "metadata": {},
   "outputs": [
    {
     "data": {
      "image/png": "[encoded data removed]",
      "text/plain": [
       "<Figure size 1500x1000 with 1 Axes>"
      ]
     },
     "metadata": {},
     "output_type": "display_data"
    }
   ],
   "source": [
    "#plotting\n",
    "plt.figure(figsize=(15, 10))\n",
    "average_prices = df_outliers_removed.groupby('Steering_Type_Classified')['price'].mean().sort_values()\n",
    "average_prices.plot(kind='bar')\n",
    "plt.xticks(rotation=90)\n",
    "plt.title('Average Price by Steering Type Classified')\n",
    "plt.xlabel('Steering Type Classified')\n",
    "plt.ylabel('Average Price')\n",
    "plt.show()"
   ]
  },
  {
   "cell_type": "code",
   "execution_count": 132,
   "id": "0c6ace10-36fb-4969-8c71-eefcbb624ca7",
   "metadata": {},
   "outputs": [],
   "source": [
    "# Dropping the 'Steering_Type_Classified' and 'Steering Type' columns \n",
    "df_outliers_removed.drop(['Steering_Type_Classified', 'Steering Type'], axis=1, inplace=True)"
   ]
  },
  {
   "cell_type": "markdown",
   "id": "aa40d767-4b80-45ff-8cbc-d7938db1b3bf",
   "metadata": {},
   "source": [
    "FRONT BRAKE TYPE AND REAR BRAKE TYPE"
   ]
  },
  {
   "cell_type": "code",
   "execution_count": 134,
   "id": "8da16e85-b7ee-46a1-b7be-b779c93c1758",
   "metadata": {},
   "outputs": [
    {
     "name": "stdout",
     "output_type": "stream",
     "text": [
      "Front Brake Type\n",
      "['Disc']                                        5038\n",
      "['Ventilated Disc']                             2322\n",
      "['Disc ']                                         72\n",
      "['Solid Disc']                                    63\n",
      "['Ventilated Discs']                              55\n",
      "['Disc & Caliper Type']                           40\n",
      "['Disk']                                          23\n",
      "['Ventilated Disc ']                              23\n",
      "['Ventilated Disk']                               11\n",
      "['disc']                                           7\n",
      "['Vantilated Disc']                                7\n",
      "[' Disc']                                          6\n",
      "['Ventilated discs']                               6\n",
      "['Ventlated Disc']                                 6\n",
      "['Drum']                                           6\n",
      "['Multilateral Disc']                              6\n",
      "['Ventilated DIsc']                                5\n",
      "['Ventillated Disc']                               3\n",
      "['Booster assisted ventilated disc']               2\n",
      "[' Ventilated Disc']                               2\n",
      "['Vacuum assisted hydraulic dual circuit w']       2\n",
      "['ventilated Disc']                                2\n",
      "['ABS']                                            1\n",
      "['ventilated disc']                                1\n",
      "['Ventilated disc']                                1\n",
      "['Disc, 236 mm']                                   1\n",
      "['Disc brakes']                                    1\n",
      "Name: count, dtype: int64\n",
      "\n",
      " Rear Brake Type\n",
      "['Drum']                                        6277\n",
      "['Disc']                                         966\n",
      "['Solid Disc']                                   119\n",
      "['Ventilated Disc']                               83\n",
      "['Discs']                                         83\n",
      "['Disc & Caliper Type']                           40\n",
      "['Self-Adjusting Drum']                           25\n",
      "['Leading-Trailing Drum']                         17\n",
      "['Ventilated Discs']                              17\n",
      "['Leading & Trailing Drum']                       14\n",
      "['Disc & Drum']                                    7\n",
      "['Ventilated discs']                               6\n",
      "['Drums']                                          6\n",
      "['Drum ']                                          6\n",
      "['Self Adjusting Drums']                           6\n",
      "['Ventilated Disc ']                               6\n",
      "['disc']                                           5\n",
      "['Solid Disc ']                                    5\n",
      "['Ventilated Drum']                                4\n",
      "['self adjusting drums']                           3\n",
      "['Drum in Discs']                                  3\n",
      "['Drum`']                                          3\n",
      "['drum']                                           2\n",
      "['Ventialte Disc']                                 2\n",
      "['Booster assisted drum']                          2\n",
      "['Vacuum assisted hydraulic dual circuit w']       2\n",
      "['Drum in disc']                                   1\n",
      "['Drums 180 mm']                                   1\n",
      "['Self Adjusting Drum']                            1\n",
      "Name: count, dtype: int64\n"
     ]
    }
   ],
   "source": [
    "print(df_outliers_removed['Front Brake Type'].value_counts())\n",
    "print('\\n', df_outliers_removed['Rear Brake Type'].value_counts())"
   ]
  },
  {
   "cell_type": "code",
   "execution_count": 135,
   "id": "08684dad-52a2-49cd-ac7f-18b733ab0a6d",
   "metadata": {},
   "outputs": [],
   "source": [
    "# Dropping the 'Front Brake Type' and 'Rear Brake Type' columns \n",
    "df_outliers_removed.drop(['Front Brake Type', 'Rear Brake Type'], axis=1, inplace=True)"
   ]
  },
  {
   "cell_type": "markdown",
   "id": "962b0afd-13d9-4324-a237-95293ab0f001",
   "metadata": {},
   "source": [
    "TYRE TYPE"
   ]
  },
  {
   "cell_type": "code",
   "execution_count": 137,
   "id": "c6b22aaa-7ced-4418-8160-c3c336323eea",
   "metadata": {},
   "outputs": [
    {
     "name": "stdout",
     "output_type": "stream",
     "text": [
      "Tyre Type\n",
      "['Tubeless,Radial']           4053\n",
      "['Tubeless, Radial']          1354\n",
      "['Tubeless']                  1147\n",
      "['Tubeless Tyres']             403\n",
      "['Radial, Tubeless']           225\n",
      "['Radial']                     121\n",
      "['Radial, Tubless']             82\n",
      "['Tubeless Tyres, Radial']      54\n",
      "['Tubeless,Radial ']            54\n",
      "['Tubeless Radial Tyres']       51\n",
      "['Radial,Tubeless']             42\n",
      "['Tubeless,Radials']            33\n",
      "['Tubless, Radial']             28\n",
      "['tubeless tyre']               14\n",
      "['Runflat']                     11\n",
      "['Run-Flat']                     9\n",
      "['Tubeless ']                    7\n",
      "['Radial Tubeless']              5\n",
      "['Tubeless, Runflat']            4\n",
      "['Tubeless Radials Tyre']        3\n",
      "['Tubeless Radial']              2\n",
      "['Radial with tube']             2\n",
      "['Runflat Tyres']                2\n",
      "['Tubeless Tyre']                2\n",
      "['Radial ']                      1\n",
      "['Tubeless,Runflat']             1\n",
      "['Tubless,Radial']               1\n",
      "['Radial Tyres']                 1\n",
      "['Tubeless, Radials']            1\n",
      "Name: count, dtype: int64\n"
     ]
    }
   ],
   "source": [
    "print(df_outliers_removed['Tyre Type'].value_counts())"
   ]
  },
  {
   "cell_type": "code",
   "execution_count": 138,
   "id": "c77d9530-1c53-424b-aa22-4fd9e5e6662b",
   "metadata": {},
   "outputs": [],
   "source": [
    "# Dropping the 'Tyre Type' columns \n",
    "df_outliers_removed.drop(['Tyre Type'], axis=1, inplace=True)"
   ]
  },
  {
   "cell_type": "markdown",
   "id": "e697300f-48be-4e02-9003-7d990ad3ebba",
   "metadata": {},
   "source": [
    "CITY"
   ]
  },
  {
   "cell_type": "code",
   "execution_count": 140,
   "id": "6ad6830c-2c5c-4bce-bb5e-0028f11bf628",
   "metadata": {},
   "outputs": [
    {
     "name": "stdout",
     "output_type": "stream",
     "text": [
      "city\n",
      "Hyderabad    1411\n",
      "Bangalore    1380\n",
      "Chennai      1324\n",
      "Kolkata      1299\n",
      "Delhi        1293\n",
      "Jaipur       1062\n",
      "Name: count, dtype: int64\n"
     ]
    }
   ],
   "source": [
    "print(df_outliers_removed['city'].value_counts())"
   ]
  },
  {
   "cell_type": "code",
   "execution_count": 141,
   "id": "cacece31-5a4c-4ac6-9609-6235afde4727",
   "metadata": {},
   "outputs": [
    {
     "data": {
      "image/png": "[encoded data removed]",
      "text/plain": [
       "<Figure size 1500x1000 with 1 Axes>"
      ]
     },
     "metadata": {},
     "output_type": "display_data"
    }
   ],
   "source": [
    "#plotting\n",
    "plt.figure(figsize=(15, 10))\n",
    "average_prices = df_outliers_removed.groupby('city')['price'].mean().sort_values()\n",
    "palette = sns.color_palette(\"plasma\", n_colors=len(average_prices))  # Change \"coolwarm\" to any palette name\n",
    "average_prices.plot(kind='bar', color=palette)  # Applying the color palette\n",
    "plt.xticks(rotation=90)\n",
    "plt.title('Average Price by City')\n",
    "plt.xlabel('City')\n",
    "plt.ylabel('Average Price')\n",
    "plt.show()"
   ]
  },
  {
   "cell_type": "code",
   "execution_count": 142,
   "id": "4f962c4e-10cc-4302-b3b1-4cec3727066e",
   "metadata": {},
   "outputs": [],
   "source": [
    "# Dropping the 'owner', 'Fuel Type', 'Ownership', 'Engine Displacement', 'Transmission', 'Year of Manufacture', 'Torque' columns \n",
    "df_outliers_removed.drop(['owner', 'Fuel Type', 'Ownership', 'Engine Displacement', 'Transmission', 'Year of Manufacture', 'Torque'], axis=1, inplace=True)"
   ]
  },
  {
   "cell_type": "code",
   "execution_count": 143,
   "id": "83dc7803-7788-47ff-b50e-58fe7b510c30",
   "metadata": {},
   "outputs": [
    {
     "data": {
      "text/plain": [
       "ft                       0\n",
       "bt                       0\n",
       "km                       0\n",
       "transmission             0\n",
       "ownerNo                  0\n",
       "company                  0\n",
       "model                    0\n",
       "modelYear                0\n",
       "price                    0\n",
       "Insurance Validity       0\n",
       "Color                    0\n",
       "Displacement             0\n",
       "Turbo Charger            0\n",
       "Mileage                  0\n",
       "city                     0\n",
       "RTO_region               0\n",
       "Drive_Type_Classified    0\n",
       "dtype: int64"
      ]
     },
     "execution_count": 143,
     "metadata": {},
     "output_type": "execute_result"
    }
   ],
   "source": [
    "df_outliers_removed.isna().sum()"
   ]
  },
  {
   "cell_type": "code",
   "execution_count": 144,
   "id": "d6f6fd82-07b6-48da-86c6-2c957c6250d5",
   "metadata": {},
   "outputs": [],
   "source": [
    "df_outliers_removed.to_excel('Preprocessed_data.xlsx',index=False)"
   ]
  },
  {
   "cell_type": "code",
   "execution_count": 145,
   "id": "b60a20e9-2db7-416a-b135-365d0c024321",
   "metadata": {},
   "outputs": [
    {
     "data": {
      "text/html": [
       "<div>\n",
       "<style scoped>\n",
       "    .dataframe tbody tr th:only-of-type {\n",
       "        vertical-align: middle;\n",
       "    }\n",
       "\n",
       "    .dataframe tbody tr th {\n",
       "        vertical-align: top;\n",
       "    }\n",
       "\n",
       "    .dataframe thead th {\n",
       "        text-align: right;\n",
       "    }\n",
       "</style>\n",
       "<table border=\"1\" class=\"dataframe\">\n",
       "  <thead>\n",
       "    <tr style=\"text-align: right;\">\n",
       "      <th></th>\n",
       "      <th>ft</th>\n",
       "      <th>bt</th>\n",
       "      <th>km</th>\n",
       "      <th>transmission</th>\n",
       "      <th>ownerNo</th>\n",
       "      <th>company</th>\n",
       "      <th>model</th>\n",
       "      <th>modelYear</th>\n",
       "      <th>price</th>\n",
       "      <th>Insurance Validity</th>\n",
       "      <th>Color</th>\n",
       "      <th>Displacement</th>\n",
       "      <th>Turbo Charger</th>\n",
       "      <th>Mileage</th>\n",
       "      <th>city</th>\n",
       "      <th>RTO_region</th>\n",
       "      <th>Drive_Type_Classified</th>\n",
       "    </tr>\n",
       "  </thead>\n",
       "  <tbody>\n",
       "    <tr>\n",
       "      <th>0</th>\n",
       "      <td>Petrol</td>\n",
       "      <td>SUV</td>\n",
       "      <td>20000.0</td>\n",
       "      <td>Automatic</td>\n",
       "      <td>1</td>\n",
       "      <td>Kia</td>\n",
       "      <td>Kia Sonet</td>\n",
       "      <td>2022</td>\n",
       "      <td>1150000.0</td>\n",
       "      <td>Third Party insurance</td>\n",
       "      <td>Black</td>\n",
       "      <td>998.0</td>\n",
       "      <td>True</td>\n",
       "      <td>19.23</td>\n",
       "      <td>Chennai</td>\n",
       "      <td>Tamil Nadu</td>\n",
       "      <td>2WD</td>\n",
       "    </tr>\n",
       "    <tr>\n",
       "      <th>1</th>\n",
       "      <td>Petrol</td>\n",
       "      <td>Minivans</td>\n",
       "      <td>20687.0</td>\n",
       "      <td>Manual</td>\n",
       "      <td>1</td>\n",
       "      <td>Maruti</td>\n",
       "      <td>Maruti Eeco</td>\n",
       "      <td>2015</td>\n",
       "      <td>415000.0</td>\n",
       "      <td>Comprehensive</td>\n",
       "      <td>Other</td>\n",
       "      <td>1196.0</td>\n",
       "      <td>False</td>\n",
       "      <td>15.37</td>\n",
       "      <td>Chennai</td>\n",
       "      <td>Tamil Nadu</td>\n",
       "      <td>AWD/4WD</td>\n",
       "    </tr>\n",
       "    <tr>\n",
       "      <th>2</th>\n",
       "      <td>Petrol</td>\n",
       "      <td>SUV</td>\n",
       "      <td>30000.0</td>\n",
       "      <td>Manual</td>\n",
       "      <td>1</td>\n",
       "      <td>Nissan</td>\n",
       "      <td>Nissan Magnite</td>\n",
       "      <td>2021</td>\n",
       "      <td>750000.0</td>\n",
       "      <td>Third Party insurance</td>\n",
       "      <td>Other</td>\n",
       "      <td>999.0</td>\n",
       "      <td>True</td>\n",
       "      <td>20.00</td>\n",
       "      <td>Chennai</td>\n",
       "      <td>Tamil Nadu</td>\n",
       "      <td>Unknown</td>\n",
       "    </tr>\n",
       "    <tr>\n",
       "      <th>3</th>\n",
       "      <td>Petrol</td>\n",
       "      <td>Hatchback</td>\n",
       "      <td>59247.0</td>\n",
       "      <td>Manual</td>\n",
       "      <td>1</td>\n",
       "      <td>Hyundai</td>\n",
       "      <td>Hyundai i10</td>\n",
       "      <td>2015</td>\n",
       "      <td>398000.0</td>\n",
       "      <td>Comprehensive</td>\n",
       "      <td>Silver</td>\n",
       "      <td>1086.0</td>\n",
       "      <td>False</td>\n",
       "      <td>19.81</td>\n",
       "      <td>Chennai</td>\n",
       "      <td>Tamil Nadu</td>\n",
       "      <td>2WD</td>\n",
       "    </tr>\n",
       "    <tr>\n",
       "      <th>4</th>\n",
       "      <td>Petrol</td>\n",
       "      <td>Hatchback</td>\n",
       "      <td>50000.0</td>\n",
       "      <td>Manual</td>\n",
       "      <td>1</td>\n",
       "      <td>Honda</td>\n",
       "      <td>Honda Jazz</td>\n",
       "      <td>2015</td>\n",
       "      <td>550000.0</td>\n",
       "      <td>Third Party insurance</td>\n",
       "      <td>Other</td>\n",
       "      <td>1199.0</td>\n",
       "      <td>False</td>\n",
       "      <td>18.70</td>\n",
       "      <td>Chennai</td>\n",
       "      <td>Karnataka</td>\n",
       "      <td>2WD</td>\n",
       "    </tr>\n",
       "  </tbody>\n",
       "</table>\n",
       "</div>"
      ],
      "text/plain": [
       "       ft         bt       km transmission  ownerNo  company           model  \\\n",
       "0  Petrol        SUV  20000.0    Automatic        1      Kia       Kia Sonet   \n",
       "1  Petrol   Minivans  20687.0       Manual        1   Maruti     Maruti Eeco   \n",
       "2  Petrol        SUV  30000.0       Manual        1   Nissan  Nissan Magnite   \n",
       "3  Petrol  Hatchback  59247.0       Manual        1  Hyundai     Hyundai i10   \n",
       "4  Petrol  Hatchback  50000.0       Manual        1    Honda      Honda Jazz   \n",
       "\n",
       "   modelYear      price     Insurance Validity   Color  Displacement  \\\n",
       "0       2022  1150000.0  Third Party insurance   Black         998.0   \n",
       "1       2015   415000.0          Comprehensive   Other        1196.0   \n",
       "2       2021   750000.0  Third Party insurance   Other         999.0   \n",
       "3       2015   398000.0          Comprehensive  Silver        1086.0   \n",
       "4       2015   550000.0  Third Party insurance   Other        1199.0   \n",
       "\n",
       "   Turbo Charger  Mileage     city  RTO_region Drive_Type_Classified  \n",
       "0           True    19.23  Chennai  Tamil Nadu                   2WD  \n",
       "1          False    15.37  Chennai  Tamil Nadu               AWD/4WD  \n",
       "2           True    20.00  Chennai  Tamil Nadu               Unknown  \n",
       "3          False    19.81  Chennai  Tamil Nadu                   2WD  \n",
       "4          False    18.70  Chennai   Karnataka                   2WD  "
      ]
     },
     "execution_count": 145,
     "metadata": {},
     "output_type": "execute_result"
    }
   ],
   "source": [
    "df_outliers_removed.head()"
   ]
  },
  {
   "cell_type": "markdown",
   "id": "4c701e1c-56e9-4c1c-bd4c-309e8822cace",
   "metadata": {},
   "source": [
    "PREPARING MODELS"
   ]
  },
  {
   "cell_type": "markdown",
   "id": "3bd28571-70f5-4722-90b5-4884e3af4a5e",
   "metadata": {},
   "source": [
    "Linear Regression, Decision Trees, Random Forests, Gradient Boosting Machines."
   ]
  },
  {
   "cell_type": "code",
   "execution_count": 148,
   "id": "ba6cef4c-9014-4ae5-9227-7aaffeb8389d",
   "metadata": {},
   "outputs": [],
   "source": [
    "from sklearn.model_selection import train_test_split\n",
    "from sklearn.linear_model import LinearRegression\n",
    "from sklearn.tree import DecisionTreeRegressor\n",
    "from sklearn.ensemble import RandomForestRegressor\n",
    "from sklearn.ensemble import GradientBoostingRegressor\n",
    "from sklearn.metrics import mean_squared_error, mean_absolute_error, r2_score, mean_absolute_percentage_error\n",
    "from sklearn.model_selection import cross_val_score\n",
    "from sklearn.model_selection import GridSearchCV\n",
    "from sklearn.model_selection import RandomizedSearchCV\n",
    "from xgboost import XGBRegressor # Ensure you have xgboost installed\n",
    "from sklearn.linear_model import LinearRegression, Ridge, Lasso"
   ]
  },
  {
   "cell_type": "code",
   "execution_count": 149,
   "id": "ebe8e593-8501-4cdc-8782-a26593c401de",
   "metadata": {},
   "outputs": [
    {
     "name": "stdout",
     "output_type": "stream",
     "text": [
      "Training data shape: (6215, 339)\n",
      "Testing data shape: (1554, 339)\n"
     ]
    }
   ],
   "source": [
    "# Load the dataset \n",
    "df_cars = pd.read_excel('Preprocessed_data.xlsx') \n",
    "\n",
    "# Identify categorical and numerical columns \n",
    "cat_features = df_cars.select_dtypes(include=['object']).columns \n",
    "num_features = df_cars.select_dtypes(include=['number']).columns \n",
    "\n",
    "# Separate features (X) and target (y) \n",
    "X = df_cars.drop('price', axis=1) \n",
    "y = df_cars['price'] \n",
    "\n",
    "# Encode categorical features \n",
    "X_encoded = pd.get_dummies(X, columns=cat_features, drop_first=True) \n",
    "\n",
    "# Split into training and testing sets \n",
    "X_train, X_test, y_train, y_test = train_test_split(X_encoded, y, test_size=0.2, random_state=42, shuffle=True) \n",
    "print(f\"Training data shape: {X_train.shape}\") \n",
    "print(f\"Testing data shape: {X_test.shape}\")"
   ]
  },
  {
   "cell_type": "code",
   "execution_count": 150,
   "id": "d16bcacd-4139-449c-ac48-fdfc2d7a06e9",
   "metadata": {},
   "outputs": [
    {
     "name": "stdout",
     "output_type": "stream",
     "text": [
      "                            Train MSE      Train MAE  Train R2  Train MAPE  \\\n",
      "Random Forest            3.841252e+09   33576.133567  0.988791    5.346963   \n",
      "XGBoost Regressor        7.184288e+09   58373.898129  0.979037   10.112668   \n",
      "Decision Tree Regressor  3.127184e+07     360.793778  0.999909    0.049620   \n",
      "Linear Regression        3.140051e+10  108588.348025  0.908375   20.611544   \n",
      "\n",
      "                             Test MSE       Test MAE   Test R2  Test MAPE  \n",
      "Random Forest            2.628988e+10   93155.430836  0.923414  14.603232  \n",
      "XGBoost Regressor        2.497535e+10   92859.841525  0.927243  14.009535  \n",
      "Decision Tree Regressor  4.760648e+10  122504.998713  0.861315  18.380142  \n",
      "Linear Regression        4.609904e+10  124338.792707  0.865707  22.608574  \n"
     ]
    }
   ],
   "source": [
    "# Model Development\n",
    "# Define models\n",
    "regressors = {\n",
    "    'Random Forest': RandomForestRegressor(),\n",
    "    'XGBoost Regressor': XGBRegressor(),\n",
    "    'Decision Tree Regressor': DecisionTreeRegressor(),\n",
    "    'Linear Regression': LinearRegression()\n",
    "}\n",
    "\n",
    "# Store model performance results\n",
    "performance_results = {}\n",
    "\n",
    "# Loop through each model\n",
    "for model_name, model in regressors.items():\n",
    "    # Train the model\n",
    "    model.fit(X_train, y_train)\n",
    "    \n",
    "    # Predictions\n",
    "    train_preds = model.predict(X_train)\n",
    "    test_preds = model.predict(X_test)\n",
    "    \n",
    "    # Compute performance metrics for training and testing sets\n",
    "    metrics = {\n",
    "        'Train MSE': mean_squared_error(y_train, train_preds),\n",
    "        'Train MAE': mean_absolute_error(y_train, train_preds),\n",
    "        'Train R2': r2_score(y_train, train_preds),\n",
    "        'Train MAPE': mean_absolute_percentage_error(y_train, train_preds) * 100,\n",
    "        'Test MSE': mean_squared_error(y_test, test_preds),\n",
    "        'Test MAE': mean_absolute_error(y_test, test_preds),\n",
    "        'Test R2': r2_score(y_test, test_preds),\n",
    "        'Test MAPE': mean_absolute_percentage_error(y_test, test_preds) * 100\n",
    "    }\n",
    "    \n",
    "    performance_results[model_name] = metrics\n",
    "\n",
    "# Convert results to DataFrame\n",
    "results_df = pd.DataFrame(performance_results).T\n",
    "\n",
    "# Display results\n",
    "print(results_df)"
   ]
  },
  {
   "cell_type": "code",
   "execution_count": 151,
   "id": "f3b31c76-ff5d-48e6-a12c-f6fa160b09b2",
   "metadata": {},
   "outputs": [
    {
     "name": "stdout",
     "output_type": "stream",
     "text": [
      "Fitting 5 folds for each of 100 candidates, totalling 500 fits\n"
     ]
    },
    {
     "name": "stderr",
     "output_type": "stream",
     "text": [
      "C:\\Users\\anand\\anaconda3\\Lib\\site-packages\\sklearn\\model_selection\\_validation.py:540: FitFailedWarning: \n",
      "260 fits failed out of a total of 500.\n",
      "The score on these train-test partitions for these parameters will be set to nan.\n",
      "If these failures are not expected, you can try to debug them by setting error_score='raise'.\n",
      "\n",
      "Below are more details about the failures:\n",
      "--------------------------------------------------------------------------------\n",
      "147 fits failed with the following error:\n",
      "Traceback (most recent call last):\n",
      "  File \"C:\\Users\\anand\\anaconda3\\Lib\\site-packages\\sklearn\\model_selection\\_validation.py\", line 888, in _fit_and_score\n",
      "    estimator.fit(X_train, y_train, **fit_params)\n",
      "  File \"C:\\Users\\anand\\anaconda3\\Lib\\site-packages\\sklearn\\base.py\", line 1466, in wrapper\n",
      "    estimator._validate_params()\n",
      "  File \"C:\\Users\\anand\\anaconda3\\Lib\\site-packages\\sklearn\\base.py\", line 666, in _validate_params\n",
      "    validate_parameter_constraints(\n",
      "  File \"C:\\Users\\anand\\anaconda3\\Lib\\site-packages\\sklearn\\utils\\_param_validation.py\", line 95, in validate_parameter_constraints\n",
      "    raise InvalidParameterError(\n",
      "sklearn.utils._param_validation.InvalidParameterError: The 'max_features' parameter of RandomForestRegressor must be an int in the range [1, inf), a float in the range (0.0, 1.0], a str among {'log2', 'sqrt'} or None. Got 'auto' instead.\n",
      "\n",
      "--------------------------------------------------------------------------------\n",
      "113 fits failed with the following error:\n",
      "Traceback (most recent call last):\n",
      "  File \"C:\\Users\\anand\\anaconda3\\Lib\\site-packages\\sklearn\\model_selection\\_validation.py\", line 888, in _fit_and_score\n",
      "    estimator.fit(X_train, y_train, **fit_params)\n",
      "  File \"C:\\Users\\anand\\anaconda3\\Lib\\site-packages\\sklearn\\base.py\", line 1466, in wrapper\n",
      "    estimator._validate_params()\n",
      "  File \"C:\\Users\\anand\\anaconda3\\Lib\\site-packages\\sklearn\\base.py\", line 666, in _validate_params\n",
      "    validate_parameter_constraints(\n",
      "  File \"C:\\Users\\anand\\anaconda3\\Lib\\site-packages\\sklearn\\utils\\_param_validation.py\", line 95, in validate_parameter_constraints\n",
      "    raise InvalidParameterError(\n",
      "sklearn.utils._param_validation.InvalidParameterError: The 'max_features' parameter of RandomForestRegressor must be an int in the range [1, inf), a float in the range (0.0, 1.0], a str among {'sqrt', 'log2'} or None. Got 'auto' instead.\n",
      "\n",
      "  warnings.warn(some_fits_failed_message, FitFailedWarning)\n",
      "C:\\Users\\anand\\anaconda3\\Lib\\site-packages\\sklearn\\model_selection\\_search.py:1103: UserWarning: One or more of the test scores are non-finite: [-0.26781048         nan -0.25673023 -0.41162912         nan         nan\n",
      "         nan         nan -0.26923367 -0.32042912 -0.41468928 -0.28848556\n",
      " -0.28955684         nan -0.30319515 -0.40862011 -0.42502419 -0.2635508\n",
      " -0.31986241 -0.26507624         nan         nan -0.2534034  -0.26586631\n",
      "         nan -0.27154786         nan         nan         nan -0.24477807\n",
      " -0.32807364         nan         nan -0.28883193 -0.41658147 -0.23684757\n",
      "         nan -0.41349926 -0.26900172         nan -0.26344699 -0.2665106\n",
      "         nan         nan         nan -0.41402514         nan -0.2400744\n",
      "         nan         nan         nan -0.32059818         nan         nan\n",
      " -0.28709859         nan -0.41213796         nan         nan         nan\n",
      "         nan         nan         nan -0.3202883          nan         nan\n",
      "         nan -0.2392255  -0.23280246 -0.31978852 -0.41841915         nan\n",
      "         nan         nan -0.41241051         nan         nan         nan\n",
      " -0.261789           nan -0.28949684 -0.42538769 -0.28874116 -0.26634129\n",
      "         nan -0.21309835         nan         nan         nan         nan\n",
      " -0.31994252         nan -0.29035942 -0.2905638  -0.21269726         nan\n",
      " -0.31947727         nan         nan         nan]\n",
      "  warnings.warn(\n"
     ]
    },
    {
     "name": "stdout",
     "output_type": "stream",
     "text": [
      "Best Random Forest Parameters: {'n_estimators': 400, 'min_samples_split': 10, 'min_samples_leaf': 1, 'max_features': 'sqrt', 'max_depth': 30, 'bootstrap': False}\n",
      "Training Metrics:\n",
      "MSE: 12624154737.39729\n",
      "MAE: 69226.19888032248\n",
      "R^2: 0.9631635201302595\n",
      "MAPE: 12.69251325103949%\n",
      "\n",
      "Test Metrics:\n",
      "MSE: 40039687845.37226\n",
      "MAE: 114626.12855533675\n",
      "R^2: 0.883358330177773\n",
      "MAPE: 20.09383716631879%\n"
     ]
    }
   ],
   "source": [
    "# Random Forest Tuning\n",
    "rf_model = RandomForestRegressor(random_state=42)\n",
    "\n",
    "# Define the parameter grid for RandomizedSearchCV\n",
    "param_distributions = {\n",
    "    'n_estimators': [100, 200, 300, 400, 500],\n",
    "    'max_depth': [None, 10, 20, 30, 40],\n",
    "    'min_samples_split': [2, 5, 10],\n",
    "    'min_samples_leaf': [1, 2, 4],\n",
    "    'max_features': ['auto', 'sqrt'],\n",
    "    'bootstrap': [True, False]\n",
    "}\n",
    "\n",
    "# Hyperparameter Tuning\n",
    "rf_random_search = RandomizedSearchCV(\n",
    "    rf_model,\n",
    "    param_distributions=param_distributions,\n",
    "    n_iter=100,\n",
    "    scoring='neg_mean_absolute_percentage_error',\n",
    "    cv=5,\n",
    "    n_jobs=-1,\n",
    "    verbose=1,\n",
    "    random_state=42\n",
    ")\n",
    "\n",
    "# Fit the RandomizedSearchCV\n",
    "rf_random_search.fit(X_train, y_train)\n",
    "\n",
    "# Get the best parameters\n",
    "best_rf_params = rf_random_search.best_params_\n",
    "print(f\"Best Random Forest Parameters: {best_rf_params}\")\n",
    "\n",
    "# Initialize and train the Random Forest model with best parameters\n",
    "best_rf_model = RandomForestRegressor(\n",
    "    n_estimators=best_rf_params['n_estimators'],\n",
    "    max_depth=best_rf_params['max_depth'],\n",
    "    min_samples_split=best_rf_params['min_samples_split'],\n",
    "    min_samples_leaf=best_rf_params['min_samples_leaf'],\n",
    "    max_features=best_rf_params['max_features'],\n",
    "    bootstrap=best_rf_params['bootstrap'],\n",
    "    random_state=42\n",
    ")\n",
    "\n",
    "# Fit the model on the training data\n",
    "best_rf_model.fit(X_train, y_train)\n",
    "\n",
    "# Make predictions on training data\n",
    "y_train_pred = best_rf_model.predict(X_train)\n",
    "\n",
    "# Calculate metrics for the training set\n",
    "train_mse = mean_squared_error(y_train, y_train_pred)\n",
    "train_mae = mean_absolute_error(y_train, y_train_pred)\n",
    "train_r2 = r2_score(y_train, y_train_pred)\n",
    "train_mape = mean_absolute_percentage_error(y_train, y_train_pred) * 100\n",
    "\n",
    "# Print metrics for the training set\n",
    "print(f\"Training Metrics:\")\n",
    "print(f\"MSE: {train_mse}\")\n",
    "print(f\"MAE: {train_mae}\")\n",
    "print(f\"R^2: {train_r2}\")\n",
    "print(f\"MAPE: {train_mape}%\")\n",
    "\n",
    "# Make predictions on test data\n",
    "y_test_pred = best_rf_model.predict(X_test)\n",
    "\n",
    "# Calculate metrics for the test set\n",
    "test_mse = mean_squared_error(y_test, y_test_pred)\n",
    "test_mae = mean_absolute_error(y_test, y_test_pred)\n",
    "test_r2 = r2_score(y_test, y_test_pred)\n",
    "test_mape = mean_absolute_percentage_error(y_test, y_test_pred) * 100\n",
    "\n",
    "# Print metrics for the test set\n",
    "print(f\"\\nTest Metrics:\")\n",
    "print(f\"MSE: {test_mse}\")\n",
    "print(f\"MAE: {test_mae}\")\n",
    "print(f\"R^2: {test_r2}\")\n",
    "print(f\"MAPE: {test_mape}%\")"
   ]
  },
  {
   "cell_type": "code",
   "execution_count": 152,
   "id": "ad17d4ee-f677-40ab-9493-633b550794c4",
   "metadata": {},
   "outputs": [
    {
     "name": "stdout",
     "output_type": "stream",
     "text": [
      "Fitting 5 folds for each of 50 candidates, totalling 250 fits\n",
      "Best XGBoost Parameters: {'subsample': 0.8, 'n_estimators': 100, 'max_depth': 10, 'learning_rate': 0.2, 'colsample_bytree': 1.0}\n",
      "XGBoost Training Metrics:\n",
      "MSE: 1401196888.1597707\n",
      "MAE: 27559.817960579243\n",
      "R^2: 0.9959113966805764\n",
      "MAPE: 5.395620822259386%\n",
      "XGBoost Test Metrics:\n",
      "MSE: 21730232618.5624\n",
      "MAE: 84820.34815898488\n",
      "R^2: 0.9366965439879797\n",
      "MAPE: 13.096781696173638%\n"
     ]
    }
   ],
   "source": [
    "# XGBoost : Tuning using RandomizedSearchCV and testing again \n",
    "xgb_model = XGBRegressor(random_state=42) \n",
    "\n",
    "# Define hyperparameter grid for RandomizedSearchCV \n",
    "param_distributions_xgb = { \n",
    "    'n_estimators': [100, 200, 300], \n",
    "    'max_depth': [3, 5, 10, 15, 20], \n",
    "    'learning_rate': [0.01, 0.1, 0.2, 0.3], \n",
    "    'subsample': [0.6, 0.8, 1.0], \n",
    "    'colsample_bytree': [0.6, 0.8, 1.0] } \n",
    "\n",
    "# Perform RandomizedSearchCV \n",
    "xgb_random_search = RandomizedSearchCV( \n",
    "    estimator=xgb_model, \n",
    "    param_distributions=param_distributions_xgb, \n",
    "    n_iter=50, \n",
    "    scoring='neg_mean_absolute_percentage_error', \n",
    "    cv=5, \n",
    "    n_jobs=-1, \n",
    "    verbose=1, \n",
    "    random_state=42 \n",
    ") \n",
    "\n",
    "# Fit the model \n",
    "xgb_random_search.fit(X_train, y_train) \n",
    "\n",
    "# Get the best parameters \n",
    "best_xgb_params = xgb_random_search.best_params_ \n",
    "print(f\"Best XGBoost Parameters: {best_xgb_params}\") \n",
    "\n",
    "# Initialize and train the XGBoost model with the best parameters \n",
    "best_xgb_model = XGBRegressor( \n",
    "    n_estimators=best_xgb_params['n_estimators'], \n",
    "    max_depth=best_xgb_params['max_depth'], \n",
    "    learning_rate=best_xgb_params['learning_rate'], \n",
    "    subsample=best_xgb_params['subsample'], \n",
    "    colsample_bytree=best_xgb_params['colsample_bytree'], \n",
    "    random_state=42 \n",
    ") \n",
    "best_xgb_model.fit(X_train, y_train) \n",
    "\n",
    "# Make predictions on the training set \n",
    "y_train_pred_xgb = best_xgb_model.predict(X_train) \n",
    "\n",
    "# Calculate metrics for the training set \n",
    "mse_train_xgb = mean_squared_error(y_train, y_train_pred_xgb) \n",
    "mae_train_xgb = mean_absolute_error(y_train, y_train_pred_xgb) \n",
    "r2_train_xgb = r2_score(y_train, y_train_pred_xgb) \n",
    "mape_train_xgb = mean_absolute_percentage_error(y_train, y_train_pred_xgb) * 100 \n",
    "\n",
    "# Print metrics for the training set \n",
    "print(f\"XGBoost Training Metrics:\") \n",
    "print(f\"MSE: {mse_train_xgb}\") \n",
    "print(f\"MAE: {mae_train_xgb}\") \n",
    "print(f\"R^2: {r2_train_xgb}\") \n",
    "print(f\"MAPE: {mape_train_xgb}%\") \n",
    "\n",
    "# Make predictions on the test set \n",
    "y_test_pred_xgb = best_xgb_model.predict(X_test) \n",
    "\n",
    "# Calculate metrics for the test set \n",
    "mse_test_xgb = mean_squared_error(y_test, y_test_pred_xgb) \n",
    "mae_test_xgb = mean_absolute_error(y_test, y_test_pred_xgb) \n",
    "r2_test_xgb = r2_score(y_test, y_test_pred_xgb) \n",
    "mape_test_xgb = mean_absolute_percentage_error(y_test, y_test_pred_xgb) * 100 \n",
    "\n",
    "# Print metrics for the test set \n",
    "print(f\"XGBoost Test Metrics:\") \n",
    "print(f\"MSE: {mse_test_xgb}\") \n",
    "print(f\"MAE: {mae_test_xgb}\") \n",
    "print(f\"R^2: {r2_test_xgb}\") \n",
    "print(f\"MAPE: {mape_test_xgb}%\")"
   ]
  },
  {
   "cell_type": "code",
   "execution_count": 153,
   "id": "d1d2cbc2-5153-42c3-bcba-a6332462a41d",
   "metadata": {},
   "outputs": [
    {
     "name": "stdout",
     "output_type": "stream",
     "text": [
      "                     MSE_train      MAE_train  R2_train  MAPE_train  \\\n",
      "Ridge Regression  3.344285e+10  114220.243950  0.902416   21.720475   \n",
      "Lasso Regression  3.140732e+10  108646.221814  0.908355   20.619504   \n",
      "\n",
      "                      MSE_test       MAE_test   R2_test  MAPE_test  \n",
      "Ridge Regression  4.590865e+10  126786.009280  0.866261  23.428494  \n",
      "Lasso Regression  4.604618e+10  124379.096646  0.865861  22.614829  \n"
     ]
    },
    {
     "name": "stderr",
     "output_type": "stream",
     "text": [
      "C:\\Users\\anand\\anaconda3\\Lib\\site-packages\\sklearn\\linear_model\\_coordinate_descent.py:697: ConvergenceWarning: Objective did not converge. You might want to increase the number of iterations, check the scale of the features or consider increasing regularisation. Duality gap: 9.763e+13, tolerance: 2.130e+11\n",
      "  model = cd_fast.enet_coordinate_descent(\n"
     ]
    }
   ],
   "source": [
    "# Store the results\n",
    "models = {\n",
    "    'Ridge Regression': Ridge(),\n",
    "    'Lasso Regression': Lasso(),\n",
    "}\n",
    "\n",
    "results = {}\n",
    "\n",
    "for model_name, model in models.items():\n",
    "    model.fit(X_train, y_train)\n",
    "    y_train_pred = model.predict(X_train)\n",
    "    y_test_pred = model.predict(X_test)\n",
    "\n",
    "    results[model_name] = {\n",
    "        'MSE_train': mean_squared_error(y_train, y_train_pred),\n",
    "        'MAE_train': mean_absolute_error(y_train, y_train_pred),\n",
    "        'R2_train': r2_score(y_train, y_train_pred),\n",
    "        'MAPE_train': mean_absolute_percentage_error(y_train, y_train_pred) * 100,\n",
    "        'MSE_test': mean_squared_error(y_test, y_test_pred),\n",
    "        'MAE_test': mean_absolute_error(y_test, y_test_pred),\n",
    "        'R2_test': r2_score(y_test, y_test_pred),\n",
    "        'MAPE_test': mean_absolute_percentage_error(y_test, y_test_pred) * 100\n",
    "    }\n",
    "\n",
    "# Convert results to DataFrame\n",
    "results_df = pd.DataFrame(results).T\n",
    "print(results_df)"
   ]
  },
  {
   "cell_type": "markdown",
   "id": "f12bafa2-5503-4063-a290-8a9ddebdde3a",
   "metadata": {},
   "source": [
    "SAVE THE MODEL AND THE COLUMN NAMES FOR ENCODENG IS GREAT PRACTICE TO USE DEPLOYMENT."
   ]
  },
  {
   "cell_type": "code",
   "execution_count": 155,
   "id": "88365555-153a-4956-9cd7-a24b2da587ad",
   "metadata": {},
   "outputs": [],
   "source": [
    "import joblib"
   ]
  },
  {
   "cell_type": "code",
   "execution_count": 156,
   "id": "67ea0aa7-ae60-46f8-a09b-91e474fe9664",
   "metadata": {},
   "outputs": [
    {
     "name": "stdout",
     "output_type": "stream",
     "text": [
      "Model and encoded columns have been saved successfully.\n"
     ]
    }
   ],
   "source": [
    "# Save the trained XGBoost model\n",
    "joblib.dump(best_xgb_model, 'xgboost_ml_model.pkl')\n",
    "\n",
    "# Save column names for encoding\n",
    "encoded_columns = list(X_encoded.columns)\n",
    "joblib.dump(encoded_columns, 'encoded_columns.pkl')\n",
    "\n",
    "print(\"Model and encoded columns have been saved successfully.\")"
   ]
  }
 ],
 "metadata": {
  "kernelspec": {
   "display_name": "Python 3 (ipykernel)",
   "language": "python",
   "name": "python3"
  },
  "language_info": {
   "codemirror_mode": {
    "name": "ipython",
    "version": 3
   },
   "file_extension": ".py",
   "mimetype": "text/x-python",
   "name": "python",
   "nbconvert_exporter": "python",
   "pygments_lexer": "ipython3",
   "version": "3.12.4"
  }
 },
 "nbformat": 4,
 "nbformat_minor": 5
}
